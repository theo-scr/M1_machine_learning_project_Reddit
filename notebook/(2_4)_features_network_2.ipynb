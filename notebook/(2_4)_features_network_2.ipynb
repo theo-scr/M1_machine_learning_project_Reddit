{
  "nbformat": 4,
  "nbformat_minor": 0,
  "metadata": {
    "colab": {
      "name": "(2-4)_features_network2.ipynb",
      "provenance": [],
      "collapsed_sections": []
    },
    "kernelspec": {
      "name": "python3",
      "display_name": "Python 3"
    },
    "language_info": {
      "name": "python"
    }
  },
  "cells": [
    {
      "cell_type": "markdown",
      "metadata": {
        "id": "j4Xn6bMc-zuv"
      },
      "source": [
        "<strong>Date :</strong> Créé le 03 Avril 2021| Mis à jour le 07 Avril 2021 </strong>\n",
        "\n",
        "<strong>Compétition Kaggle - Team Théo\n",
        "    \n",
        "@auteur : </strong>Théo VEDIS\n",
        "\n",
        "<strong>(2-4)_features_network2\n",
        "      \n",
        "Description :</strong> Le but de ce Notebook est de créer un second réseau à partir de nos données Reddit et d'en déduire des features qui seront utilisées dans notre modèle de Machine Learning. Ce réseau aura pour noeuds les auteurs de commentaires. Si un auteur répond à un commentaire d'un autre auteur, alors cette relation est matérialisée par une arête (dirigée dans le sens auteur qui répond vers l'autre auteur). \n",
        "\n",
        "Temps d'exécution du Notebook : environ  20min."
      ]
    },
    {
      "cell_type": "markdown",
      "metadata": {
        "id": "imAEsGzZGyz-"
      },
      "source": [
        "# Importation des librairies"
      ]
    },
    {
      "cell_type": "code",
      "metadata": {
        "id": "BcvnUgP4Gyz4"
      },
      "source": [
        "# Librairies générales\n",
        "import pandas as pd\n",
        "import numpy as np\n",
        "from tqdm import tqdm \n",
        "import json\n",
        "\n",
        "# Librairie pour les réseaux \n",
        "import networkx as nx"
      ],
      "execution_count": 1,
      "outputs": []
    },
    {
      "cell_type": "markdown",
      "metadata": {
        "id": "KlUNxsXdGMpP"
      },
      "source": [
        "# Chemin "
      ]
    },
    {
      "cell_type": "code",
      "metadata": {
        "id": "kSQqV2ywsIFY"
      },
      "source": [
        "# Chemin relatif vers le dossier \"data\" (inutile de le changer).\n",
        "pathFile = \"../data/\" "
      ],
      "execution_count": 2,
      "outputs": []
    },
    {
      "cell_type": "markdown",
      "metadata": {
        "id": "VbfRB4fBGy0I"
      },
      "source": [
        "# Chargement des données d'entrée\n",
        "\n"
      ]
    },
    {
      "cell_type": "code",
      "metadata": {
        "id": "p1QqfYCOsQNj"
      },
      "source": [
        "# On récupère le fichier créé dans le précédent Notebook. \n",
        "with open( pathFile + 'df_features_network1.json') as json_data:\n",
        "    data_dict = json.load(json_data)\n",
        "\n",
        "# On transforme le dictionnaire en DataFrame \n",
        "df = pd.DataFrame(data_dict)\n",
        "\n",
        "# On libère de la RAM en supprimant la variable data_dict qui ne nous servira plus\n",
        "del data_dict"
      ],
      "execution_count": 3,
      "outputs": []
    },
    {
      "cell_type": "code",
      "metadata": {
        "colab": {
          "base_uri": "https://localhost:8080/",
          "height": 226
        },
        "id": "t3YwrSyELHw8",
        "outputId": "2abd6a3d-e3f3-4b51-ea1e-e833870ce664"
      },
      "source": [
        "df.head()"
      ],
      "execution_count": 4,
      "outputs": [
        {
          "output_type": "execute_result",
          "data": {
            "text/html": [
              "<div>\n",
              "<style scoped>\n",
              "    .dataframe tbody tr th:only-of-type {\n",
              "        vertical-align: middle;\n",
              "    }\n",
              "\n",
              "    .dataframe tbody tr th {\n",
              "        vertical-align: top;\n",
              "    }\n",
              "\n",
              "    .dataframe thead th {\n",
              "        text-align: right;\n",
              "    }\n",
              "</style>\n",
              "<table border=\"1\" class=\"dataframe\">\n",
              "  <thead>\n",
              "    <tr style=\"text-align: right;\">\n",
              "      <th></th>\n",
              "      <th>created_utc</th>\n",
              "      <th>ups</th>\n",
              "      <th>link_id</th>\n",
              "      <th>name</th>\n",
              "      <th>author</th>\n",
              "      <th>parent_id</th>\n",
              "      <th>is_parent_comment</th>\n",
              "      <th>is_author_deleted</th>\n",
              "      <th>is_body_deleted</th>\n",
              "      <th>bot_comment</th>\n",
              "      <th>length_comment_chars_before_NLP</th>\n",
              "      <th>length_comment_chars_after_NLP</th>\n",
              "      <th>length_comment_words</th>\n",
              "      <th>nb_stopwords</th>\n",
              "      <th>sentiment</th>\n",
              "      <th>sentiment_child</th>\n",
              "      <th>depth</th>\n",
              "      <th>nb_direct_resp</th>\n",
              "      <th>nb_total_resp</th>\n",
              "    </tr>\n",
              "  </thead>\n",
              "  <tbody>\n",
              "    <tr>\n",
              "      <th>0</th>\n",
              "      <td>1430438400</td>\n",
              "      <td>3.0</td>\n",
              "      <td>t3_34f9rh</td>\n",
              "      <td>t1_cqug90j</td>\n",
              "      <td>jesse9o3</td>\n",
              "      <td>t1_cqug2sr</td>\n",
              "      <td>1</td>\n",
              "      <td>0</td>\n",
              "      <td>0</td>\n",
              "      <td>0</td>\n",
              "      <td>119</td>\n",
              "      <td>59</td>\n",
              "      <td>8</td>\n",
              "      <td>14</td>\n",
              "      <td>neg</td>\n",
              "      <td>0</td>\n",
              "      <td>2</td>\n",
              "      <td>0</td>\n",
              "      <td>0</td>\n",
              "    </tr>\n",
              "    <tr>\n",
              "      <th>1</th>\n",
              "      <td>1430438400</td>\n",
              "      <td>3.0</td>\n",
              "      <td>t3_34fvry</td>\n",
              "      <td>t1_cqug90k</td>\n",
              "      <td>beltfedshooter</td>\n",
              "      <td>t3_34fvry</td>\n",
              "      <td>0</td>\n",
              "      <td>0</td>\n",
              "      <td>0</td>\n",
              "      <td>0</td>\n",
              "      <td>48</td>\n",
              "      <td>13</td>\n",
              "      <td>2</td>\n",
              "      <td>7</td>\n",
              "      <td>neg</td>\n",
              "      <td>0</td>\n",
              "      <td>2</td>\n",
              "      <td>0</td>\n",
              "      <td>0</td>\n",
              "    </tr>\n",
              "    <tr>\n",
              "      <th>2</th>\n",
              "      <td>1430438400</td>\n",
              "      <td>5.0</td>\n",
              "      <td>t3_34ffo5</td>\n",
              "      <td>t1_cqug90z</td>\n",
              "      <td>InterimFatGuy</td>\n",
              "      <td>t1_cqu80zb</td>\n",
              "      <td>1</td>\n",
              "      <td>0</td>\n",
              "      <td>0</td>\n",
              "      <td>0</td>\n",
              "      <td>4</td>\n",
              "      <td>4</td>\n",
              "      <td>1</td>\n",
              "      <td>0</td>\n",
              "      <td>neu</td>\n",
              "      <td>0</td>\n",
              "      <td>2</td>\n",
              "      <td>0</td>\n",
              "      <td>0</td>\n",
              "    </tr>\n",
              "    <tr>\n",
              "      <th>3</th>\n",
              "      <td>1430438401</td>\n",
              "      <td>1.0</td>\n",
              "      <td>t3_34aqsn</td>\n",
              "      <td>t1_cqug91c</td>\n",
              "      <td>JuanTutrego</td>\n",
              "      <td>t1_cqtdj4m</td>\n",
              "      <td>1</td>\n",
              "      <td>0</td>\n",
              "      <td>0</td>\n",
              "      <td>0</td>\n",
              "      <td>54</td>\n",
              "      <td>15</td>\n",
              "      <td>3</td>\n",
              "      <td>12</td>\n",
              "      <td>neg</td>\n",
              "      <td>0</td>\n",
              "      <td>2</td>\n",
              "      <td>0</td>\n",
              "      <td>0</td>\n",
              "    </tr>\n",
              "    <tr>\n",
              "      <th>4</th>\n",
              "      <td>1430438401</td>\n",
              "      <td>101.0</td>\n",
              "      <td>t3_34f9rh</td>\n",
              "      <td>t1_cqug91e</td>\n",
              "      <td>dcblackbelt</td>\n",
              "      <td>t1_cquc4rc</td>\n",
              "      <td>1</td>\n",
              "      <td>0</td>\n",
              "      <td>0</td>\n",
              "      <td>0</td>\n",
              "      <td>241</td>\n",
              "      <td>164</td>\n",
              "      <td>24</td>\n",
              "      <td>20</td>\n",
              "      <td>pos</td>\n",
              "      <td>0</td>\n",
              "      <td>2</td>\n",
              "      <td>1</td>\n",
              "      <td>2</td>\n",
              "    </tr>\n",
              "  </tbody>\n",
              "</table>\n",
              "</div>"
            ],
            "text/plain": [
              "   created_utc    ups    link_id  ... depth nb_direct_resp nb_total_resp\n",
              "0   1430438400    3.0  t3_34f9rh  ...     2              0             0\n",
              "1   1430438400    3.0  t3_34fvry  ...     2              0             0\n",
              "2   1430438400    5.0  t3_34ffo5  ...     2              0             0\n",
              "3   1430438401    1.0  t3_34aqsn  ...     2              0             0\n",
              "4   1430438401  101.0  t3_34f9rh  ...     2              1             2\n",
              "\n",
              "[5 rows x 19 columns]"
            ]
          },
          "metadata": {
            "tags": []
          },
          "execution_count": 4
        }
      ]
    },
    {
      "cell_type": "markdown",
      "metadata": {
        "id": "uFFxouuKBioz"
      },
      "source": [
        "# Création du réseau n°2\n",
        "Pour rappel, ce réseau aura pour noeuds les auteurs de commentaires. Si un auteur répond à un commentaire d'un autre auteur, alors cette relation est matérialisée par une arête (dirigée dans le sens auteur qui répond vers l'autre auteur). "
      ]
    },
    {
      "cell_type": "code",
      "metadata": {
        "id": "WKfseeDrvzj5"
      },
      "source": [
        "# On commence par supprimer tous les auteurs \"deleted\" (en gardant une copie du dataframe complet)\n",
        "df_copy = df.copy()\n",
        "df.drop(index=df[df[\"author\"] == \"[deleted]\"][\"author\"].index, axis=1, inplace=True)"
      ],
      "execution_count": 5,
      "outputs": []
    },
    {
      "cell_type": "code",
      "metadata": {
        "colab": {
          "base_uri": "https://localhost:8080/"
        },
        "id": "dnnJ_i6j-u0T",
        "outputId": "924e842b-68f4-4939-9aaf-fd894dc68f37"
      },
      "source": [
        "len(set(df.author))"
      ],
      "execution_count": 6,
      "outputs": [
        {
          "output_type": "execute_result",
          "data": {
            "text/plain": [
              "570734"
            ]
          },
          "metadata": {
            "tags": []
          },
          "execution_count": 6
        }
      ]
    },
    {
      "cell_type": "markdown",
      "metadata": {
        "id": "2eQ7dwSIJrPz"
      },
      "source": [
        "Notre graphe sera constitué de 570,734 noeuds. "
      ]
    },
    {
      "cell_type": "code",
      "metadata": {
        "id": "PXZ7m64pvQBN"
      },
      "source": [
        "# Création d'un réseau/graphe dirigé vide\n",
        "g = nx.DiGraph()"
      ],
      "execution_count": 7,
      "outputs": []
    },
    {
      "cell_type": "markdown",
      "metadata": {
        "id": "CzKSP774Gy0W"
      },
      "source": [
        "## Ajout des noeuds "
      ]
    },
    {
      "cell_type": "code",
      "metadata": {
        "id": "JMUvSvqZvVra"
      },
      "source": [
        "g.add_nodes_from(df[\"author\"], type=\"author\")"
      ],
      "execution_count": 8,
      "outputs": []
    },
    {
      "cell_type": "markdown",
      "metadata": {
        "id": "_m_sTEnJGy0f"
      },
      "source": [
        "## Ajout des arêtes "
      ]
    },
    {
      "cell_type": "markdown",
      "metadata": {
        "id": "-jtKtBwSGy0g"
      },
      "source": [
        "L'idée ici est de considérer chaque paire (`author`, `parent_author`) et de créer une arête par paire. Pour cela, on crée d'abord un dictionnaire qui permet de mettre en relation un identifiant de commentaire `name` à un auteur. Ensuite, grâce à ce DataFrame, on constitue les paires (`author`, `parent_author`) pour chaque commentaire. "
      ]
    },
    {
      "cell_type": "code",
      "metadata": {
        "colab": {
          "base_uri": "https://localhost:8080/"
        },
        "id": "-p_g5f7bw5W9",
        "outputId": "828f471e-eadd-4230-fed6-769c8b7856dd"
      },
      "source": [
        "# Dictionnaire commentaires-auteurs\n",
        "dict_name_author = dict([(id,aut) for id, aut in zip(df['name'], df['author'])])\n",
        "\n",
        "# Liste qui contiendra les paires 'author', 'parent_author'.\n",
        "authors = []\n",
        "# On parcourt le DataFrame en récupérant l'auteur du commentaire et son parent\n",
        "for author, parent in zip(tqdm(df[\"author\"]), df[\"parent_id\"]):\n",
        "    \n",
        "    try : \n",
        "        # Grâce au dictionnaire on transforme l'identifiant du parent en son auteur\n",
        "        parent_author = dict_name_author[parent]\n",
        "        authors.append((author, parent_author))\n",
        "    except : \n",
        "        pass"
      ],
      "execution_count": 9,
      "outputs": [
        {
          "output_type": "stream",
          "text": [
            "100%|██████████| 3922963/3922963 [00:04<00:00, 830048.53it/s]\n"
          ],
          "name": "stderr"
        }
      ]
    },
    {
      "cell_type": "code",
      "metadata": {
        "colab": {
          "base_uri": "https://localhost:8080/"
        },
        "id": "Nwu3TEkJ_Cj2",
        "outputId": "28582248-16ba-4b19-efb3-60fc61b0a94f"
      },
      "source": [
        "len(set(authors))"
      ],
      "execution_count": 10,
      "outputs": [
        {
          "output_type": "execute_result",
          "data": {
            "text/plain": [
              "2015831"
            ]
          },
          "metadata": {
            "tags": []
          },
          "execution_count": 10
        }
      ]
    },
    {
      "cell_type": "markdown",
      "metadata": {
        "id": "2hStn6psLPLw"
      },
      "source": [
        "Notre réseau sera constitué de plus de 2 millions de relations. "
      ]
    },
    {
      "cell_type": "code",
      "metadata": {
        "id": "jVUsAZV92akR"
      },
      "source": [
        "# Ajout des arêtes. \n",
        "g.add_edges_from(authors, link_type=\"parent\")"
      ],
      "execution_count": 11,
      "outputs": []
    },
    {
      "cell_type": "markdown",
      "metadata": {
        "id": "uADYQtZTKWlJ"
      },
      "source": [
        "## Caractéristiques du graphe"
      ]
    },
    {
      "cell_type": "code",
      "metadata": {
        "colab": {
          "base_uri": "https://localhost:8080/"
        },
        "id": "cyaOGkQbKaj0",
        "outputId": "cba7c39e-0e5b-4f9d-88fd-9acb79aa0bc6"
      },
      "source": [
        "print(\"Nombre de noeuds : \", len(g.nodes))\n",
        "print(\"Nombre d'arêtes : \", len(g.edges))"
      ],
      "execution_count": 12,
      "outputs": [
        {
          "output_type": "stream",
          "text": [
            "Nombre de noeuds :  570734\n",
            "Nombre d'arêtes :  2015831\n"
          ],
          "name": "stdout"
        }
      ]
    },
    {
      "cell_type": "markdown",
      "metadata": {
        "id": "eE-R-2EBJ_DH"
      },
      "source": [
        "Tout s'est bien passé puisqu'il y a bel et bien 570 734 noeuds et 2 015 831 arêtes dans le réseau (comme ce qui avait été anoncé précédemment)."
      ]
    },
    {
      "cell_type": "markdown",
      "metadata": {
        "id": "xjdhSpcsExoi"
      },
      "source": [
        "# Création de features "
      ]
    },
    {
      "cell_type": "markdown",
      "metadata": {
        "id": "lk011wZgGUJY"
      },
      "source": [
        "## (1) Centralité d'un noeud \n",
        "Dans un réseau (normalement plutôt non-dirigé mais fonctionne sur les réseau dirigé également), la centralité d'un noeud est liée à son implication avec d'autres acteurs, sa participation dans de nombreux liens. Peu importe si la proéminence est due à la réception ou à la transmission de nombreux liens.\n",
        "\n",
        "Il existe plusieurs métriques permettant de mesurer la centralité, mais pour toutes l'objectif est de mesurer à quel point un noeud est impliqué dans le réseau, à quel point il est central. Intuitivement, plus l'acteur est connecté plus la centralité sera importante. \n",
        "\n",
        "Dans notre projet, <strong> plus la centralité de l'auteur d'un commentaire sera importante, plus son score a de bonnes chances d'être élevé</strong> car l'auteur étant au centre du réseau, son commentaire aura une plus forte visibilité qu'un commentaire ayant un auteur en périphérie."
      ]
    },
    {
      "cell_type": "markdown",
      "metadata": {
        "id": "mDcF8HuWQfBU"
      },
      "source": [
        "### 1-1 Degré de centralité \n",
        "La première métrique est calculée à partir du degré d'un auteur. On ne distingue pas les degrés entrants (commentaires reçus pour un auteur) ou sortants (commentaires émis par un auteur). \n",
        "Interprétation :\n",
        "- Valeur élevée : contact direct avec de nombreux autres auteurs\n",
        "- Valeur faible : pas actif, auteur périphérique \n",
        "\n",
        "Remarque : Ce sera la centralité degré normalisée qui sera calculée. "
      ]
    },
    {
      "cell_type": "code",
      "metadata": {
        "id": "ate7yCQXQdRp"
      },
      "source": [
        "# Dictionnaire associant à chaque noeud leur centralité degré\n",
        "degrees = nx.centrality.degree_centrality(g)"
      ],
      "execution_count": 13,
      "outputs": []
    },
    {
      "cell_type": "code",
      "metadata": {
        "id": "s0rZekdmSssp",
        "colab": {
          "base_uri": "https://localhost:8080/"
        },
        "outputId": "b30aabfc-04eb-46ae-cb0d-459379f39de0"
      },
      "source": [
        "# A partir du dictionnaire précédent, on associe à chaque commentaire, la\n",
        "# centralité degré de leur auteur.\n",
        "df_copy['author_centrality_degree'] = [degrees[author]\n",
        "                                       if author in degrees else 0 for author in tqdm(df_copy['author'])]"
      ],
      "execution_count": 14,
      "outputs": [
        {
          "output_type": "stream",
          "text": [
            "100%|██████████| 4234970/4234970 [00:03<00:00, 1317395.78it/s]\n"
          ],
          "name": "stderr"
        }
      ]
    },
    {
      "cell_type": "code",
      "metadata": {
        "colab": {
          "base_uri": "https://localhost:8080/"
        },
        "id": "lQZvTolgTj-G",
        "outputId": "d4d0cdab-33f6-4f9d-c7d8-e09d993eba31"
      },
      "source": [
        "# Résultat \n",
        "df_copy['author_centrality_degree'][:5]"
      ],
      "execution_count": 15,
      "outputs": [
        {
          "output_type": "execute_result",
          "data": {
            "text/plain": [
              "0    0.000138\n",
              "1    0.000005\n",
              "2    0.000126\n",
              "3    0.000000\n",
              "4    0.000004\n",
              "Name: author_centrality_degree, dtype: float64"
            ]
          },
          "metadata": {
            "tags": []
          },
          "execution_count": 15
        }
      ]
    },
    {
      "cell_type": "markdown",
      "metadata": {
        "id": "R4Ra_K-rVXEC"
      },
      "source": [
        "### 1-2 Centralité liée aux vecteurs propres\n",
        "Pour cette métrique, l'idée est que l'importance d'un noeud dépend de l'importance de ses voisins (définition récursive). \n",
        "\n",
        "Remarque : Bien que généralement les différentes métriques de centralité sont corrélées positivement (quand ce n'est pas le cas cela met en évidence des noeuds cractéristiques), nous avons fait le choix , à ce stade, d'en garder plusieurs. C'est lors de l'apprentissage du modèle prédictif et surtout son amélioration que nous supprimerons peut être quelqu'unes de ces métriques."
      ]
    },
    {
      "cell_type": "code",
      "metadata": {
        "id": "kEIGzkuWVggf"
      },
      "source": [
        "# Temps exécution : 40s \n",
        "# Dictionnaire associant à chaque noeud leur centralité \"eigenvector\"\n",
        "eigenvectors = nx.eigenvector_centrality(g)"
      ],
      "execution_count": 16,
      "outputs": []
    },
    {
      "cell_type": "code",
      "metadata": {
        "colab": {
          "base_uri": "https://localhost:8080/"
        },
        "id": "1GDxFo3zWz7h",
        "outputId": "c8e5044f-0bf0-4353-aac9-0483530f06e8"
      },
      "source": [
        "# A partir du dictionnaire précédent, on associe à chaque commentaire, la\n",
        "# centralité eigenvector de leur auteur.\n",
        "df_copy['author_centrality_ev'] = [eigenvectors[author]\n",
        "                                   if author in eigenvectors else 0 for author in tqdm(df_copy['author'])]\n",
        "# Résultat \n",
        "df_copy['author_centrality_ev'][:5]"
      ],
      "execution_count": 17,
      "outputs": [
        {
          "output_type": "stream",
          "text": [
            "100%|██████████| 4234970/4234970 [00:03<00:00, 1296850.53it/s]\n"
          ],
          "name": "stderr"
        },
        {
          "output_type": "execute_result",
          "data": {
            "text/plain": [
              "0    1.312352e-03\n",
              "1    2.167334e-19\n",
              "2    1.712427e-03\n",
              "3    2.167334e-19\n",
              "4    5.092290e-05\n",
              "Name: author_centrality_ev, dtype: float64"
            ]
          },
          "metadata": {
            "tags": []
          },
          "execution_count": 17
        }
      ]
    },
    {
      "cell_type": "markdown",
      "metadata": {
        "id": "ZW1IbDdfYmE3"
      },
      "source": [
        "### 1-3 Intermédiarité et proximité \n",
        "Nous aurions aimé calculer ces deux autres métriques vues en cours. Cependant, le graphe étant tellement important (2millions de relations) qu'après une nuit d'exécution, l'algortihme n'était toujours pas fini (arrêté au bout de 18h). \n",
        "Nous n'aurons donc pas de features liées à la centralité intermédiaire ou proximité. "
      ]
    },
    {
      "cell_type": "code",
      "metadata": {
        "id": "VCj2bVWo_Rwx"
      },
      "source": [
        "# Temps exécution : > 18h \n",
        "# closeness = nx.centrality.closeness_centrality(g)\n",
        "# betwenness = nx.centrality.betweenness_centrality(g)"
      ],
      "execution_count": 18,
      "outputs": []
    },
    {
      "cell_type": "markdown",
      "metadata": {
        "id": "bb8Wti1_Yzar"
      },
      "source": [
        "## (2) Prestige d'un noeud \n",
        "Comme pour la centrlité, son objectif est de mesurer l'importance d'un noeud dans un réseau. Cependant, il est un peu plus subtile que cette dernière puisqu'il distingue les relations entrantes des relations sortantes (il se calcule uniquement sur les graphes dirigés donc). Un noeud prestigieux est un noeud souvent référencé (dans notre cas un auteur qui reçoit beaucoup de commentaires).  \n",
        "\n",
        "Une fois de plus, plusieurs métriques sont possibles."
      ]
    },
    {
      "cell_type": "markdown",
      "metadata": {
        "id": "hv7JOLbCcuSF"
      },
      "source": [
        "### 2-1 Prestige - degré \n",
        "Comme pour la centralité, la première métrique est liée au degré d'un noeud, sauf qu'ici on ne considère que les noeuds entrants. "
      ]
    },
    {
      "cell_type": "code",
      "metadata": {
        "id": "x9zu4HgvcsMT"
      },
      "source": [
        "prestige_degrees = nx.in_degree_centrality(g)"
      ],
      "execution_count": 19,
      "outputs": []
    },
    {
      "cell_type": "code",
      "metadata": {
        "colab": {
          "base_uri": "https://localhost:8080/"
        },
        "id": "9Ww2qDkbcsV_",
        "outputId": "fbc65bcf-7833-469c-b736-f935aaabb640"
      },
      "source": [
        "df_copy['author_prestige_degree'] = [prestige_degrees[author] if author in prestige_degrees else 0 for author in tqdm(df_copy['author'])]\n",
        "df_copy['author_prestige_degree'][:5]"
      ],
      "execution_count": 20,
      "outputs": [
        {
          "output_type": "stream",
          "text": [
            "100%|██████████| 4234970/4234970 [00:03<00:00, 1283012.81it/s]\n"
          ],
          "name": "stderr"
        },
        {
          "output_type": "execute_result",
          "data": {
            "text/plain": [
              "0    0.000072\n",
              "1    0.000000\n",
              "2    0.000051\n",
              "3    0.000000\n",
              "4    0.000002\n",
              "Name: author_prestige_degree, dtype: float64"
            ]
          },
          "metadata": {
            "tags": []
          },
          "execution_count": 20
        }
      ]
    },
    {
      "cell_type": "markdown",
      "metadata": {
        "id": "uzWmV9Sqep65"
      },
      "source": [
        "### 2-2 Autre prestige \n",
        "Comme pour la centralité, les autres métriques prennent trop de temps à être calculesé. Nous nous contenterons uniquement du prestige degré. <br> \n",
        "De plus, la librairie 'networkw' n'a pas de fonction qui permet de calculer directement ces autres métriques, ainsi si nous le faisions à la main, les fonctions seraient encore moins optimisées et prendraient énormément de temps. "
      ]
    },
    {
      "cell_type": "markdown",
      "metadata": {
        "id": "zJ3yhrzeh_Ty"
      },
      "source": [
        "# Sauvegarde "
      ]
    },
    {
      "cell_type": "code",
      "metadata": {
        "colab": {
          "base_uri": "https://localhost:8080/",
          "height": 226
        },
        "id": "yeiwzBfDiBf6",
        "outputId": "e8775d73-68b8-41d8-b309-e63251c124da"
      },
      "source": [
        "df_copy.head()"
      ],
      "execution_count": 21,
      "outputs": [
        {
          "output_type": "execute_result",
          "data": {
            "text/html": [
              "<div>\n",
              "<style scoped>\n",
              "    .dataframe tbody tr th:only-of-type {\n",
              "        vertical-align: middle;\n",
              "    }\n",
              "\n",
              "    .dataframe tbody tr th {\n",
              "        vertical-align: top;\n",
              "    }\n",
              "\n",
              "    .dataframe thead th {\n",
              "        text-align: right;\n",
              "    }\n",
              "</style>\n",
              "<table border=\"1\" class=\"dataframe\">\n",
              "  <thead>\n",
              "    <tr style=\"text-align: right;\">\n",
              "      <th></th>\n",
              "      <th>created_utc</th>\n",
              "      <th>ups</th>\n",
              "      <th>link_id</th>\n",
              "      <th>name</th>\n",
              "      <th>author</th>\n",
              "      <th>parent_id</th>\n",
              "      <th>is_parent_comment</th>\n",
              "      <th>is_author_deleted</th>\n",
              "      <th>is_body_deleted</th>\n",
              "      <th>bot_comment</th>\n",
              "      <th>length_comment_chars_before_NLP</th>\n",
              "      <th>length_comment_chars_after_NLP</th>\n",
              "      <th>length_comment_words</th>\n",
              "      <th>nb_stopwords</th>\n",
              "      <th>sentiment</th>\n",
              "      <th>sentiment_child</th>\n",
              "      <th>depth</th>\n",
              "      <th>nb_direct_resp</th>\n",
              "      <th>nb_total_resp</th>\n",
              "      <th>author_centrality_degree</th>\n",
              "      <th>author_centrality_ev</th>\n",
              "      <th>author_prestige_degree</th>\n",
              "    </tr>\n",
              "  </thead>\n",
              "  <tbody>\n",
              "    <tr>\n",
              "      <th>0</th>\n",
              "      <td>1430438400</td>\n",
              "      <td>3.0</td>\n",
              "      <td>t3_34f9rh</td>\n",
              "      <td>t1_cqug90j</td>\n",
              "      <td>jesse9o3</td>\n",
              "      <td>t1_cqug2sr</td>\n",
              "      <td>1</td>\n",
              "      <td>0</td>\n",
              "      <td>0</td>\n",
              "      <td>0</td>\n",
              "      <td>119</td>\n",
              "      <td>59</td>\n",
              "      <td>8</td>\n",
              "      <td>14</td>\n",
              "      <td>neg</td>\n",
              "      <td>0</td>\n",
              "      <td>2</td>\n",
              "      <td>0</td>\n",
              "      <td>0</td>\n",
              "      <td>0.000138</td>\n",
              "      <td>1.312352e-03</td>\n",
              "      <td>0.000072</td>\n",
              "    </tr>\n",
              "    <tr>\n",
              "      <th>1</th>\n",
              "      <td>1430438400</td>\n",
              "      <td>3.0</td>\n",
              "      <td>t3_34fvry</td>\n",
              "      <td>t1_cqug90k</td>\n",
              "      <td>beltfedshooter</td>\n",
              "      <td>t3_34fvry</td>\n",
              "      <td>0</td>\n",
              "      <td>0</td>\n",
              "      <td>0</td>\n",
              "      <td>0</td>\n",
              "      <td>48</td>\n",
              "      <td>13</td>\n",
              "      <td>2</td>\n",
              "      <td>7</td>\n",
              "      <td>neg</td>\n",
              "      <td>0</td>\n",
              "      <td>2</td>\n",
              "      <td>0</td>\n",
              "      <td>0</td>\n",
              "      <td>0.000005</td>\n",
              "      <td>2.167334e-19</td>\n",
              "      <td>0.000000</td>\n",
              "    </tr>\n",
              "    <tr>\n",
              "      <th>2</th>\n",
              "      <td>1430438400</td>\n",
              "      <td>5.0</td>\n",
              "      <td>t3_34ffo5</td>\n",
              "      <td>t1_cqug90z</td>\n",
              "      <td>InterimFatGuy</td>\n",
              "      <td>t1_cqu80zb</td>\n",
              "      <td>1</td>\n",
              "      <td>0</td>\n",
              "      <td>0</td>\n",
              "      <td>0</td>\n",
              "      <td>4</td>\n",
              "      <td>4</td>\n",
              "      <td>1</td>\n",
              "      <td>0</td>\n",
              "      <td>neu</td>\n",
              "      <td>0</td>\n",
              "      <td>2</td>\n",
              "      <td>0</td>\n",
              "      <td>0</td>\n",
              "      <td>0.000126</td>\n",
              "      <td>1.712427e-03</td>\n",
              "      <td>0.000051</td>\n",
              "    </tr>\n",
              "    <tr>\n",
              "      <th>3</th>\n",
              "      <td>1430438401</td>\n",
              "      <td>1.0</td>\n",
              "      <td>t3_34aqsn</td>\n",
              "      <td>t1_cqug91c</td>\n",
              "      <td>JuanTutrego</td>\n",
              "      <td>t1_cqtdj4m</td>\n",
              "      <td>1</td>\n",
              "      <td>0</td>\n",
              "      <td>0</td>\n",
              "      <td>0</td>\n",
              "      <td>54</td>\n",
              "      <td>15</td>\n",
              "      <td>3</td>\n",
              "      <td>12</td>\n",
              "      <td>neg</td>\n",
              "      <td>0</td>\n",
              "      <td>2</td>\n",
              "      <td>0</td>\n",
              "      <td>0</td>\n",
              "      <td>0.000000</td>\n",
              "      <td>2.167334e-19</td>\n",
              "      <td>0.000000</td>\n",
              "    </tr>\n",
              "    <tr>\n",
              "      <th>4</th>\n",
              "      <td>1430438401</td>\n",
              "      <td>101.0</td>\n",
              "      <td>t3_34f9rh</td>\n",
              "      <td>t1_cqug91e</td>\n",
              "      <td>dcblackbelt</td>\n",
              "      <td>t1_cquc4rc</td>\n",
              "      <td>1</td>\n",
              "      <td>0</td>\n",
              "      <td>0</td>\n",
              "      <td>0</td>\n",
              "      <td>241</td>\n",
              "      <td>164</td>\n",
              "      <td>24</td>\n",
              "      <td>20</td>\n",
              "      <td>pos</td>\n",
              "      <td>0</td>\n",
              "      <td>2</td>\n",
              "      <td>1</td>\n",
              "      <td>2</td>\n",
              "      <td>0.000004</td>\n",
              "      <td>5.092290e-05</td>\n",
              "      <td>0.000002</td>\n",
              "    </tr>\n",
              "  </tbody>\n",
              "</table>\n",
              "</div>"
            ],
            "text/plain": [
              "   created_utc    ups  ... author_centrality_ev author_prestige_degree\n",
              "0   1430438400    3.0  ...         1.312352e-03               0.000072\n",
              "1   1430438400    3.0  ...         2.167334e-19               0.000000\n",
              "2   1430438400    5.0  ...         1.712427e-03               0.000051\n",
              "3   1430438401    1.0  ...         2.167334e-19               0.000000\n",
              "4   1430438401  101.0  ...         5.092290e-05               0.000002\n",
              "\n",
              "[5 rows x 22 columns]"
            ]
          },
          "metadata": {
            "tags": []
          },
          "execution_count": 21
        }
      ]
    },
    {
      "cell_type": "code",
      "metadata": {
        "id": "j1tlEcu1UW7r"
      },
      "source": [
        "# Sauvegarde DataFrame dans un fichier \n",
        "df_copy.to_json(pathFile + \"df_features_network2.json\") "
      ],
      "execution_count": 22,
      "outputs": []
    },
    {
      "cell_type": "markdown",
      "metadata": {
        "id": "_buFzJgcMeyQ"
      },
      "source": [
        "# (3) Communautés \n",
        "A travers ce réseau, l'extraction de communautés semblait être pertinente. Nous pensions que détecter des groupes d'auteurs qui intéragissent souvent ensemble (et rarement avec d'autres auteurs ne faisant pas partie de leur communauté), pouvait être un indicateur permettant de prédire le score d'un commentaire."
      ]
    },
    {
      "cell_type": "markdown",
      "metadata": {
        "id": "R8egVOM3N6EN"
      },
      "source": [
        "Nous avons essayer une grande partie des algortihmes implémentés dans la librairie NetworkX, des algortihmes vus en cours (Clique Percolation), manipuler en TP (Girvan Newman, bipartition de Kernighan–Lin, Fluid communities algorithm), ou même de nouveaux algorithmes (Naive Greddy Modularity, Label propagation, etc). Cependant, une fois de plus, à cause de l'importance du nombre de noeuds, une grande majorité des algortihmes mettaient trop de temps à s'exécuter. L'inconvénient des méthodes implémentées dans les libraires est que nous ne savions pas le temps d'exécution restant (au contraire de nos méthodes en utilisant le TQDM). Ainsi, après quelques heures d'exécution, nous interrompions l'exécution sans savoir si elle allait se terminer dans 5h ou 5min... "
      ]
    },
    {
      "cell_type": "code",
      "metadata": {
        "id": "3IH05kTYZG_n"
      },
      "source": [
        "# Pour la détection de communautés, il faut utiliser un graphe non-dirigé\n",
        "g = g.to_undirected()"
      ],
      "execution_count": 23,
      "outputs": []
    },
    {
      "cell_type": "code",
      "metadata": {
        "id": "xbp4IdSuUXDy"
      },
      "source": [
        "# ngm = list(nx.community._naive_greedy_modularity_communities(g))\n",
        "# gn = list(nx.community.girvan_newman(g))\n",
        "# fluid = list(nx.community.asyn_fluidc(g, 3))\n",
        "# label_propa = list(nx.community.label_propagation_communities(g))"
      ],
      "execution_count": 24,
      "outputs": []
    },
    {
      "cell_type": "markdown",
      "metadata": {
        "id": "JDVrU8YXTUD8"
      },
      "source": [
        "L'un des deux seuls algortihmes qui nous a donné des résultats était la bipartition de Kernighan–Lin. Comme son nom l'indique, cet algortihme permet de séparer le réseau en deux. Ici, étant donné que le réseau était consitué de 500 000 auteurs, le séparer seulement en deux nous semblait être un peu juste pour que cela nous aide à prédire le score d'un commentaire. De plus, les métriques évaluant la qualité de ce partitionament nous indiquaient que la répartition n'était pas bonne. Nous avons décidé de ne pas en faire une feature. \n"
      ]
    },
    {
      "cell_type": "code",
      "metadata": {
        "colab": {
          "base_uri": "https://localhost:8080/"
        },
        "id": "4gyc3Us0TSil",
        "outputId": "ba8634eb-42f8-4ce8-a13a-eefbcbf577b7"
      },
      "source": [
        "KL = nx.community.kernighan_lin_bisection(g)\n",
        "nx.community.quality.coverage(g, KL)"
      ],
      "execution_count": 25,
      "outputs": [
        {
          "output_type": "execute_result",
          "data": {
            "text/plain": [
              "0.5008972716698323"
            ]
          },
          "metadata": {
            "tags": []
          },
          "execution_count": 25
        }
      ]
    },
    {
      "cell_type": "markdown",
      "metadata": {
        "id": "yVMVGEqDTYlO"
      },
      "source": [
        "L'autre algorithme  qui fonctionnait, était CPM (Clique Percolation Method).Cependant, nous n'avons pas créé une feature à partir de lui pour plusieurs raisons. Tout d'abord, comme c'est un algorithme qui permet de détecter des communautés qui se chevauchent (un auteur peut appartenir à plusieurs communautés ou à aucune), son résultat n'est pas une partition. Ainsi, les métriques permettant d'évaluer la qualité d'un partitionnement (modularité, couverture, performance) ne fonctionnent pas. Il était donc difficile de savoir si les communautés extraites étaient de bonne qualité ou pas, et surtout, il était impossible de mesure s'il était mieux de prendre k=3, k=4, k5, ou plus. <br> \n",
        "De plus, peu d'acteurs étaient finalement concernés par l'extraction de communautés via la méthode de percolation (la majorité n'appartenait à aucune clique). On avait donc peu d'auteurs présent dans un grand nombre de communautés qui étaient majoritairement composés que de quelques auteurs. Ainsi, nous estimions que cette information ne serait pas clairement pas utile pour prédire le score d'un commentaire, nous avons donc décider de ne pas en faire une feature. "
      ]
    },
    {
      "cell_type": "code",
      "metadata": {
        "colab": {
          "base_uri": "https://localhost:8080/"
        },
        "id": "nZVmIi15QFrF",
        "outputId": "507c5608-2b58-47ea-ff4f-007bfa8c0f52"
      },
      "source": [
        "# 10 min\n",
        "perco3 = nx.community.k_clique_communities(g, 3)\n",
        "perco3 = [set(i) for i in list(perco3)] \n",
        "\n",
        "\n",
        "# Ensemble qui contiendra les auteurs appartenant à au moins une communauté\n",
        "ens = set()\n",
        "\n",
        "# 3 min\n",
        "for i in perco3:\n",
        "    ens = ens.union(i)\n",
        "\n",
        "print(\"Nombre de communautés pour k=3 :\", len(perco3))\n",
        "\n",
        "print(\"Nombre d'auteurs présent dans une des %d communautés : %d\" %(len(perco3), len(ens)))"
      ],
      "execution_count": 26,
      "outputs": [
        {
          "output_type": "stream",
          "text": [
            "Nombre de communautés pour k=3 : 25475\n",
            "Nombre d'auteurs présent dans une des 25475 communautés : 73411\n"
          ],
          "name": "stdout"
        }
      ]
    },
    {
      "cell_type": "code",
      "metadata": {
        "colab": {
          "base_uri": "https://localhost:8080/"
        },
        "id": "7fMXluaDTaWS",
        "outputId": "ec32fa28-87e4-4ee5-e6f8-fbc30126a108"
      },
      "source": [
        "# 2 min\n",
        "perco4 = nx.community.k_clique_communities(g, 4)\n",
        "perco4 = [set(i) for i in list(perco4)] \n",
        "\n",
        "# Ensemble qui contiendra les auteurs appartenant à au moins une communauté\n",
        "ens = set()\n",
        "\n",
        "# 30s\n",
        "for i in perco4:\n",
        "    ens = ens.union(i)\n",
        "\n",
        "print(\"Nombre de communautés pour k=4 :\", len(perco4))\n",
        "\n",
        "print(\"Nombre d'auteurs présent dans une des %d communautés : %d\" %(len(perco4), len(ens)))"
      ],
      "execution_count": 27,
      "outputs": [
        {
          "output_type": "stream",
          "text": [
            "Nombre de communautés pour k=4 : 1404\n",
            "Nombre d'auteurs présent dans une des 1404 communautés : 7497\n"
          ],
          "name": "stdout"
        }
      ]
    },
    {
      "cell_type": "markdown",
      "metadata": {
        "id": "a0i7WLJMjPhh"
      },
      "source": [
        "On constate que si k est petit, le nombre de communauté explose et si k est trop grand, trop peu d'auteurs sont consernés par les communautés. Il est impossible d'établir une feature à partir de la percolation de cliques. "
      ]
    },
    {
      "cell_type": "code",
      "metadata": {
        "id": "5gHdvZkuh_38"
      },
      "source": [
        ""
      ],
      "execution_count": 27,
      "outputs": []
    }
  ]
}