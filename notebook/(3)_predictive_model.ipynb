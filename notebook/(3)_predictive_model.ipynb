{
  "nbformat": 4,
  "nbformat_minor": 0,
  "metadata": {
    "colab": {
      "name": "(3)_predictive_model",
      "provenance": [],
      "collapsed_sections": []
    },
    "kernelspec": {
      "name": "python3",
      "display_name": "Python 3"
    },
    "language_info": {
      "name": "python"
    }
  },
  "cells": [
    {
      "cell_type": "markdown",
      "metadata": {
        "id": "tYC9eHdOc6yi"
      },
      "source": [
        "<strong>Date :</strong> Créé le 07 Avril 2021| Mis à jour le 11 Avril 2021 </strong>\n",
        "\n",
        "<strong>Compétition Kaggle - Team Théo\n",
        "    \n",
        "@auteur : </strong>Théo SACCAREAU & Théo VEDIS\n",
        "\n",
        "<strong>(3)_predictive_model\n",
        "      \n",
        "Description :</strong> Après avoir mis au point une trentaine de features, notre objectif est de mettre au point un modèle de prédiction des scores. \n",
        "\n",
        "Temps d'exécution du Notebook : environ  5min (entre 1 et 2 heures si l'optimisation des paramètres est effectuée)."
      ]
    },
    {
      "cell_type": "markdown",
      "metadata": {
        "id": "imAEsGzZGyz-"
      },
      "source": [
        "# Importation des librairies\n",
        "\n",
        "\n"
      ]
    },
    {
      "cell_type": "code",
      "metadata": {
        "id": "BcvnUgP4Gyz4"
      },
      "source": [
        "# Librairies usuelles \n",
        "import pandas as pd\n",
        "import numpy as np\n",
        "from tqdm import tqdm \n",
        "import json\n",
        "import matplotlib.pyplot as plt\n",
        "\n",
        "\n",
        "# Libraries pour les modèles de prédiction \n",
        "# 1ere partie - Classification \n",
        "from sklearn.linear_model import LogisticRegression\n",
        "from lightgbm import LGBMClassifier\n",
        "from sklearn.neighbors import KNeighborsClassifier\n",
        "from sklearn import tree\n",
        "\n",
        "# 2e partie - Régression \n",
        "from lightgbm import LGBMRegressor\n",
        "\n",
        "# Validation croisée \n",
        "from sklearn.model_selection import cross_val_score\n",
        "from sklearn.model_selection import cross_val_predict\n",
        "\n",
        "# Optimisaton des hyper-paramètres \n",
        "from sklearn.model_selection import ParameterGrid\n",
        "from sklearn.model_selection import GridSearchCV\n",
        "from sklearn.model_selection import RandomizedSearchCV"
      ],
      "execution_count": 1,
      "outputs": []
    },
    {
      "cell_type": "markdown",
      "metadata": {
        "id": "KlUNxsXdGMpP"
      },
      "source": [
        "# Chemin "
      ]
    },
    {
      "cell_type": "code",
      "metadata": {
        "id": "LY896iIwGy0G"
      },
      "source": [
        "# Chemin relatif vers le dossier \"data\" (inutile de le changer).\n",
        "pathFile = \"../data/\" "
      ],
      "execution_count": 2,
      "outputs": []
    },
    {
      "cell_type": "markdown",
      "metadata": {
        "id": "GaPBGrY2AciM"
      },
      "source": [
        "# Chargement des données d'entrée"
      ]
    },
    {
      "cell_type": "code",
      "metadata": {
        "id": "jAwAmPvxAI3w"
      },
      "source": [
        "# Ouverture du fichier contenant l'ensemble des features \n",
        "# Temps exécution : 2min\n",
        "with open( pathFile + 'df_features.json') as json_data:\n",
        "    data_dict = json.load(json_data)\n",
        "\n",
        "# On transforme le dictionnaire en DataFrame \n",
        "# Temps exécution : 1min\n",
        "df = pd.DataFrame(data_dict)\n",
        "\n",
        "# On libère de la RAM en supprimant la variable data_dict qui ne nous servira plus\n",
        "del data_dict "
      ],
      "execution_count": 6,
      "outputs": []
    },
    {
      "cell_type": "code",
      "metadata": {
        "id": "d8BEAdJQ1ICU"
      },
      "source": [
        "# On conserve le nom des commentaires dans une variable (pour la soumission) et\n",
        "# on la supprime du dataframe (ce n'est pas une feature)\n",
        "name = df['name']\n",
        "df = df.drop(columns=['name'])"
      ],
      "execution_count": 7,
      "outputs": []
    },
    {
      "cell_type": "code",
      "metadata": {
        "id": "JN3_Dqh96m-v",
        "colab": {
          "base_uri": "https://localhost:8080/",
          "height": 226
        },
        "outputId": "4ada1e24-7409-4695-928e-ea5d206c3a19"
      },
      "source": [
        "df.head()"
      ],
      "execution_count": 8,
      "outputs": [
        {
          "output_type": "execute_result",
          "data": {
            "text/html": [
              "<div>\n",
              "<style scoped>\n",
              "    .dataframe tbody tr th:only-of-type {\n",
              "        vertical-align: middle;\n",
              "    }\n",
              "\n",
              "    .dataframe tbody tr th {\n",
              "        vertical-align: top;\n",
              "    }\n",
              "\n",
              "    .dataframe thead th {\n",
              "        text-align: right;\n",
              "    }\n",
              "</style>\n",
              "<table border=\"1\" class=\"dataframe\">\n",
              "  <thead>\n",
              "    <tr style=\"text-align: right;\">\n",
              "      <th></th>\n",
              "      <th>ups</th>\n",
              "      <th>is_parent_comment</th>\n",
              "      <th>is_author_deleted</th>\n",
              "      <th>is_body_deleted</th>\n",
              "      <th>bot_comment</th>\n",
              "      <th>length_comment_chars_before_NLP</th>\n",
              "      <th>length_comment_chars_after_NLP</th>\n",
              "      <th>length_comment_words</th>\n",
              "      <th>nb_stopwords</th>\n",
              "      <th>sentiment</th>\n",
              "      <th>sentiment_child</th>\n",
              "      <th>depth</th>\n",
              "      <th>nb_direct_resp</th>\n",
              "      <th>nb_total_resp</th>\n",
              "      <th>author_centrality_degree</th>\n",
              "      <th>author_centrality_ev</th>\n",
              "      <th>author_prestige_degree</th>\n",
              "      <th>hour</th>\n",
              "      <th>resp_time_parent</th>\n",
              "      <th>resp_time_topic</th>\n",
              "      <th>score_parent</th>\n",
              "      <th>score_topic</th>\n",
              "      <th>nb_comments_parent</th>\n",
              "      <th>nb_comments_topic</th>\n",
              "      <th>ratio_topic</th>\n",
              "      <th>author_mean_score</th>\n",
              "      <th>isSameAuthor</th>\n",
              "      <th>year_creation_author</th>\n",
              "      <th>has_verified_email</th>\n",
              "      <th>comment_karma</th>\n",
              "    </tr>\n",
              "  </thead>\n",
              "  <tbody>\n",
              "    <tr>\n",
              "      <th>0</th>\n",
              "      <td>3.0</td>\n",
              "      <td>1</td>\n",
              "      <td>0</td>\n",
              "      <td>0</td>\n",
              "      <td>0</td>\n",
              "      <td>119</td>\n",
              "      <td>59</td>\n",
              "      <td>8</td>\n",
              "      <td>14</td>\n",
              "      <td>neg</td>\n",
              "      <td>0</td>\n",
              "      <td>2</td>\n",
              "      <td>0</td>\n",
              "      <td>0</td>\n",
              "      <td>0.000138</td>\n",
              "      <td>1.312352e-03</td>\n",
              "      <td>0.000072</td>\n",
              "      <td>night</td>\n",
              "      <td>NaN</td>\n",
              "      <td>22894</td>\n",
              "      <td>NaN</td>\n",
              "      <td>817</td>\n",
              "      <td>1</td>\n",
              "      <td>322</td>\n",
              "      <td>0.86</td>\n",
              "      <td>18.702703</td>\n",
              "      <td>False</td>\n",
              "      <td>2013.0</td>\n",
              "      <td>True</td>\n",
              "      <td>181760.0</td>\n",
              "    </tr>\n",
              "    <tr>\n",
              "      <th>1</th>\n",
              "      <td>3.0</td>\n",
              "      <td>0</td>\n",
              "      <td>0</td>\n",
              "      <td>0</td>\n",
              "      <td>0</td>\n",
              "      <td>48</td>\n",
              "      <td>13</td>\n",
              "      <td>2</td>\n",
              "      <td>7</td>\n",
              "      <td>neg</td>\n",
              "      <td>0</td>\n",
              "      <td>2</td>\n",
              "      <td>0</td>\n",
              "      <td>0</td>\n",
              "      <td>0.000005</td>\n",
              "      <td>2.167334e-19</td>\n",
              "      <td>0.000000</td>\n",
              "      <td>night</td>\n",
              "      <td>13205.0</td>\n",
              "      <td>13205</td>\n",
              "      <td>10800.0</td>\n",
              "      <td>10800</td>\n",
              "      <td>1443</td>\n",
              "      <td>1443</td>\n",
              "      <td>0.86</td>\n",
              "      <td>1.750000</td>\n",
              "      <td>False</td>\n",
              "      <td>2012.0</td>\n",
              "      <td>True</td>\n",
              "      <td>23937.0</td>\n",
              "    </tr>\n",
              "    <tr>\n",
              "      <th>2</th>\n",
              "      <td>5.0</td>\n",
              "      <td>1</td>\n",
              "      <td>0</td>\n",
              "      <td>0</td>\n",
              "      <td>0</td>\n",
              "      <td>4</td>\n",
              "      <td>4</td>\n",
              "      <td>1</td>\n",
              "      <td>0</td>\n",
              "      <td>neu</td>\n",
              "      <td>0</td>\n",
              "      <td>2</td>\n",
              "      <td>0</td>\n",
              "      <td>0</td>\n",
              "      <td>0.000126</td>\n",
              "      <td>1.712427e-03</td>\n",
              "      <td>0.000051</td>\n",
              "      <td>night</td>\n",
              "      <td>NaN</td>\n",
              "      <td>20339</td>\n",
              "      <td>NaN</td>\n",
              "      <td>3268</td>\n",
              "      <td>5</td>\n",
              "      <td>1610</td>\n",
              "      <td>0.82</td>\n",
              "      <td>3.105263</td>\n",
              "      <td>False</td>\n",
              "      <td>2013.0</td>\n",
              "      <td>True</td>\n",
              "      <td>125197.0</td>\n",
              "    </tr>\n",
              "    <tr>\n",
              "      <th>3</th>\n",
              "      <td>1.0</td>\n",
              "      <td>1</td>\n",
              "      <td>0</td>\n",
              "      <td>0</td>\n",
              "      <td>0</td>\n",
              "      <td>54</td>\n",
              "      <td>15</td>\n",
              "      <td>3</td>\n",
              "      <td>12</td>\n",
              "      <td>neg</td>\n",
              "      <td>0</td>\n",
              "      <td>2</td>\n",
              "      <td>0</td>\n",
              "      <td>0</td>\n",
              "      <td>0.000000</td>\n",
              "      <td>2.167334e-19</td>\n",
              "      <td>0.000000</td>\n",
              "      <td>night</td>\n",
              "      <td>NaN</td>\n",
              "      <td>109679</td>\n",
              "      <td>NaN</td>\n",
              "      <td>13643</td>\n",
              "      <td>4</td>\n",
              "      <td>22</td>\n",
              "      <td>0.82</td>\n",
              "      <td>1.000000</td>\n",
              "      <td>False</td>\n",
              "      <td>2013.0</td>\n",
              "      <td>True</td>\n",
              "      <td>7663.0</td>\n",
              "    </tr>\n",
              "    <tr>\n",
              "      <th>4</th>\n",
              "      <td>101.0</td>\n",
              "      <td>1</td>\n",
              "      <td>0</td>\n",
              "      <td>0</td>\n",
              "      <td>0</td>\n",
              "      <td>241</td>\n",
              "      <td>164</td>\n",
              "      <td>24</td>\n",
              "      <td>20</td>\n",
              "      <td>pos</td>\n",
              "      <td>0</td>\n",
              "      <td>2</td>\n",
              "      <td>1</td>\n",
              "      <td>2</td>\n",
              "      <td>0.000004</td>\n",
              "      <td>5.092290e-05</td>\n",
              "      <td>0.000002</td>\n",
              "      <td>night</td>\n",
              "      <td>NaN</td>\n",
              "      <td>22895</td>\n",
              "      <td>NaN</td>\n",
              "      <td>817</td>\n",
              "      <td>2</td>\n",
              "      <td>322</td>\n",
              "      <td>0.86</td>\n",
              "      <td>51.500000</td>\n",
              "      <td>False</td>\n",
              "      <td>2013.0</td>\n",
              "      <td>True</td>\n",
              "      <td>5344.0</td>\n",
              "    </tr>\n",
              "  </tbody>\n",
              "</table>\n",
              "</div>"
            ],
            "text/plain": [
              "     ups  is_parent_comment  ...  has_verified_email  comment_karma\n",
              "0    3.0                  1  ...                True       181760.0\n",
              "1    3.0                  0  ...                True        23937.0\n",
              "2    5.0                  1  ...                True       125197.0\n",
              "3    1.0                  1  ...                True         7663.0\n",
              "4  101.0                  1  ...                True         5344.0\n",
              "\n",
              "[5 rows x 30 columns]"
            ]
          },
          "metadata": {
            "tags": []
          },
          "execution_count": 8
        }
      ]
    },
    {
      "cell_type": "markdown",
      "metadata": {
        "id": "DCKB7OJ4ZOwY"
      },
      "source": [
        "# Ultime nettoyage\n",
        "Avant que notre DataFrame contenant les features soient totalement prêt, il reste deux étapes à effectuer : \n",
        "- la correction des valeurs nulles pour certaines features (certains algorithmes de Machine Learning ne savent pas comment traiter ces valeurs et échoueront)\n",
        "- la conversion des features qualitative. En effet, la bibliothèque \"Scklearn\" ne prend pas en charge les variables nominales. Il faut donc les transformer en variables quantitatives binaires (si deux modalités) ou n-aires grâce à la commande \"get_dummies\"."
      ]
    },
    {
      "cell_type": "code",
      "metadata": {
        "id": "4wurra7x6nA8",
        "colab": {
          "base_uri": "https://localhost:8080/"
        },
        "outputId": "6e8d761b-1d11-48a8-b559-e532324dd8f7"
      },
      "source": [
        "# On vérifie quelles variables ont des valeurs nulles.\n",
        "df.isnull().sum()"
      ],
      "execution_count": 9,
      "outputs": [
        {
          "output_type": "execute_result",
          "data": {
            "text/plain": [
              "ups                                1016458\n",
              "is_parent_comment                        0\n",
              "is_author_deleted                        0\n",
              "is_body_deleted                          0\n",
              "bot_comment                              0\n",
              "length_comment_chars_before_NLP          0\n",
              "length_comment_chars_after_NLP           0\n",
              "length_comment_words                     0\n",
              "nb_stopwords                             0\n",
              "sentiment                                0\n",
              "sentiment_child                          0\n",
              "depth                                    0\n",
              "nb_direct_resp                           0\n",
              "nb_total_resp                            0\n",
              "author_centrality_degree                 0\n",
              "author_centrality_ev                     0\n",
              "author_prestige_degree                   0\n",
              "hour                                     0\n",
              "resp_time_parent                     22566\n",
              "resp_time_topic                          0\n",
              "score_parent                        605525\n",
              "score_topic                              0\n",
              "nb_comments_parent                       0\n",
              "nb_comments_topic                        0\n",
              "ratio_topic                              0\n",
              "author_mean_score                   183489\n",
              "isSameAuthor                             0\n",
              "year_creation_author                999517\n",
              "has_verified_email                  999517\n",
              "comment_karma                       999517\n",
              "dtype: int64"
            ]
          },
          "metadata": {
            "tags": []
          },
          "execution_count": 9
        }
      ]
    },
    {
      "cell_type": "markdown",
      "metadata": {
        "id": "ZN9qfvOvbXef"
      },
      "source": [
        "Il y a donc 6 variables qui contiennent des valeurs nulles (`ups` exclue). Il y a plusieurs façons de procéder pour remplacer ces valeurs nulles : remplacer par 0, remplacer par la médiane, remplacer par la moyenne, remplacer par la valeur la plus fréquente etc. <br>\n",
        "- Pour `resp_time_parent`, nous avons fait le choix de remplacer les valeurs manquantes par la moyenne. C'est la solution qui nous paraissait la plus naturelle car elle permet de ne pas discriminer positivement ou négativement les commentaires n'ayant pas ce type d'informations.  \n",
        "- Pour `score_parent`, nous n'avons pas choisi d'utiliser la moyenne tout simplement parce une très grande majorité des scores de parents est de 1 mais la moyenne vaut plus de 1000 (car il y a quelques rares commentaires parents qui ont un score extrêment élevé). Ainsi, nous estimons qu'il est mieux de donner comme score le score le plus fréquent (1) plutôt que la moyenne qui est dopée par des commentaires extrêmes (1073). \n",
        "- Pour `author_mean_score` et `comment_karma`, même raisonnement que pour `score_parent`. \n",
        "- Enfin, pour `year_creation_author` et `has_verified_email`, ce sont deux variables avec modalités, il faut donc clairement utiliser la valeur la plus fréquente. "
      ]
    },
    {
      "cell_type": "code",
      "metadata": {
        "id": "S6cKSB-76nDf"
      },
      "source": [
        "# On calcule les valeurs de remplacement\n",
        "mean_resp_time = df['resp_time_parent'].mean()\n",
        "freq_score_parent = df['score_parent'].value_counts().index[0]\n",
        "freq_score_author = df['author_mean_score'].value_counts().index[0]\n",
        "freq_karma = df['comment_karma'].value_counts().index[0]\n",
        "freq_year = df['year_creation_author'].value_counts().index[0]\n",
        "freq_email = df['has_verified_email'].value_counts().index[0]\n",
        "\n",
        "# Puis on remplace les valeurs nulles par les valeurs calculées au-dessus\n",
        "df['resp_time_parent'] = df['resp_time_parent'].fillna(mean_resp_time)\n",
        "df['score_parent'] = df['score_parent'].fillna(freq_score_parent)\n",
        "df['author_mean_score'] = df['author_mean_score'].fillna(freq_score_author)\n",
        "df['comment_karma'] = df['comment_karma'].fillna(freq_karma)\n",
        "df['year_creation_author'] = df['year_creation_author'].fillna(freq_year)\n",
        "df['has_verified_email'] = df['has_verified_email'].fillna(freq_email)"
      ],
      "execution_count": 10,
      "outputs": []
    },
    {
      "cell_type": "code",
      "metadata": {
        "colab": {
          "base_uri": "https://localhost:8080/"
        },
        "id": "0Q4wWI9DfRIc",
        "outputId": "6dcf11ca-5b5a-49a2-dc5c-f5f713f4873b"
      },
      "source": [
        "# Vérification\n",
        "df.isnull().sum()"
      ],
      "execution_count": 11,
      "outputs": [
        {
          "output_type": "execute_result",
          "data": {
            "text/plain": [
              "ups                                1016458\n",
              "is_parent_comment                        0\n",
              "is_author_deleted                        0\n",
              "is_body_deleted                          0\n",
              "bot_comment                              0\n",
              "length_comment_chars_before_NLP          0\n",
              "length_comment_chars_after_NLP           0\n",
              "length_comment_words                     0\n",
              "nb_stopwords                             0\n",
              "sentiment                                0\n",
              "sentiment_child                          0\n",
              "depth                                    0\n",
              "nb_direct_resp                           0\n",
              "nb_total_resp                            0\n",
              "author_centrality_degree                 0\n",
              "author_centrality_ev                     0\n",
              "author_prestige_degree                   0\n",
              "hour                                     0\n",
              "resp_time_parent                         0\n",
              "resp_time_topic                          0\n",
              "score_parent                             0\n",
              "score_topic                              0\n",
              "nb_comments_parent                       0\n",
              "nb_comments_topic                        0\n",
              "ratio_topic                              0\n",
              "author_mean_score                        0\n",
              "isSameAuthor                             0\n",
              "year_creation_author                     0\n",
              "has_verified_email                       0\n",
              "comment_karma                            0\n",
              "dtype: int64"
            ]
          },
          "metadata": {
            "tags": []
          },
          "execution_count": 11
        }
      ]
    },
    {
      "cell_type": "markdown",
      "metadata": {
        "id": "Ht4ScZSjfsy1"
      },
      "source": [
        "Il n'y a plus de variables avec des valeurs nulles (hormis `ups`). \n",
        "\n",
        "Passons à la vérification des types de données. \n"
      ]
    },
    {
      "cell_type": "code",
      "metadata": {
        "colab": {
          "base_uri": "https://localhost:8080/"
        },
        "id": "aZuSKH0YoE_b",
        "outputId": "a5c548a4-9508-4c93-9639-6173a8a72eb4"
      },
      "source": [
        "# Informations sur les types des variables\n",
        "print(df.info())"
      ],
      "execution_count": 12,
      "outputs": [
        {
          "output_type": "stream",
          "text": [
            "<class 'pandas.core.frame.DataFrame'>\n",
            "Index: 4234970 entries, 0 to 4234969\n",
            "Data columns (total 30 columns):\n",
            " #   Column                           Dtype  \n",
            "---  ------                           -----  \n",
            " 0   ups                              float64\n",
            " 1   is_parent_comment                int64  \n",
            " 2   is_author_deleted                int64  \n",
            " 3   is_body_deleted                  int64  \n",
            " 4   bot_comment                      int64  \n",
            " 5   length_comment_chars_before_NLP  int64  \n",
            " 6   length_comment_chars_after_NLP   int64  \n",
            " 7   length_comment_words             int64  \n",
            " 8   nb_stopwords                     int64  \n",
            " 9   sentiment                        object \n",
            " 10  sentiment_child                  int64  \n",
            " 11  depth                            int64  \n",
            " 12  nb_direct_resp                   int64  \n",
            " 13  nb_total_resp                    int64  \n",
            " 14  author_centrality_degree         float64\n",
            " 15  author_centrality_ev             float64\n",
            " 16  author_prestige_degree           float64\n",
            " 17  hour                             object \n",
            " 18  resp_time_parent                 float64\n",
            " 19  resp_time_topic                  int64  \n",
            " 20  score_parent                     float64\n",
            " 21  score_topic                      int64  \n",
            " 22  nb_comments_parent               int64  \n",
            " 23  nb_comments_topic                int64  \n",
            " 24  ratio_topic                      float64\n",
            " 25  author_mean_score                float64\n",
            " 26  isSameAuthor                     bool   \n",
            " 27  year_creation_author             float64\n",
            " 28  has_verified_email               bool   \n",
            " 29  comment_karma                    float64\n",
            "dtypes: bool(2), float64(10), int64(16), object(2)\n",
            "memory usage: 945.1+ MB\n",
            "None\n"
          ],
          "name": "stdout"
        }
      ]
    },
    {
      "cell_type": "markdown",
      "metadata": {
        "id": "YOcgYWEYoScO"
      },
      "source": [
        "Quaatre variables ne sont pas de types quantitatives : `sentiment`, `hour` (de type `str`), `has_verified_email` et `isSameAuthor` (de type `boolean`). <br>  Pour ces deux dernières il suffit de remplacer `True` par 1 et `False` par 0. <br>\n",
        "Pour les variables nominales, nous utiliserons la fonction `get_dummies`.  Cette commande élimine les variables nominales en créant de nouvelles colonnes. Ces nouvelles colonnes portent le nom de la modalité de la variable nominale (exemple : 'sentiment_neg' pour sentiment négatif) et leur valeur vaut 0 (le commentaire n'avait pas cette modalité) ou 1 (le commentaire avait cette modalité). Ainsi de suite pour les 4 autres modalités. "
      ]
    },
    {
      "cell_type": "code",
      "metadata": {
        "id": "QRi2OZoio95l"
      },
      "source": [
        "# Transformation des variables de type 'booléen' en variables quantitatives\n",
        "df['isSameAuthor'] = df['isSameAuthor'].apply(lambda x : 1 if x else 0)\n",
        "df['has_verified_email'] = df['has_verified_email'].apply(lambda x : 1 if x else 0)"
      ],
      "execution_count": 13,
      "outputs": []
    },
    {
      "cell_type": "code",
      "metadata": {
        "id": "EWXY6TX5o-DT"
      },
      "source": [
        "# Transformation des variables nominales en variables quantitatives\n",
        "df = pd.get_dummies(df)"
      ],
      "execution_count": 14,
      "outputs": []
    },
    {
      "cell_type": "code",
      "metadata": {
        "colab": {
          "base_uri": "https://localhost:8080/"
        },
        "id": "E5L30vxLpSYV",
        "outputId": "11aa83bc-da82-4efc-be62-edb062ada7ba"
      },
      "source": [
        "# Vérification \n",
        "print(df.info())"
      ],
      "execution_count": 15,
      "outputs": [
        {
          "output_type": "stream",
          "text": [
            "<class 'pandas.core.frame.DataFrame'>\n",
            "Index: 4234970 entries, 0 to 4234969\n",
            "Data columns (total 35 columns):\n",
            " #   Column                           Dtype  \n",
            "---  ------                           -----  \n",
            " 0   ups                              float64\n",
            " 1   is_parent_comment                int64  \n",
            " 2   is_author_deleted                int64  \n",
            " 3   is_body_deleted                  int64  \n",
            " 4   bot_comment                      int64  \n",
            " 5   length_comment_chars_before_NLP  int64  \n",
            " 6   length_comment_chars_after_NLP   int64  \n",
            " 7   length_comment_words             int64  \n",
            " 8   nb_stopwords                     int64  \n",
            " 9   sentiment_child                  int64  \n",
            " 10  depth                            int64  \n",
            " 11  nb_direct_resp                   int64  \n",
            " 12  nb_total_resp                    int64  \n",
            " 13  author_centrality_degree         float64\n",
            " 14  author_centrality_ev             float64\n",
            " 15  author_prestige_degree           float64\n",
            " 16  resp_time_parent                 float64\n",
            " 17  resp_time_topic                  int64  \n",
            " 18  score_parent                     float64\n",
            " 19  score_topic                      int64  \n",
            " 20  nb_comments_parent               int64  \n",
            " 21  nb_comments_topic                int64  \n",
            " 22  ratio_topic                      float64\n",
            " 23  author_mean_score                float64\n",
            " 24  isSameAuthor                     int64  \n",
            " 25  year_creation_author             float64\n",
            " 26  has_verified_email               int64  \n",
            " 27  comment_karma                    float64\n",
            " 28  sentiment_neg                    uint8  \n",
            " 29  sentiment_neu                    uint8  \n",
            " 30  sentiment_pos                    uint8  \n",
            " 31  hour_afternoon                   uint8  \n",
            " 32  hour_evening                     uint8  \n",
            " 33  hour_morning                     uint8  \n",
            " 34  hour_night                       uint8  \n",
            "dtypes: float64(10), int64(18), uint8(7)\n",
            "memory usage: 965.3+ MB\n",
            "None\n"
          ],
          "name": "stdout"
        }
      ]
    },
    {
      "cell_type": "markdown",
      "metadata": {
        "id": "MSSBDs6vxkJn"
      },
      "source": [
        "Enfin, on convertit les colonnes qui étaient en `float` (à cause des `np.nan`) en `int`. "
      ]
    },
    {
      "cell_type": "code",
      "metadata": {
        "colab": {
          "base_uri": "https://localhost:8080/"
        },
        "id": "KNv9AHNJxjgI",
        "outputId": "d2f35a01-5eae-4317-f781-e11f27458894"
      },
      "source": [
        "# Liste des colonnes à convertir en int\n",
        "columns_to_int = ['resp_time_parent', 'score_parent', 'comment_karma', \n",
        "                  'year_creation_author', 'has_verified_email'] \n",
        "                  # Pas de author_mean_score car les valeurs peuvent être décimales\n",
        "\n",
        "for col in tqdm(columns_to_int) : \n",
        "    df[col] = df[col].apply(lambda x : int(x))"
      ],
      "execution_count": 16,
      "outputs": [
        {
          "output_type": "stream",
          "text": [
            "100%|██████████| 5/5 [00:10<00:00,  2.08s/it]\n"
          ],
          "name": "stderr"
        }
      ]
    },
    {
      "cell_type": "code",
      "metadata": {
        "colab": {
          "base_uri": "https://localhost:8080/"
        },
        "id": "eqKZZPjrp6-0",
        "outputId": "ad61811b-e5d4-44c0-f9de-a201494ff8fe"
      },
      "source": [
        "# Dernière vérification \n",
        "print(df.info())"
      ],
      "execution_count": 17,
      "outputs": [
        {
          "output_type": "stream",
          "text": [
            "<class 'pandas.core.frame.DataFrame'>\n",
            "Index: 4234970 entries, 0 to 4234969\n",
            "Data columns (total 35 columns):\n",
            " #   Column                           Dtype  \n",
            "---  ------                           -----  \n",
            " 0   ups                              float64\n",
            " 1   is_parent_comment                int64  \n",
            " 2   is_author_deleted                int64  \n",
            " 3   is_body_deleted                  int64  \n",
            " 4   bot_comment                      int64  \n",
            " 5   length_comment_chars_before_NLP  int64  \n",
            " 6   length_comment_chars_after_NLP   int64  \n",
            " 7   length_comment_words             int64  \n",
            " 8   nb_stopwords                     int64  \n",
            " 9   sentiment_child                  int64  \n",
            " 10  depth                            int64  \n",
            " 11  nb_direct_resp                   int64  \n",
            " 12  nb_total_resp                    int64  \n",
            " 13  author_centrality_degree         float64\n",
            " 14  author_centrality_ev             float64\n",
            " 15  author_prestige_degree           float64\n",
            " 16  resp_time_parent                 int64  \n",
            " 17  resp_time_topic                  int64  \n",
            " 18  score_parent                     int64  \n",
            " 19  score_topic                      int64  \n",
            " 20  nb_comments_parent               int64  \n",
            " 21  nb_comments_topic                int64  \n",
            " 22  ratio_topic                      float64\n",
            " 23  author_mean_score                float64\n",
            " 24  isSameAuthor                     int64  \n",
            " 25  year_creation_author             int64  \n",
            " 26  has_verified_email               int64  \n",
            " 27  comment_karma                    int64  \n",
            " 28  sentiment_neg                    uint8  \n",
            " 29  sentiment_neu                    uint8  \n",
            " 30  sentiment_pos                    uint8  \n",
            " 31  hour_afternoon                   uint8  \n",
            " 32  hour_evening                     uint8  \n",
            " 33  hour_morning                     uint8  \n",
            " 34  hour_night                       uint8  \n",
            "dtypes: float64(6), int64(22), uint8(7)\n",
            "memory usage: 965.3+ MB\n",
            "None\n"
          ],
          "name": "stdout"
        }
      ]
    },
    {
      "cell_type": "markdown",
      "metadata": {
        "id": "aZWzOCQw3SnV"
      },
      "source": [
        "Remarque : Le type `int64` correspond à des entiers signés sur 64 bits et le type `uint8`à des entiers non-signés sur 8 bits. "
      ]
    },
    {
      "cell_type": "markdown",
      "metadata": {
        "id": "pibQfCNGYqwl"
      },
      "source": [
        "# Séparation train-test\n",
        "Désormais que notre DataFrame est prêt à l'emploi, on le sépare en deux : une partie sera dédié à l'apprentissage ('train') et l'autre à l'évaluation des prédictions ('test'). "
      ]
    },
    {
      "cell_type": "code",
      "metadata": {
        "id": "OD9rCJ9zrr4V",
        "colab": {
          "base_uri": "https://localhost:8080/"
        },
        "outputId": "d682aeac-9127-4408-c804-08601d2e05d9"
      },
      "source": [
        "# Comme imposé par l'énoncé, le découpage se fait selon les valeurs de 'ups'.\n",
        "df_train = df.loc[np.isnan(df['ups']) == False]\n",
        "df_test = df.loc[np.isnan(df['ups'])]\n",
        "\n",
        "# On vérifie que le découpage ne laissent aucun commentaire sur le côté\n",
        "print(df.shape[0] == (df_train.shape[0] + df_test.shape[0]))"
      ],
      "execution_count": 18,
      "outputs": [
        {
          "output_type": "stream",
          "text": [
            "True\n"
          ],
          "name": "stdout"
        }
      ]
    },
    {
      "cell_type": "code",
      "metadata": {
        "colab": {
          "base_uri": "https://localhost:8080/"
        },
        "id": "oPVm_gdRsHbx",
        "outputId": "635a912b-1aaf-44dd-8653-eca80e0b19e2"
      },
      "source": [
        "print(\"TRAIN DATA: \\nNombre de lignes: %i (%.f%%) \"\\\n",
        "      %(df_train.shape[0], df_train.shape[0]/df.shape[0]*100))\n",
        "\n",
        "print(\"\\nTEST DATA: \\nNombre de lignes: %i (%.f%%) \"\\\n",
        "      %(df_test.shape[0], df_test.shape[0]/df.shape[0]*100))\n"
      ],
      "execution_count": 19,
      "outputs": [
        {
          "output_type": "stream",
          "text": [
            "TRAIN DATA: \n",
            "Nombre de lignes: 3218512 (76%) \n",
            "\n",
            "TEST DATA: \n",
            "Nombre de lignes: 1016458 (24%) \n"
          ],
          "name": "stdout"
        }
      ]
    },
    {
      "cell_type": "markdown",
      "metadata": {
        "id": "ZfxL-J9Vh43t"
      },
      "source": [
        "L'échantillon de train représente plus de 75% des données. \n",
        "\n",
        "\n",
        "\n",
        "\n"
      ]
    },
    {
      "cell_type": "markdown",
      "metadata": {
        "id": "1PkRFjw9h5if"
      },
      "source": [
        "Comme on va réaliser un apprentissage supervisé, on doit séparer l'ensemble 'train' en deux parties : une partie contenant les features (Xtrain) et l'autre contenant la variable à prédire (Ytrain, ici le score). "
      ]
    },
    {
      "cell_type": "code",
      "metadata": {
        "id": "30zAUDbtrgyb"
      },
      "source": [
        "# Séparation features / variable à prédire \n",
        "\n",
        "Xtrain = df_train.iloc[:, 1:]\n",
        "Ytrain = pd.Series(df_train.iloc[:, 0], dtype=int)\n",
        "Xtest = df_test.iloc[:, 1:]"
      ],
      "execution_count": 20,
      "outputs": []
    },
    {
      "cell_type": "markdown",
      "metadata": {
        "id": "zGxH7ZiMras3"
      },
      "source": [
        "# Modèle de prédiction \n",
        "Tout est désormais prêt pour qu'on puisse mettre en place un modèle de prédiction des scores de commentaires. <br>\n",
        "Pour commencer, regardons la répartition des scores sur l'échnatillon d'apprentissage. "
      ]
    },
    {
      "cell_type": "code",
      "metadata": {
        "colab": {
          "base_uri": "https://localhost:8080/"
        },
        "id": "BapJaa9fkDbX",
        "outputId": "7db8282c-d36d-4faa-f2ea-04acd78331f3"
      },
      "source": [
        "pd.Series(Ytrain).value_counts()[:10]"
      ],
      "execution_count": 21,
      "outputs": [
        {
          "output_type": "execute_result",
          "data": {
            "text/plain": [
              " 1    1676837\n",
              " 2     575082\n",
              " 3     219060\n",
              " 0     153372\n",
              " 4      75130\n",
              " 5      66586\n",
              " 6      47904\n",
              "-1      38365\n",
              " 7      34214\n",
              " 8      25921\n",
              "Name: ups, dtype: int64"
            ]
          },
          "metadata": {
            "tags": []
          },
          "execution_count": 21
        }
      ]
    },
    {
      "cell_type": "markdown",
      "metadata": {
        "id": "3fcWDve3vxsj"
      },
      "source": [
        "On constate que plus de 1.67 millions de commentaires ont pour score 1. Cela représente (52% des données d'entrainement).\n",
        "\n",
        "En faisant cette constatation, nous avons décidé de réaliser un premier modèle de classification avant de créer un modèle de régression. "
      ]
    },
    {
      "cell_type": "markdown",
      "metadata": {
        "id": "LFt9_g6rYbNn"
      },
      "source": [
        "## (1) Modèle(s) de classification \n",
        "L'objectif de cette première étape est d'essayer de séparer nos commentaires en deux : d'un côté les commentaires avec un score de 1, de l'autre le reste des commentaires. Cela permettrait d'avoir deux groupes plus ou moins de même taille mais surtout nous pensons que le modèle de regréssion appliqué sur le deuxième groupe aura plus de faciliter à prédire car il sera moins \"géné\" par la forte porportion de 1. "
      ]
    },
    {
      "cell_type": "markdown",
      "metadata": {
        "id": "XrhMXaeg0PeZ"
      },
      "source": [
        "### 1-1 Séparation des données train \n",
        "La première étape est de constitué une nouvelle liste de Ytrain constituée uniquement de 1 (score égal à 1) ou de 0 (score différent de 1). "
      ]
    },
    {
      "cell_type": "code",
      "metadata": {
        "id": "ii0TfQP40T3m"
      },
      "source": [
        "def partition(y):\n",
        "    \"\"\"\n",
        "    Fonction qui permet de transformer Ytrain (variable continue) en variable \n",
        "    binaire composée de 0 ou de 1. \n",
        "\n",
        "    Paramètre : \n",
        "        - y (int) : score du commentaire initial.\n",
        "    \n",
        "    Sortie : \n",
        "        - y (int) : deux valeurs possibles : 1 si le paramètre d'entrée \n",
        "        valait 1, 0 sinon. \n",
        "    \"\"\"\n",
        "\n",
        "    if (y == 1):\n",
        "        y = 1\n",
        "    \n",
        "    else :\n",
        "        y = 0\n",
        "    \n",
        "    return y"
      ],
      "execution_count": 22,
      "outputs": []
    },
    {
      "cell_type": "code",
      "metadata": {
        "colab": {
          "base_uri": "https://localhost:8080/"
        },
        "id": "F6m32u9v0-yW",
        "outputId": "46aa5aa2-c6cd-43bd-d512-e4873bfb98a4"
      },
      "source": [
        "Ytrain_classif = [partition(y) for y in Ytrain]\n",
        "pd.Series(Ytrain_classif).value_counts()"
      ],
      "execution_count": 23,
      "outputs": [
        {
          "output_type": "execute_result",
          "data": {
            "text/plain": [
              "1    1676837\n",
              "0    1541675\n",
              "dtype: int64"
            ]
          },
          "metadata": {
            "tags": []
          },
          "execution_count": 23
        }
      ]
    },
    {
      "cell_type": "markdown",
      "metadata": {
        "id": "x8oqhldq1Mh-"
      },
      "source": [
        "Comme évoqué au-dessus, le fait d'appliquer cette classification sur Ytrain, permet d'obtenir (en théorie), deux groupes homogènes. \n",
        "\n",
        "L'objectif est désormais de trouver un modèle de classification qui permettent de séparer les données de test de cette façon. "
      ]
    },
    {
      "cell_type": "markdown",
      "metadata": {
        "id": "grYF-_Ne0CyN"
      },
      "source": [
        "### 1-2 Choix du modèle de classification \n",
        "La première étape est bien évidemment de choisir le meilleur modèle de classification. \n",
        "\n",
        "Pour cela, nous avons pré-sélectionné 4 modèles de classification : `KNeighbors`, `LightGBM`, `DecisionTree` et `LogisticRegression`. Cette sélection s'est fait à partir de nos expériences passées et nous avaons fait en sorte d'utiliser plusieurs types d'algorithmes : linéaire (régression logistique), descente de gradient (LightGBM), plus proches voisins (KNeighbors) et arbre de décision (DecisionTree). \n",
        "\n",
        "Pour pouvoir sélectionner le meilleur modèle, nous devons réaliser une validation croisée sur l'échantion d'apprentissage. Il existe plusieurs types de validation croisée, le plus courant est la méthode \"k-folds\". Elle consiste à diviser l'échantillon d'apprentissage 'train' en k sous-échantillons, puis à sélectionner un des k sous-échantillions comme l'ensemble de test et les k-1 autres sous-échantillons constituent l'ensemble d'apprentissage. Ensuite, le score de performance (taux de prédiction dans notre cas car nous utilisons des classifieur) est calculé. Cette opération se répète ensuite en sélectionnant un autre sous-échantillon de test parmi les k-1 restant. L'opération se répète ainsi k fois pour qu'en fin de compte chaque sous-échantillon ait été utilisé exactement une fois comme ensemble de test. La mesure de performance rapportée par la validation croisée \"k-folds\" est alors la moyenne des valeurs calculée dans la boucle. \n"
      ]
    },
    {
      "cell_type": "code",
      "metadata": {
        "id": "C0Yr5P3kz7gi"
      },
      "source": [
        "# 4 modèles qu'on souhaite comparer\n",
        "knn = KNeighborsClassifier(n_neighbors=3)\n",
        "reglog = LogisticRegression(random_state=1234, max_iter=500)\n",
        "lgbm = LGBMClassifier(random_state=1234)\n",
        "tree = tree.DecisionTreeClassifier(random_state=1234)\n",
        "\n",
        "# Liste qui contiendra la liste des moyennes des taux de prédictions à chaque \n",
        "# itération pour chaque modèle. \n",
        "scores = []\n",
        "\n",
        "# Pour chaque modèle on réalise une validation croisée.\n",
        "for model in tqdm([knn, reglog, lgbm, tree]):\n",
        "    scores.append(cross_val_score(model, Xtrain, Ytrain_classif, cv=3))"
      ],
      "execution_count": null,
      "outputs": []
    },
    {
      "cell_type": "code",
      "metadata": {
        "id": "Ropr5ra4z7pi"
      },
      "source": [
        "# On fait la moyenne des scores à chaque itération pour n'avoir qu'un seul\n",
        "# score par modèle \n",
        "scores_moy = [(model, np.mean(score)) for model, score in zip(\n",
        "    ['KNN', 'RegLog', 'LGBM', 'Tree'], scores)]"
      ],
      "execution_count": null,
      "outputs": []
    },
    {
      "cell_type": "markdown",
      "metadata": {
        "id": "ae08KMGr59Zk"
      },
      "source": [
        "On affiche les résultats à l'aide d'un graphique "
      ]
    },
    {
      "cell_type": "code",
      "metadata": {
        "id": "vMsLR9vmz70v",
        "colab": {
          "base_uri": "https://localhost:8080/",
          "height": 677
        },
        "outputId": "c187150b-901d-42d8-fccc-0c1fb6b8dde6"
      },
      "source": [
        "# On augmente la taille de la figure\n",
        "plt.figure(figsize=(10,10))\n",
        "\n",
        "# On y ajoute un titre\n",
        "plt.suptitle('Taux moyen de prédiction issus de la validation croisée pour chaque méthode', fontsize=16, color='red')\n",
        "\n",
        "# On affiche le diagramme en barres\n",
        "plt.bar(range(4),  np.array(np.array(scores_moy)[:,1], dtype=float), align='center', alpha=0.5)\n",
        "\n",
        "# On ajoute un titre à chaque barre afin de connaitre à quelle méthode elle corrrespond\n",
        "plt.xticks(range(4), np.array(scores_moy)[:,0])\n",
        "\n",
        "# On ajoute un titre à chaque axe\n",
        "plt.xlabel(\"Modèles\")\n",
        "plt.ylabel(\"Taux de prédiction\")\n",
        "\n",
        "# On affiche la figure\n",
        "plt.show()"
      ],
      "execution_count": null,
      "outputs": [
        {
          "output_type": "display_data",
          "data": {
            "image/png": "[encoded data removed]",
            "text/plain": [
              "<Figure size 720x720 with 1 Axes>"
            ]
          },
          "metadata": {
            "tags": [],
            "needs_background": "light"
          }
        }
      ]
    },
    {
      "cell_type": "markdown",
      "metadata": {
        "id": "9w60n9kW6Tpt"
      },
      "source": [
        "Le meilleur modèle est donc clairement le LGBMClassifieur. C'est un avantage car c'est l'un des plus rapides. \n",
        "\n",
        "Par ailleurs, le taux de prédiction peut sembler assez faible (un peu moins de 75%) mais il ne faut pas oublier que la différence entre le cluster 0 et le cluster 1 est très faible pour les scores proches de 1 (0, 2, 3). En effet, il n'est pas illogique que le classifieur se \"trompe\" en classant un commentaire avec un score de 2 dans le cluster 1 ou lieu du cluster 0. Cela reste des erreurs \"faibles\" comparés au fait qu'il classe un commentaire avec un score de 500 dans le cluster 1. "
      ]
    },
    {
      "cell_type": "markdown",
      "metadata": {
        "id": "BxwP-ed96k6g"
      },
      "source": [
        "### 1-3 Application de la classification sur l'échantillon de test "
      ]
    },
    {
      "cell_type": "code",
      "metadata": {
        "id": "NUmLcnbwz8Dz"
      },
      "source": [
        "# Définition du meilleur modèle\n",
        "lgbm = LGBMClassifier(random_state=123)\n",
        "\n",
        "# Apprentissage (sur Ytrain_classif)\n",
        "lgbm.fit(Xtrain, Ytrain_classif)\n",
        "\n",
        "# Prédiction (sur Xtest)\n",
        "pred_classif = lgbm.predict(Xtest)"
      ],
      "execution_count": 24,
      "outputs": []
    },
    {
      "cell_type": "markdown",
      "metadata": {
        "id": "g8YzP_gt7OLj"
      },
      "source": [
        "On doit également appliquer cette classification sur l'échantillon d'entrainement (par validation croisée) car pour entrainer le futur modèle de régression sur le groupe 0 (constitué normalement des commentaires ayant un score différent de 1), on doit utiliser un ensemble d'apprentissage plutôt \"similaire\" : celui qui aura était classé à 0 par validation croisée. "
      ]
    },
    {
      "cell_type": "code",
      "metadata": {
        "id": "-5sJpR4n6e-g"
      },
      "source": [
        "# Contrairement à la validation croisée précédente, ici le résultat est la \n",
        "# prédiction et non pas le taux de prédiction. \n",
        "pred_classif_train = cross_val_predict(lgbm, Xtrain, Ytrain_classif, cv=3)"
      ],
      "execution_count": 25,
      "outputs": []
    },
    {
      "cell_type": "markdown",
      "metadata": {
        "id": "7NXiAct38bz4"
      },
      "source": [
        "On ajoute les résultats de classification (aussi bien sur Train que sur Test) au DataFrame afin de séparer les échantillons d'apprentissage et de test en deux (un pour le cluster 0 un autre pour le cluster 1). "
      ]
    },
    {
      "cell_type": "code",
      "metadata": {
        "colab": {
          "base_uri": "https://localhost:8080/"
        },
        "id": "6Lb1OKPe6fRB",
        "outputId": "355167a5-1a32-4b91-d6d9-c9525cc20e57"
      },
      "source": [
        "# On concatène les deux listes de résultats de clusters \n",
        "clusters = list(pred_classif_train) \n",
        "clusters.extend(pred_classif)\n",
        "\n",
        "# On vérifie que la longueur est bien égale au nombre de commentaires au total\n",
        "len(clusters)"
      ],
      "execution_count": 26,
      "outputs": [
        {
          "output_type": "execute_result",
          "data": {
            "text/plain": [
              "4234970"
            ]
          },
          "metadata": {
            "tags": []
          },
          "execution_count": 26
        }
      ]
    },
    {
      "cell_type": "code",
      "metadata": {
        "id": "5dXfkLNh6fc7"
      },
      "source": [
        "# On l'ajoute dans une nouvelle colonne du DataFrame\n",
        "df['cluster'] = clusters"
      ],
      "execution_count": 27,
      "outputs": []
    },
    {
      "cell_type": "code",
      "metadata": {
        "colab": {
          "base_uri": "https://localhost:8080/"
        },
        "id": "a3xMysSJ9ZIJ",
        "outputId": "7cbce212-4408-4824-981b-ded6a245079c"
      },
      "source": [
        "index_train_0 = [str(i) for i in df.loc[np.isnan(df['ups']) == False].loc[df['cluster'] == 0].index]\n",
        "index_train_1 = [str(i) for i in df.loc[np.isnan(df['ups']) == False].loc[df['cluster'] == 1].index]\n",
        "index_test_0 = [str(i) for i in df.loc[np.isnan(df['ups'])].loc[df['cluster'] == 0].index]\n",
        "index_test_1 = [str(i) for i in df.loc[np.isnan(df['ups'])].loc[df['cluster'] == 1].index]\n",
        "\n",
        "# Vérification \n",
        "len(index_train_0) + len(index_train_1) + len(index_test_0) + len(index_test_1)"
      ],
      "execution_count": 28,
      "outputs": [
        {
          "output_type": "execute_result",
          "data": {
            "text/plain": [
              "4234970"
            ]
          },
          "metadata": {
            "tags": []
          },
          "execution_count": 28
        }
      ]
    },
    {
      "cell_type": "markdown",
      "metadata": {
        "id": "B1YVsnrqJ4m7"
      },
      "source": [
        "Malgré le fait que le clustering n'est pas parfait, une grande majorité des commentaires de l'échantillon 'test' classés dans le groupe \"1\" sont censés avoir un score de \"1\" (ou très proche 0, 2). Ainsi au lieu d'appliquer un modèle de régression sur ce groupe de commentaire, on met pour chacun d'eux la prédiction à 1. \n"
      ]
    },
    {
      "cell_type": "code",
      "metadata": {
        "id": "F90Yf2h89aSD"
      },
      "source": [
        "# On crée un dictionnaire qui met en relation l'index du commentaire et son score.\n",
        "# Ici le score est 1. Le dictionnaire sera mis à jour au fur et à mesure qu'on \n",
        "# prédit de nouveau score.\n",
        "prediction = dict([(index, 1)  for index in index_test_1])"
      ],
      "execution_count": 29,
      "outputs": []
    },
    {
      "cell_type": "markdown",
      "metadata": {
        "id": "Qw2kEyVgNI8I"
      },
      "source": [
        "Désormais, nous devons prédire les scores sur l'échantillon de test classé dans le cluster 0 (à partir de données d'entrainement classées également dans le clsuter 0). "
      ]
    },
    {
      "cell_type": "code",
      "metadata": {
        "colab": {
          "base_uri": "https://localhost:8080/"
        },
        "id": "io8NfkHYpxzE",
        "outputId": "46271407-ac5f-4c1e-a92b-9bed4a7b8301"
      },
      "source": [
        "Ytrain.loc[index_train_0].value_counts()[:10]"
      ],
      "execution_count": 30,
      "outputs": [
        {
          "output_type": "execute_result",
          "data": {
            "text/plain": [
              " 1    349091\n",
              " 2    285728\n",
              " 3    157997\n",
              " 0     69727\n",
              " 4     62719\n",
              " 5     57436\n",
              " 6     43039\n",
              " 7     31438\n",
              " 8     24122\n",
              "-1     23690\n",
              "Name: ups, dtype: int64"
            ]
          },
          "metadata": {
            "tags": []
          },
          "execution_count": 30
        }
      ]
    },
    {
      "cell_type": "markdown",
      "metadata": {
        "id": "70AzZw0HOTSm"
      },
      "source": [
        "On s'aperçoit que malgré notre 1ère étape de classification, le nombre de commentaires ayant un score de \"1\" est encore majoritaire (bien qu'ils soient bien moins présents). <br> \n",
        "Nous avons fait le choix d'effectuer une deuxième étape de classification, cette fois-ci un peu plus large puisque nous souhaitons classe dans le cluster 2 les commentaires classés dans le cluster 0 lors de la première classification et qui ont un score de 1, 2 ou 3 (les scores ayant la plus forte proportion selon la liste précédente). "
      ]
    },
    {
      "cell_type": "markdown",
      "metadata": {
        "id": "JEuEaK1WWWr6"
      },
      "source": [
        "### 1-4 2e classification "
      ]
    },
    {
      "cell_type": "code",
      "metadata": {
        "id": "nwWkgdfp75_b"
      },
      "source": [
        "def partition2(y):\n",
        "    \"\"\"\n",
        "    Fonction qui permet de transformer Ytrain (variable continue) en variable \n",
        "    binaire composée de 0 ou de 2. \n",
        "\n",
        "    Paramètre : \n",
        "        - y (int) : score du commentaire initial.\n",
        "    \n",
        "    Sortie : \n",
        "        - y (int) : deux valeurs possibles : 2 si le paramètre d'entrée \n",
        "        vaut 1, 2 ou 3, 0 sinon. \n",
        "    \"\"\"\n",
        "\n",
        "    if (y == 1 or y == 2 or y == 3):\n",
        "        y = 2\n",
        "\n",
        "    else :\n",
        "        y = 0\n",
        "\n",
        "    return y"
      ],
      "execution_count": 31,
      "outputs": []
    },
    {
      "cell_type": "code",
      "metadata": {
        "id": "23emoApn8Jzf"
      },
      "source": [
        "Ytrain_classif_2 = [partition2(y) for y in Ytrain.loc[index_train_0]]"
      ],
      "execution_count": 32,
      "outputs": []
    },
    {
      "cell_type": "code",
      "metadata": {
        "id": "uDENZkg08QAd",
        "colab": {
          "base_uri": "https://localhost:8080/"
        },
        "outputId": "8f5dadd1-8f58-4b6e-cddd-825989db8ae2"
      },
      "source": [
        "pd.Series(Ytrain_classif_2).value_counts()"
      ],
      "execution_count": 33,
      "outputs": [
        {
          "output_type": "execute_result",
          "data": {
            "text/plain": [
              "2    792816\n",
              "0    603221\n",
              "dtype: int64"
            ]
          },
          "metadata": {
            "tags": []
          },
          "execution_count": 33
        }
      ]
    },
    {
      "cell_type": "markdown",
      "metadata": {
        "id": "nDNQtbPUQsBn"
      },
      "source": [
        "De nouveau, la classification devrait permettre d'obtenir deux groupes de taille plutôt équivalente. \n",
        "\n",
        "Appliquons à nouveau le modèle de classification. "
      ]
    },
    {
      "cell_type": "code",
      "metadata": {
        "id": "bZiDA1gMjDs_"
      },
      "source": [
        "# Définition du meilleur modèle\n",
        "lgbm = LGBMClassifier(random_state=123)\n",
        "\n",
        "# Apprentissage (sur Ytrain_classif_2)\n",
        "lgbm.fit(Xtrain.loc[index_train_0], Ytrain_classif_2)\n",
        "\n",
        "# Prédiction (sur Xtest classé comme 0 à la première classification)\n",
        "pred_classif_2 = lgbm.predict(Xtest.loc[index_test_0])"
      ],
      "execution_count": 34,
      "outputs": []
    },
    {
      "cell_type": "markdown",
      "metadata": {
        "id": "ctIXBCZBRY9D"
      },
      "source": [
        "On doit toujours appliquer cette classification sur l'échantillon d'entrainement (par validation croisée).En effet, pour entrainer le futur modèle de régression sur le groupe 0 (constitué normalement des commentaires ayant un score différent de 1, 2 ou 3), on doit utiliser un ensemble d'apprentissage plutôt \"similaire\" : celui qui aura était classé à 0 lors de la  validation croisée. "
      ]
    },
    {
      "cell_type": "code",
      "metadata": {
        "id": "PZcasJPMsUG7"
      },
      "source": [
        "pred_classif_train_2 = cross_val_predict(lgbm, Xtrain.loc[index_train_0], Ytrain_classif_2, cv=3)"
      ],
      "execution_count": 35,
      "outputs": []
    },
    {
      "cell_type": "markdown",
      "metadata": {
        "id": "TmWqKw3_Tatw"
      },
      "source": [
        "On met à jour le numéro de clusters (certains commentaires classés 0 lors de la 1zere classification sont désormais classés 2). "
      ]
    },
    {
      "cell_type": "code",
      "metadata": {
        "id": "QxQseZefhWhh"
      },
      "source": [
        "df.loc[index_train_0, ['cluster']] = pred_classif_train_2\n",
        "df.loc[index_test_0, ['cluster']] = pred_classif_2"
      ],
      "execution_count": 36,
      "outputs": []
    },
    {
      "cell_type": "markdown",
      "metadata": {
        "id": "7TevOEonT-77"
      },
      "source": [
        "On récupère les nouveaux indexes des clusters 0 et 2 (ceux du cluster 1 restent inchangés)."
      ]
    },
    {
      "cell_type": "code",
      "metadata": {
        "id": "Pf7I5mUCNp9h",
        "colab": {
          "base_uri": "https://localhost:8080/"
        },
        "outputId": "acddbf5e-4821-451b-afe8-c1e3dafc7536"
      },
      "source": [
        "# Mise à jour des indexes \n",
        "index_train_0 = [str(i) for i in df.loc[np.isnan(df['ups']) == False].loc[df['cluster'] == 0].index]\n",
        "index_train_2 = [str(i) for i in df.loc[np.isnan(df['ups']) == False].loc[df['cluster'] == 2].index]\n",
        "\n",
        "index_test_0 = [str(i) for i in df.loc[np.isnan(df['ups'])].loc[df['cluster'] == 0].index]\n",
        "index_test_2 = [str(i) for i in df.loc[np.isnan(df['ups'])].loc[df['cluster'] == 2].index]\n",
        "\n",
        "# Vérification \n",
        "len(index_train_0) + len(index_train_1) + len(index_test_0) + len(index_test_1) + \\\n",
        "len(index_train_2) + len(index_test_2)"
      ],
      "execution_count": 37,
      "outputs": [
        {
          "output_type": "execute_result",
          "data": {
            "text/plain": [
              "4234970"
            ]
          },
          "metadata": {
            "tags": []
          },
          "execution_count": 37
        }
      ]
    },
    {
      "cell_type": "markdown",
      "metadata": {
        "id": "_wbp9AghUkBl"
      },
      "source": [
        "Mettons à jour le dictionnaire de nos prédictions.\n",
        "\n",
        " Le groupe 2 est censé contenir une grande majorité de commentaires devant avoir un score de 1, 2 ou 3. Comme précédement, nous jugeons qu'il est plus pertinent de donner à l'ensemble de ces commenataires une seule et même valeur plutôt que d'essayer d'y entrainer un modèle de régression (les résultats des soumissions nous donne raison). \n",
        "\n",
        " Cependant, cette fois-ci, le choix de la valeur est un peu moins évidente que le 1 précédent. Nous avons fait le choix de donner la valeur \"2\" qui est un bon compromis entre 1 et 3. "
      ]
    },
    {
      "cell_type": "code",
      "metadata": {
        "id": "fwAAFUNxNqtI"
      },
      "source": [
        "# On ajoute de nouvelles prédictions \n",
        "prediction.update(dict([(index, 2)  for index in index_test_2]))"
      ],
      "execution_count": 38,
      "outputs": []
    },
    {
      "cell_type": "markdown",
      "metadata": {
        "id": "hl-yOnUnVwXo"
      },
      "source": [
        "Nous pouvons enfin passer à l'apprentissage d'un modèle de régression sur les données du cluster 0. Ce cluster étant beaucoup plus hétérogène qu'initialement, nous estimons que le modèle de régession aura plus de faciliter à prédire (il ne sera plus gêné par l'abondance de \"1\"). "
      ]
    },
    {
      "cell_type": "markdown",
      "metadata": {
        "id": "IwOfPtcdWFAF"
      },
      "source": [
        "## (2) Modèle de régression\n",
        "Pour ce modèle de régression nous partons directement sur le modèle LightGBM car c'est l'un des modèles les plus performants (voire le plus performant) dans les compétitions Kaggle. De plus, en faisant des validations croisées sur l'échantillon d'apprentissage c'est lui qui nous offrait les meilleurs performances par rapport aux autres modèles, notamment XGBoost.  "
      ]
    },
    {
      "cell_type": "code",
      "metadata": {
        "id": "xw8N2DPCcJk8"
      },
      "source": [
        "# On ne doit plus que prédire les scores du clusters 0, d'où :\n",
        "Xtrain0 = Xtrain.loc[index_train_0]\n",
        "Ytrain0 = Ytrain.loc[index_train_0]\n",
        "Xtest0 =  Xtest.loc[index_test_0]"
      ],
      "execution_count": 39,
      "outputs": []
    },
    {
      "cell_type": "markdown",
      "metadata": {
        "id": "8Hl1FqP5ch4x"
      },
      "source": [
        "### 2-1 Sélection des features les plus pertinentes\n",
        "L'amélioration de ce modèle peut être fait de deux façons : le tuning des hyperparamètres (c'est-à-dire l'opitmisation des paramètres du modèle) ou la sélection de features. <br> \n",
        "Nous commençons ici par la sélection de features. Nous entrainons un modèle sur l'échantillon de train0 et on regarde quelles sont les features les plus importantes. "
      ]
    },
    {
      "cell_type": "code",
      "metadata": {
        "id": "Nm75P_nNNq5s",
        "colab": {
          "base_uri": "https://localhost:8080/"
        },
        "outputId": "dfde1f35-a7b1-4a28-9aa7-09c46f34b454"
      },
      "source": [
        "# On réalise un premier apprentissage pour déterminer les features avec la plus\n",
        "# grande importance\n",
        "LGBM = LGBMRegressor(random_state=12345)\n",
        "LGBM.fit(Xtrain0, Ytrain0)"
      ],
      "execution_count": 40,
      "outputs": [
        {
          "output_type": "execute_result",
          "data": {
            "text/plain": [
              "LGBMRegressor(boosting_type='gbdt', class_weight=None, colsample_bytree=1.0,\n",
              "              importance_type='split', learning_rate=0.1, max_depth=-1,\n",
              "              min_child_samples=20, min_child_weight=0.001, min_split_gain=0.0,\n",
              "              n_estimators=100, n_jobs=-1, num_leaves=31, objective=None,\n",
              "              random_state=12345, reg_alpha=0.0, reg_lambda=0.0, silent=True,\n",
              "              subsample=1.0, subsample_for_bin=200000, subsample_freq=0)"
            ]
          },
          "metadata": {
            "tags": []
          },
          "execution_count": 40
        }
      ]
    },
    {
      "cell_type": "code",
      "metadata": {
        "colab": {
          "base_uri": "https://localhost:8080/",
          "height": 607
        },
        "id": "2fTC5xs8d7Ru",
        "outputId": "9ec2fb80-80eb-4c9d-b982-88ba99ee3e54"
      },
      "source": [
        "# Taille de la figure \n",
        "plt.figure(figsize=(20,10))\n",
        "\n",
        "# Importance des features\n",
        "importance = np.abs(LGBM.feature_importances_)\n",
        "\n",
        "# Noms des features (ici comme il y en a beaucoup on les numérote seulement)\n",
        "feature_names = np.array(range(0,34))\n",
        "\n",
        "# Histogramme\n",
        "plt.bar(height=importance, x=feature_names)\n",
        "\n",
        "# Titre\n",
        "plt.title(\"Importance des features pour le modèle de régression LGBM\")\n",
        "\n",
        "# Affichage\n",
        "plt.show()"
      ],
      "execution_count": 41,
      "outputs": [
        {
          "output_type": "display_data",
          "data": {
            "image/png": "[encoded data removed]",
            "text/plain": [
              "<Figure size 1440x720 with 1 Axes>"
            ]
          },
          "metadata": {
            "tags": [],
            "needs_background": "light"
          }
        }
      ]
    },
    {
      "cell_type": "markdown",
      "metadata": {
        "id": "KwaHpiWieOFe"
      },
      "source": [
        "On voit clairement à l'aide de ce graphique qu'il y a des features qui aident à la prédiction (17, 22, etc). Et d'autres pas du tout (4, 34, 35). On ne sait pas à quoi elles correspondent, donc faisons la correspondance entre les numéros et leur nom. \n",
        "\n",
        "On récupère les 17 features qui ont un coefficient supérieur à 50. "
      ]
    },
    {
      "cell_type": "code",
      "metadata": {
        "id": "31OkLyhpepCi",
        "colab": {
          "base_uri": "https://localhost:8080/"
        },
        "outputId": "041ea29b-c9a0-405b-aa0d-73288aeba638"
      },
      "source": [
        "indexes_best_features = np.argsort(importance)[::-1][:17]\n",
        "[(features, index) for index, features in enumerate(Xtest.columns) if index in indexes_best_features]"
      ],
      "execution_count": 42,
      "outputs": [
        {
          "output_type": "execute_result",
          "data": {
            "text/plain": [
              "[('length_comment_chars_before_NLP', 4),\n",
              " ('length_comment_chars_after_NLP', 5),\n",
              " ('sentiment_child', 8),\n",
              " ('nb_direct_resp', 10),\n",
              " ('nb_total_resp', 11),\n",
              " ('author_centrality_degree', 12),\n",
              " ('author_centrality_ev', 13),\n",
              " ('author_prestige_degree', 14),\n",
              " ('resp_time_parent', 15),\n",
              " ('resp_time_topic', 16),\n",
              " ('score_parent', 17),\n",
              " ('score_topic', 18),\n",
              " ('nb_comments_parent', 19),\n",
              " ('nb_comments_topic', 20),\n",
              " ('ratio_topic', 21),\n",
              " ('author_mean_score', 22),\n",
              " ('comment_karma', 26)]"
            ]
          },
          "metadata": {
            "tags": []
          },
          "execution_count": 42
        }
      ]
    },
    {
      "cell_type": "markdown",
      "metadata": {
        "id": "gyXfRr5ZeiBU"
      },
      "source": [
        "Voici la liste des features ayant le plus grand impact sur la régression. Sans surprise on retrouve les features liées au score des éléments autour du commentaire (score du parent, score du topic, score moyen de l'auteur, etc). \n",
        "\n",
        "On a \"joué\" avec cette liste pour obtenir les meilleures prédictions sur l'échantillon de test. Finalement, le nombre de features retenues est de 12. "
      ]
    },
    {
      "cell_type": "code",
      "metadata": {
        "id": "etXsuoT_NrGN"
      },
      "source": [
        "# Modification des échantillons d'apprentissage et de test \n",
        "indexes_best_features = [4, 5, 8, 10, 11, 15, 16, 18, 19, 20, 22, 26]\n",
        "\n",
        "Xtest0 = Xtest0.iloc[:, indexes_best_features]\n",
        "Xtrain0 = Xtrain0.iloc[:, indexes_best_features]"
      ],
      "execution_count": 43,
      "outputs": []
    },
    {
      "cell_type": "code",
      "metadata": {
        "id": "3xHa3SpxhWhn"
      },
      "source": [
        "# Apprentissage avec un nombre de features réduit\n",
        "LGBM = LGBMRegressor(random_state=12345)\n",
        "LGBM.fit(Xtrain0, Ytrain0)\n",
        "pred = LGBM.predict(Xtest0)"
      ],
      "execution_count": 44,
      "outputs": []
    },
    {
      "cell_type": "code",
      "metadata": {
        "id": "cS4uW8RHiI0t"
      },
      "source": [
        "# Ajout des dernières prédictions\n",
        "# Le score que l'on prédit doit être un entier donc il faut \"caster\" la prédiction\n",
        "prediction.update(dict([(index, int(predic))\n",
        "                        for index, predic in zip(index_test_0, pred)]))"
      ],
      "execution_count": 45,
      "outputs": []
    },
    {
      "cell_type": "markdown",
      "metadata": {
        "id": "G6hX0V5vgtHW"
      },
      "source": [
        "Après soumission, on constate une amélioration des résultats. "
      ]
    },
    {
      "cell_type": "markdown",
      "metadata": {
        "id": "6aYrr7Z51Rku"
      },
      "source": [
        "### 2-2 Optimisation des hyper-paramètres\n",
        "Tous les algorithmes d'apprentissage sont paramétrables. Les valeurs de ces paramètres peuvent impacter les performances du modèle et sont dépendantes des données manipulées. Il peut alors être intéressant de chercher les meilleures valeurs de ces paramètres pour booster la performance de notre modèle. C'est ce que l'on appelle l'étape d'optimisation des hyper-paramètres. <br> \n",
        "Normalement la stratégie à adopter est l'utilisation d'une grille de recherche telle que : "
      ]
    },
    {
      "cell_type": "code",
      "metadata": {
        "id": "eu8JXooxYg-q"
      },
      "source": [
        "# On définit des listes de valeurs pour certains paramètres. \n",
        "parameters_LGBM = { \n",
        "    'num_leaves': np.arange(5, 100, 5),\n",
        "    'n_estimators ' : np.arange(100, 1000, 100), \n",
        "    'subsample_for_bin ' : np.arange(50000, 500000, 50000), \n",
        "    'objective ' : ['regression'], \n",
        "    'min_child_samples ' : np.arange(10, 500, 50), \n",
        "    'min_child_weight': [1e-5, 1e-3, 1e-2, 1e-1, 1, 1e1, 1e2, 1e3, 1e4],\n",
        "    'importance_type ' : ('split', 'gain'),\n",
        "    'learning_rate' : [0.5, 0.1, 0.05, 0.01, 0.005, 0.001]\n",
        "}"
      ],
      "execution_count": 46,
      "outputs": []
    },
    {
      "cell_type": "code",
      "metadata": {
        "colab": {
          "base_uri": "https://localhost:8080/"
        },
        "id": "utv8w7tjYg-q",
        "outputId": "26d70563-e055-4cd6-e9f4-ea921fb5eae0"
      },
      "source": [
        "# Nombre de combinaison \n",
        "len(list(ParameterGrid(parameters_LGBM)))"
      ],
      "execution_count": 47,
      "outputs": [
        {
          "output_type": "execute_result",
          "data": {
            "text/plain": [
              "1662120"
            ]
          },
          "metadata": {
            "tags": []
          },
          "execution_count": 47
        }
      ]
    },
    {
      "cell_type": "markdown",
      "metadata": {
        "id": "ZD5omrvG2amA"
      },
      "source": [
        "Comme le nombre de paramètres à optimiser est important, le nombre de combinaisons possibles explose. Il est bien évidemment impossible de tester chacune des solutions. La solution est de passer par la fonction `RandomizedSearchCV` qui permet de texter aléatoirement `n_iter` combinaison. <br> \n",
        "Le problème est que pour tester au moins 10% des solutions possibles, il faudrait tester plus de 150 000 combinaisons et donc entrainer 150 000 fois le modèle. Ce qui serait très très long. <br> \n",
        "Nous avons effectué seulement 1000 entrainement, mais le résultat retrouné n'améliorait pas notre modèle (ce qui n'est pas étonant car il aurait fallut beaucoup de chance pour donner sur la bonne combinaison sachant qu'on en tire aléatoirement 1000 parmi 1.6 millions...). C'est une méthode que nous avons donc abandonné. "
      ]
    },
    {
      "cell_type": "code",
      "metadata": {
        "id": "v_L-U7_sYg-r"
      },
      "source": [
        "classifier = LGBMRegressor(random_state=123, silent=True, metric='l1', n_jobs=-1)\n",
        "\n",
        "find_parameters = RandomizedSearchCV(\n",
        "    estimator=classifier, param_distributions=parameters_LGBM, \n",
        "    n_iter=1000,\n",
        "    scoring='neg_mean_absolute_error',\n",
        "    cv=3,\n",
        "    random_state=300,\n",
        "    verbose=False)\n",
        "\n",
        "# Prend plus d'une heure à être exécuté\n",
        "#find_parameters.fit(Xtrain0, Ytrain0)"
      ],
      "execution_count": 49,
      "outputs": []
    },
    {
      "cell_type": "code",
      "metadata": {
        "id": "k02ZWx-NYg-s"
      },
      "source": [
        "print('Best score : {} with parameters: {} '.format(find_parameters.best_score_, find_parameters.best_params_))"
      ],
      "execution_count": null,
      "outputs": []
    },
    {
      "cell_type": "markdown",
      "metadata": {
        "id": "XoEofxIA35Vj"
      },
      "source": [
        "Pour optimiser les paramètres de notre modèle `LGBMRegressor`, nous avons donc dû procédé manuellement. Pour cela, la [page officiel du LGBM](https://lightgbm.readthedocs.io/en/latest/Parameters-Tuning.html) nous a été d'une aide précieuse. En effet, on y apprant que pour un meilleur score, il est conseillé soit d'augmenter la valeur de `max_bin` (ce qui peut ralentir l'entrainement), soit de diminuer la valeur de `learning_rate` et augmenter celle de `n_estimators`, soit d'augmenter la valeur de `large num_leaves` ou soit d'utiliser le boosting de type `dart` au lieu de `gbdt`. <br> \n",
        "Après plusieurs tests, nous avons finalement diminué la valeur de `learning_rate` et augmenté celle de `n_estimators` (nombre d'itérations). \n"
      ]
    },
    {
      "cell_type": "code",
      "metadata": {
        "id": "dZSgVvDs0lZa"
      },
      "source": [
        "LGBM = LGBMRegressor(random_state=12345, learning_rate=0.01, n_estimators=500)\n",
        "LGBM.fit(Xtrain0, Ytrain0)\n",
        "pred = LGBM.predict(Xtest0)"
      ],
      "execution_count": 50,
      "outputs": []
    },
    {
      "cell_type": "markdown",
      "metadata": {
        "id": "E3EoWpFH5xwX"
      },
      "source": [
        "On peut mettre à jour les prédictions sur le cluster 0. "
      ]
    },
    {
      "cell_type": "code",
      "metadata": {
        "id": "JOjOq2Ar5irS"
      },
      "source": [
        "# Mise à jour des dernières prédictions (elles seront remplacées pas dupliquées)\n",
        "# Le score que l'on prédit doit être un entier donc il faut \"caster\" la prédiction\n",
        "prediction.update(dict([(index, int(predic))\n",
        "                        for index, predic in zip(index_test_0, pred)]))"
      ],
      "execution_count": 51,
      "outputs": []
    },
    {
      "cell_type": "code",
      "metadata": {
        "colab": {
          "base_uri": "https://localhost:8080/"
        },
        "id": "gjSQo1MF6Fiy",
        "outputId": "829a8ff7-e581-42e8-a9e6-86e44b95642b"
      },
      "source": [
        "len(prediction)"
      ],
      "execution_count": 52,
      "outputs": [
        {
          "output_type": "execute_result",
          "data": {
            "text/plain": [
              "1016458"
            ]
          },
          "metadata": {
            "tags": []
          },
          "execution_count": 52
        }
      ]
    },
    {
      "cell_type": "markdown",
      "metadata": {
        "id": "_kdg5G625-rK"
      },
      "source": [
        "### 2-3 Sousmission \n",
        "Nous avons prédit l'ensemble des commentaires de l'échantillon de test. On peut désormais regrouper le tout dans un DataFrame que nous stockerons dans un fichier qui servira de sousmission sur le site de Kaggle. "
      ]
    },
    {
      "cell_type": "code",
      "metadata": {
        "id": "F4ESU13GYgKu"
      },
      "source": [
        "# Identifiants des commentaires\n",
        "name_submission = [n[3:] for n in name[3218512:]]\n",
        "# Prédictions des scores\n",
        "pred_submission = [prediction[index] for index in df_test.index]\n",
        "\n",
        "# DataFrame\n",
        "df_submission = pd.DataFrame({'id' : name_submission, \n",
        "                              'predicted' : pred_submission})\n",
        "\n",
        "# Enregistrement dans un fichier \n",
        "df_submission.to_csv(pathFile + 'submission_kaggle.csv', index=False)"
      ],
      "execution_count": 53,
      "outputs": []
    },
    {
      "cell_type": "markdown",
      "metadata": {
        "id": "7DZ39X_L7em0"
      },
      "source": [
        "# Bilan \n",
        "Même si le score nous semble être en deçà de notre travail effectué tout au long de ce projet, nous estimons que nous avons fait de notre mieux dans la recherche de features et surtout sur la recherche d'informations supplémentaires sur les auteurs et les topics/posts (par scraping) <br> \n",
        "La partie sur l'analyse du contenu des commentaires aurait toutefois méritée plus de travail, mais limités par le temps, nous n'avons pu effectuer tout ce que nous voulions mettre en place (LDA, similirité entre commentaire et le sujet). Peut-être c'est ce qu'il nous a manqué pour amélioré notre score. \n"
      ]
    }
  ]
}