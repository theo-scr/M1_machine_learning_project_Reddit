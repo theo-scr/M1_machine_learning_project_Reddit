{
  "nbformat": 4,
  "nbformat_minor": 0,
  "metadata": {
    "colab": {
      "name": "(2-5)_features_others.ipynb",
      "provenance": [],
      "collapsed_sections": []
    },
    "kernelspec": {
      "name": "python3",
      "display_name": "Python 3"
    },
    "language_info": {
      "name": "python"
    }
  },
  "cells": [
    {
      "cell_type": "markdown",
      "metadata": {
        "id": "tYC9eHdOc6yi"
      },
      "source": [
        "<strong>Date :</strong> Créé le 03 Avril 2021| Mis à jour le 10 Avril 2021 </strong>\n",
        "\n",
        "<strong>Compétition Kaggle - Team Théo\n",
        "    \n",
        "@auteur : </strong>Théo SACCAREAU & Théo VEDIS\n",
        "\n",
        "<strong>(2-5)create_features_others\n",
        "      \n",
        "Description :</strong> A travers ce Notebook, nous détaillerons notre méthode pour créer toutes sortes de features que nous jugeons pertinentes pour prédire le score d'un commentaire mais qui ne correspondaient pas à des features liées au texte ou aux réseaux.\n",
        "\n",
        "Temps d'exécution du Notebook : environ  5min."
      ]
    },
    {
      "cell_type": "markdown",
      "metadata": {
        "id": "imAEsGzZGyz-"
      },
      "source": [
        "# Installer / Télécharger / Importer des librairies"
      ]
    },
    {
      "cell_type": "code",
      "metadata": {
        "id": "BcvnUgP4Gyz4"
      },
      "source": [
        "# Librairies usuelles \n",
        "import networkx as nx\n",
        "import pandas as pd\n",
        "import numpy as np\n",
        "from tqdm import tqdm \n",
        "import json\n",
        "\n",
        "# Librairie pour gérer le format de date UTC \n",
        "from datetime import datetime"
      ],
      "execution_count": 1,
      "outputs": []
    },
    {
      "cell_type": "markdown",
      "metadata": {
        "id": "KlUNxsXdGMpP"
      },
      "source": [
        "# Chemin "
      ]
    },
    {
      "cell_type": "code",
      "metadata": {
        "id": "LY896iIwGy0G"
      },
      "source": [
        "# Chemin relatif vers le dossier \"data\" (inutile de le changer).\n",
        "pathFile = \"../data/\" "
      ],
      "execution_count": 2,
      "outputs": []
    },
    {
      "cell_type": "markdown",
      "metadata": {
        "id": "GaPBGrY2AciM"
      },
      "source": [
        "# Chargement des données d'entrée"
      ]
    },
    {
      "cell_type": "markdown",
      "metadata": {
        "id": "kLgq6P6jQ_BH"
      },
      "source": [
        "Nous avons besoin du fichier créé par le Notebook précédent. "
      ]
    },
    {
      "cell_type": "code",
      "metadata": {
        "id": "7vtAbrrWBjkD"
      },
      "source": [
        "# Temps exécution : 2min \n",
        "with open( pathFile + 'df_features_network2.json') as json_data:\n",
        "    data_dict = json.load(json_data)\n",
        "\n",
        "# On transforme le dictionnaire en DataFrame \n",
        "# Temps exécution : 1min30\n",
        "df = pd.DataFrame(data_dict)\n",
        "\n",
        "# On libère de la RAM en supprimant la variable data_dict qui ne nous servira plus\n",
        "del data_dict"
      ],
      "execution_count": 3,
      "outputs": []
    },
    {
      "cell_type": "code",
      "metadata": {
        "id": "jAwAmPvxAI3w",
        "colab": {
          "base_uri": "https://localhost:8080/",
          "height": 226
        },
        "outputId": "d54d41c2-56d6-46c9-c316-b96ff0ff14ce"
      },
      "source": [
        "df.head()"
      ],
      "execution_count": 4,
      "outputs": [
        {
          "output_type": "execute_result",
          "data": {
            "text/html": [
              "<div>\n",
              "<style scoped>\n",
              "    .dataframe tbody tr th:only-of-type {\n",
              "        vertical-align: middle;\n",
              "    }\n",
              "\n",
              "    .dataframe tbody tr th {\n",
              "        vertical-align: top;\n",
              "    }\n",
              "\n",
              "    .dataframe thead th {\n",
              "        text-align: right;\n",
              "    }\n",
              "</style>\n",
              "<table border=\"1\" class=\"dataframe\">\n",
              "  <thead>\n",
              "    <tr style=\"text-align: right;\">\n",
              "      <th></th>\n",
              "      <th>created_utc</th>\n",
              "      <th>ups</th>\n",
              "      <th>link_id</th>\n",
              "      <th>name</th>\n",
              "      <th>author</th>\n",
              "      <th>parent_id</th>\n",
              "      <th>is_parent_comment</th>\n",
              "      <th>is_author_deleted</th>\n",
              "      <th>is_body_deleted</th>\n",
              "      <th>bot_comment</th>\n",
              "      <th>length_comment_chars_before_NLP</th>\n",
              "      <th>length_comment_chars_after_NLP</th>\n",
              "      <th>length_comment_words</th>\n",
              "      <th>nb_stopwords</th>\n",
              "      <th>sentiment</th>\n",
              "      <th>sentiment_child</th>\n",
              "      <th>depth</th>\n",
              "      <th>nb_direct_resp</th>\n",
              "      <th>nb_total_resp</th>\n",
              "      <th>author_centrality_degree</th>\n",
              "      <th>author_centrality_ev</th>\n",
              "      <th>author_prestige_degree</th>\n",
              "    </tr>\n",
              "  </thead>\n",
              "  <tbody>\n",
              "    <tr>\n",
              "      <th>0</th>\n",
              "      <td>1430438400</td>\n",
              "      <td>3.0</td>\n",
              "      <td>t3_34f9rh</td>\n",
              "      <td>t1_cqug90j</td>\n",
              "      <td>jesse9o3</td>\n",
              "      <td>t1_cqug2sr</td>\n",
              "      <td>1</td>\n",
              "      <td>0</td>\n",
              "      <td>0</td>\n",
              "      <td>0</td>\n",
              "      <td>119</td>\n",
              "      <td>59</td>\n",
              "      <td>8</td>\n",
              "      <td>14</td>\n",
              "      <td>neg</td>\n",
              "      <td>0</td>\n",
              "      <td>2</td>\n",
              "      <td>0</td>\n",
              "      <td>0</td>\n",
              "      <td>0.000138</td>\n",
              "      <td>1.312352e-03</td>\n",
              "      <td>0.000072</td>\n",
              "    </tr>\n",
              "    <tr>\n",
              "      <th>1</th>\n",
              "      <td>1430438400</td>\n",
              "      <td>3.0</td>\n",
              "      <td>t3_34fvry</td>\n",
              "      <td>t1_cqug90k</td>\n",
              "      <td>beltfedshooter</td>\n",
              "      <td>t3_34fvry</td>\n",
              "      <td>0</td>\n",
              "      <td>0</td>\n",
              "      <td>0</td>\n",
              "      <td>0</td>\n",
              "      <td>48</td>\n",
              "      <td>13</td>\n",
              "      <td>2</td>\n",
              "      <td>7</td>\n",
              "      <td>neg</td>\n",
              "      <td>0</td>\n",
              "      <td>2</td>\n",
              "      <td>0</td>\n",
              "      <td>0</td>\n",
              "      <td>0.000005</td>\n",
              "      <td>2.167334e-19</td>\n",
              "      <td>0.000000</td>\n",
              "    </tr>\n",
              "    <tr>\n",
              "      <th>2</th>\n",
              "      <td>1430438400</td>\n",
              "      <td>5.0</td>\n",
              "      <td>t3_34ffo5</td>\n",
              "      <td>t1_cqug90z</td>\n",
              "      <td>InterimFatGuy</td>\n",
              "      <td>t1_cqu80zb</td>\n",
              "      <td>1</td>\n",
              "      <td>0</td>\n",
              "      <td>0</td>\n",
              "      <td>0</td>\n",
              "      <td>4</td>\n",
              "      <td>4</td>\n",
              "      <td>1</td>\n",
              "      <td>0</td>\n",
              "      <td>neu</td>\n",
              "      <td>0</td>\n",
              "      <td>2</td>\n",
              "      <td>0</td>\n",
              "      <td>0</td>\n",
              "      <td>0.000126</td>\n",
              "      <td>1.712427e-03</td>\n",
              "      <td>0.000051</td>\n",
              "    </tr>\n",
              "    <tr>\n",
              "      <th>3</th>\n",
              "      <td>1430438401</td>\n",
              "      <td>1.0</td>\n",
              "      <td>t3_34aqsn</td>\n",
              "      <td>t1_cqug91c</td>\n",
              "      <td>JuanTutrego</td>\n",
              "      <td>t1_cqtdj4m</td>\n",
              "      <td>1</td>\n",
              "      <td>0</td>\n",
              "      <td>0</td>\n",
              "      <td>0</td>\n",
              "      <td>54</td>\n",
              "      <td>15</td>\n",
              "      <td>3</td>\n",
              "      <td>12</td>\n",
              "      <td>neg</td>\n",
              "      <td>0</td>\n",
              "      <td>2</td>\n",
              "      <td>0</td>\n",
              "      <td>0</td>\n",
              "      <td>0.000000</td>\n",
              "      <td>2.167334e-19</td>\n",
              "      <td>0.000000</td>\n",
              "    </tr>\n",
              "    <tr>\n",
              "      <th>4</th>\n",
              "      <td>1430438401</td>\n",
              "      <td>101.0</td>\n",
              "      <td>t3_34f9rh</td>\n",
              "      <td>t1_cqug91e</td>\n",
              "      <td>dcblackbelt</td>\n",
              "      <td>t1_cquc4rc</td>\n",
              "      <td>1</td>\n",
              "      <td>0</td>\n",
              "      <td>0</td>\n",
              "      <td>0</td>\n",
              "      <td>241</td>\n",
              "      <td>164</td>\n",
              "      <td>24</td>\n",
              "      <td>20</td>\n",
              "      <td>pos</td>\n",
              "      <td>0</td>\n",
              "      <td>2</td>\n",
              "      <td>1</td>\n",
              "      <td>2</td>\n",
              "      <td>0.000004</td>\n",
              "      <td>5.092290e-05</td>\n",
              "      <td>0.000002</td>\n",
              "    </tr>\n",
              "  </tbody>\n",
              "</table>\n",
              "</div>"
            ],
            "text/plain": [
              "   created_utc    ups  ... author_centrality_ev author_prestige_degree\n",
              "0   1430438400    3.0  ...         1.312352e-03               0.000072\n",
              "1   1430438400    3.0  ...         2.167334e-19               0.000000\n",
              "2   1430438400    5.0  ...         1.712427e-03               0.000051\n",
              "3   1430438401    1.0  ...         2.167334e-19               0.000000\n",
              "4   1430438401  101.0  ...         5.092290e-05               0.000002\n",
              "\n",
              "[5 rows x 22 columns]"
            ]
          },
          "metadata": {
            "tags": []
          },
          "execution_count": 4
        }
      ]
    },
    {
      "cell_type": "markdown",
      "metadata": {
        "id": "10-Hfrr9RHCt"
      },
      "source": [
        "Nous avons également besoin de récupérer les informations que nous avons scrappée concernant les topics/posts. "
      ]
    },
    {
      "cell_type": "code",
      "metadata": {
        "id": "sKl4NYicv4nS"
      },
      "source": [
        "# On récupère également les informations scrapées sur les topics.\n",
        "# Temps exécution : 40s\n",
        "df2 = pd.read_json(pathFile + \"data_post.json\").T "
      ],
      "execution_count": 5,
      "outputs": []
    },
    {
      "cell_type": "code",
      "metadata": {
        "colab": {
          "base_uri": "https://localhost:8080/",
          "height": 206
        },
        "id": "hitD78GCwUmg",
        "outputId": "28e89658-9ba5-4933-94dc-e27af7ba86fb"
      },
      "source": [
        "df2.head()"
      ],
      "execution_count": 6,
      "outputs": [
        {
          "output_type": "execute_result",
          "data": {
            "text/html": [
              "<div>\n",
              "<style scoped>\n",
              "    .dataframe tbody tr th:only-of-type {\n",
              "        vertical-align: middle;\n",
              "    }\n",
              "\n",
              "    .dataframe tbody tr th {\n",
              "        vertical-align: top;\n",
              "    }\n",
              "\n",
              "    .dataframe thead th {\n",
              "        text-align: right;\n",
              "    }\n",
              "</style>\n",
              "<table border=\"1\" class=\"dataframe\">\n",
              "  <thead>\n",
              "    <tr style=\"text-align: right;\">\n",
              "      <th></th>\n",
              "      <th>score</th>\n",
              "      <th>up_vote_ratio</th>\n",
              "      <th>author</th>\n",
              "      <th>title</th>\n",
              "      <th>time</th>\n",
              "    </tr>\n",
              "  </thead>\n",
              "  <tbody>\n",
              "    <tr>\n",
              "      <th>t3_36sia6</th>\n",
              "      <td>2</td>\n",
              "      <td>1</td>\n",
              "      <td>HereOrToGo</td>\n",
              "      <td>What is the funniest YouTube video you've seen...</td>\n",
              "      <td>1432237175</td>\n",
              "    </tr>\n",
              "    <tr>\n",
              "      <th>t3_36njmx</th>\n",
              "      <td>3</td>\n",
              "      <td>1</td>\n",
              "      <td>healyemojicarol</td>\n",
              "      <td>what's the most important thing you look for i...</td>\n",
              "      <td>1432145117</td>\n",
              "    </tr>\n",
              "    <tr>\n",
              "      <th>t3_364lbx</th>\n",
              "      <td>3</td>\n",
              "      <td>1</td>\n",
              "      <td>Akwardswan</td>\n",
              "      <td>Dear reddit, whats the weirdest thing you foun...</td>\n",
              "      <td>1431742334</td>\n",
              "    </tr>\n",
              "    <tr>\n",
              "      <th>t3_34qa1x</th>\n",
              "      <td>3</td>\n",
              "      <td>0.8</td>\n",
              "      <td>None</td>\n",
              "      <td>What is your favorite video game of all time a...</td>\n",
              "      <td>1430671104</td>\n",
              "    </tr>\n",
              "    <tr>\n",
              "      <th>t3_36rw77</th>\n",
              "      <td>0</td>\n",
              "      <td>0.4</td>\n",
              "      <td>None</td>\n",
              "      <td>If someone offered you a very large sum of mon...</td>\n",
              "      <td>1432227976</td>\n",
              "    </tr>\n",
              "  </tbody>\n",
              "</table>\n",
              "</div>"
            ],
            "text/plain": [
              "          score  ...        time\n",
              "t3_36sia6     2  ...  1432237175\n",
              "t3_36njmx     3  ...  1432145117\n",
              "t3_364lbx     3  ...  1431742334\n",
              "t3_34qa1x     3  ...  1430671104\n",
              "t3_36rw77     0  ...  1432227976\n",
              "\n",
              "[5 rows x 5 columns]"
            ]
          },
          "metadata": {
            "tags": []
          },
          "execution_count": 6
        }
      ]
    },
    {
      "cell_type": "markdown",
      "metadata": {
        "id": "X0QQehJKR1hl"
      },
      "source": [
        "Nous avions aussi besoin des informations scrappées concernant les auteurs."
      ]
    },
    {
      "cell_type": "code",
      "metadata": {
        "id": "lWtmvfvidkss"
      },
      "source": [
        "# On récupère aussi les informations scrapées sur les auteurs.\n",
        "# Temps exécution : \n",
        "with open( pathFile + 'data_author.json') as json_data:\n",
        "    data_dict = json.load(json_data)\n",
        "\n",
        "# On transforme le dictionnaire en DataFrame \n",
        "df3 = pd.DataFrame(data_dict).T\n",
        "\n",
        "# On libère de la RAM en supprimant la vari ble data_dict qui ne nous servira plus\n",
        "del data_dict"
      ],
      "execution_count": 7,
      "outputs": []
    },
    {
      "cell_type": "code",
      "metadata": {
        "colab": {
          "base_uri": "https://localhost:8080/",
          "height": 206
        },
        "id": "TZ8WFR_edsgw",
        "outputId": "1a015cc4-a21d-410a-a5ad-21cb126cf8bc"
      },
      "source": [
        "df3.head()"
      ],
      "execution_count": 8,
      "outputs": [
        {
          "output_type": "execute_result",
          "data": {
            "text/html": [
              "<div>\n",
              "<style scoped>\n",
              "    .dataframe tbody tr th:only-of-type {\n",
              "        vertical-align: middle;\n",
              "    }\n",
              "\n",
              "    .dataframe tbody tr th {\n",
              "        vertical-align: top;\n",
              "    }\n",
              "\n",
              "    .dataframe thead th {\n",
              "        text-align: right;\n",
              "    }\n",
              "</style>\n",
              "<table border=\"1\" class=\"dataframe\">\n",
              "  <thead>\n",
              "    <tr style=\"text-align: right;\">\n",
              "      <th></th>\n",
              "      <th>has_verified_email</th>\n",
              "      <th>comment_karma</th>\n",
              "      <th>time</th>\n",
              "    </tr>\n",
              "  </thead>\n",
              "  <tbody>\n",
              "    <tr>\n",
              "      <th>shawa666</th>\n",
              "      <td>True</td>\n",
              "      <td>56448</td>\n",
              "      <td>1274134587</td>\n",
              "    </tr>\n",
              "    <tr>\n",
              "      <th>enolafaye</th>\n",
              "      <td>True</td>\n",
              "      <td>10260</td>\n",
              "      <td>1406868017</td>\n",
              "    </tr>\n",
              "    <tr>\n",
              "      <th>AshKals</th>\n",
              "      <td>True</td>\n",
              "      <td>21516</td>\n",
              "      <td>1319661313</td>\n",
              "    </tr>\n",
              "    <tr>\n",
              "      <th>ucfnate</th>\n",
              "      <td>True</td>\n",
              "      <td>8135</td>\n",
              "      <td>1323926375</td>\n",
              "    </tr>\n",
              "    <tr>\n",
              "      <th>JustThePit</th>\n",
              "      <td>False</td>\n",
              "      <td>8265</td>\n",
              "      <td>1374728085</td>\n",
              "    </tr>\n",
              "  </tbody>\n",
              "</table>\n",
              "</div>"
            ],
            "text/plain": [
              "           has_verified_email comment_karma        time\n",
              "shawa666                 True         56448  1274134587\n",
              "enolafaye                True         10260  1406868017\n",
              "AshKals                  True         21516  1319661313\n",
              "ucfnate                  True          8135  1323926375\n",
              "JustThePit              False          8265  1374728085"
            ]
          },
          "metadata": {
            "tags": []
          },
          "execution_count": 8
        }
      ]
    },
    {
      "cell_type": "markdown",
      "metadata": {
        "id": "d0VuXF4KAnR8"
      },
      "source": [
        "# (1) Features sur les dates \n",
        "A partir de la colonne `created_utc`, qui correspond à la date au format UTC (cf Notebook Obs & Nettoyage), nous allons en déduire trois nouvelles features : \n",
        "- L'heure (heure/minutes/secondes) du commentaire.   \n",
        "- Le temps de réponse entre le commentaire et son parent.\n",
        "- La temps de réponse entre le commentaire et le post.\n",
        "\n",
        "## 1-1 Heure du commentaire\n",
        "Nous estimons que l'heure d'un commentaire peut avoir une influence sur le score obtenu. Effectivement, il y a certain crénaux horaires où il y a moins d'utilisateurs connectés à Reddit (et lorsque l'affluence est de nouveau importante, le commentaire se retrouve en bas d'une discussion ou est moins visible). La visibilité du commentaire est donc moins importante, ce qui peut impacter négativement son score.  "
      ]
    },
    {
      "cell_type": "code",
      "metadata": {
        "id": "vohemt_jAfrd"
      },
      "source": [
        "# On transforme la date au format UTC en heure de publication\n",
        "df['hour'] = df['created_utc'].apply(lambda x:  int(\n",
        "    datetime.utcfromtimestamp(x).strftime(\"%H\")))\n",
        "\n",
        "# On transforme l'heure de publication en moment de la journée :\n",
        "# matin (7h-12h), après-midi (13h-19h), soir (20h-23h) ou nuit(0h-6h).\n",
        "df['hour'] = ['morning' if h >= 7 and h <= 12 else 'afternoon' if h >= 13 and h <=\n",
        "              19 else 'evening' if h >= 20 and h <= 23 else 'night' for h in df['hour']]"
      ],
      "execution_count": 9,
      "outputs": []
    },
    {
      "cell_type": "code",
      "metadata": {
        "colab": {
          "base_uri": "https://localhost:8080/"
        },
        "id": "2Ncz9D9TGg-m",
        "outputId": "c0396168-eb6b-45a9-fafe-4f8a88a5b728"
      },
      "source": [
        "# Résultat\n",
        "df['hour'][-10:]"
      ],
      "execution_count": 10,
      "outputs": [
        {
          "output_type": "execute_result",
          "data": {
            "text/plain": [
              "4234960    evening\n",
              "4234961    evening\n",
              "4234962    evening\n",
              "4234963    evening\n",
              "4234964    evening\n",
              "4234965    evening\n",
              "4234966    evening\n",
              "4234967    evening\n",
              "4234968    evening\n",
              "4234969    evening\n",
              "Name: hour, dtype: object"
            ]
          },
          "metadata": {
            "tags": []
          },
          "execution_count": 10
        }
      ]
    },
    {
      "cell_type": "markdown",
      "metadata": {
        "id": "by1NmhLyUeQz"
      },
      "source": [
        "C'est normal qu'il n'y ait que des \"soirs\" à la fin du jeu de données car on a vu dans l'observation des données que ces données correspondaient aux commentaires Reddit du 1er Mai 2015 0h00 au 31 Mai 2015 23h59. "
      ]
    },
    {
      "cell_type": "markdown",
      "metadata": {
        "id": "5e3Y0dlZDfXx"
      },
      "source": [
        "## 1-2 Temps de réponse commentaire-parent \n",
        "Cette nouvelle variable nous permet de connaitre le temps de réponse d'un commentaire vis à vis de son parent. Pour nous, plus le temps de réponse est important plus le score risque d'être faible. En effet, un commentaire qui répond à un commentaire ou sujet datant de plusieurs jours, aura forcément moins de visibilité qu'un commentaire qui a répondu immédiatement. "
      ]
    },
    {
      "cell_type": "code",
      "metadata": {
        "id": "uH4IlgqOcdz4"
      },
      "source": [
        "# On crée un ensemble contenant les noms de chaque commentaire. \n",
        "# On l'utilisera pour savoir si le parent d'un commentaire fait partie de notre \n",
        "# base de données (et donc qu'on peut connaitre son heure de mise en ligne) ou pas \n",
        "ens_name = set(df['name'])\n",
        "\n",
        "# On rajoute les topics \n",
        "ens_name.update(set(df2.index)) # on aurait pu utiliser set(df['link_id']) les 2 sont équivalents"
      ],
      "execution_count": 11,
      "outputs": []
    },
    {
      "cell_type": "code",
      "metadata": {
        "id": "jYMBoZZN1hiC",
        "colab": {
          "base_uri": "https://localhost:8080/"
        },
        "outputId": "e5f405f6-0e49-42ff-ad89-c2161494b6f0"
      },
      "source": [
        "# Dictionnaire qui associe commentaire-date\n",
        "dict_comm_date = dict([(name, date)\n",
        "                       for name, date in zip(tqdm(df['name']), df['created_utc'])])\n",
        "\n",
        "# Grâce aux informations scrappées, on rajoute la date des topics\n",
        "dict_comm_date.update(\n",
        "    dict([(topic, date) for topic, date in zip(tqdm(df2.index), df2['time'])]))"
      ],
      "execution_count": 12,
      "outputs": [
        {
          "output_type": "stream",
          "text": [
            "100%|██████████| 4234970/4234970 [00:03<00:00, 1364705.08it/s]\n",
            "100%|██████████| 148848/148848 [00:00<00:00, 1195426.27it/s]\n"
          ],
          "name": "stderr"
        }
      ]
    },
    {
      "cell_type": "code",
      "metadata": {
        "colab": {
          "base_uri": "https://localhost:8080/"
        },
        "id": "B8594tQYHl3g",
        "outputId": "15e13f8e-183f-4386-d594-9dd5fd317b7f"
      },
      "source": [
        "# On crée une liste qui contient la date de mise en ligne du parent\n",
        "parent_times = [dict_comm_date[parent]\n",
        "                if parent in ens_name else None for parent in tqdm(df['parent_id'])]\n",
        "\n",
        "# On fait la soustraction entre la date de mise en ligne du parent et celle du\n",
        "# commentaire actuel pour connaitre le temps de réponse commentaire-parent.\n",
        "df['resp_time_parent'] = [time - parent_time if parent_time is not None else None for parent_time,\n",
        "                          time in zip(tqdm(parent_times), df['created_utc'])]"
      ],
      "execution_count": 13,
      "outputs": [
        {
          "output_type": "stream",
          "text": [
            "100%|██████████| 4234970/4234970 [00:04<00:00, 915174.21it/s]\n",
            "100%|██████████| 4234970/4234970 [00:02<00:00, 1794902.12it/s]\n"
          ],
          "name": "stderr"
        }
      ]
    },
    {
      "cell_type": "code",
      "metadata": {
        "colab": {
          "base_uri": "https://localhost:8080/"
        },
        "id": "vhIxHW8rnigt",
        "outputId": "5824e237-7238-4435-d26b-b0391ed0c85f"
      },
      "source": [
        "# Résultat \n",
        "df['resp_time_parent'][-10:]"
      ],
      "execution_count": 14,
      "outputs": [
        {
          "output_type": "execute_result",
          "data": {
            "text/plain": [
              "4234960     2412.0\n",
              "4234961    15267.0\n",
              "4234962     8739.0\n",
              "4234963    31793.0\n",
              "4234964     4194.0\n",
              "4234965    44849.0\n",
              "4234966    44849.0\n",
              "4234967     1952.0\n",
              "4234968    41055.0\n",
              "4234969     1807.0\n",
              "Name: resp_time_parent, dtype: float64"
            ]
          },
          "metadata": {
            "tags": []
          },
          "execution_count": 14
        }
      ]
    },
    {
      "cell_type": "markdown",
      "metadata": {
        "id": "KTSwtV2h39Wq"
      },
      "source": [
        "Remarque : Le résultat est en nombre de secondes car on a soustrait deux formats UTC (secondes écoulées depuis le 1er janvier 1970 00:00:00). "
      ]
    },
    {
      "cell_type": "markdown",
      "metadata": {
        "id": "-kzb48ucMe9k"
      },
      "source": [
        "## 1-3 Temps de réponse commentaire-topic \n",
        "Quasiement identique à la feature précédente sauf qu'ici on regarde le temps de réponse entre le commentaire et le sujet (et non le parent). Dans certains cas, les deux informations peuvent être identiques (si le commentaire est directement une réponse à un topic), mais d'en d'autres situations, ce sera une information complémentaire. <br>\n",
        "Comme précédent, nous estimons que plus le temps de réponse est important plus le score risque d'être faible. En effet, un commentaire qui répond à un sujet datant de plusieurs jours, aura forcément moins de visibilité qu'un commentaire qui a répondu immédiatement. "
      ]
    },
    {
      "cell_type": "code",
      "metadata": {
        "id": "f-cYrM0EL0o0"
      },
      "source": [
        "# On crée un ensemble contenant les noms de chaque topic. \n",
        "# On l'utilisera pour savoir si le topic d'un commentaire fait partie des informations \n",
        "# scrappées (et donc qu'on peut connaitre son heure de mise en ligne) ou pas. \n",
        "# Normalement, il ne devrait pas y avoir d'oublis donc cette précaution pour éviter \n",
        "# d'éventuelles erreurs peut être omise.  \n",
        "ens_topic = set(df2.index) # on aurait pu utiliser set(df['link_id'])"
      ],
      "execution_count": 15,
      "outputs": []
    },
    {
      "cell_type": "code",
      "metadata": {
        "id": "NNO11HFoL0sf",
        "colab": {
          "base_uri": "https://localhost:8080/"
        },
        "outputId": "ee253ae3-4fe4-4687-f276-34f7b45e1b60"
      },
      "source": [
        "# Dictionnaire qui associe topic-date\n",
        "dict_topic_date = dict([(topic,date) for topic, date in zip(tqdm(df2.index), df2['time'])])"
      ],
      "execution_count": 16,
      "outputs": [
        {
          "output_type": "stream",
          "text": [
            "100%|██████████| 148848/148848 [00:00<00:00, 375921.88it/s]\n"
          ],
          "name": "stderr"
        }
      ]
    },
    {
      "cell_type": "code",
      "metadata": {
        "id": "0szw5pTTL0wV",
        "colab": {
          "base_uri": "https://localhost:8080/"
        },
        "outputId": "e9cf8a21-ff29-4882-b0dd-af798d60ff46"
      },
      "source": [
        "# On crée une liste qui contient la date de mise en ligne du topic\n",
        "topic_times = [dict_topic_date[topic]\n",
        "               if topic in ens_topic else None for topic in tqdm(df['link_id'])]\n",
        "\n",
        "# On fait la soustraction entre la date de mise en ligne du topic et celle du\n",
        "# commentaire actuel pour connaitre le temps de réponse commentaire-topic.\n",
        "df['resp_time_topic'] = [time - topic_time if topic_time is not None else None for topic_time,\n",
        "                         time in zip(tqdm(topic_times), df['created_utc'])]"
      ],
      "execution_count": 17,
      "outputs": [
        {
          "output_type": "stream",
          "text": [
            "100%|██████████| 4234970/4234970 [00:02<00:00, 1562736.72it/s]\n",
            "100%|██████████| 4234970/4234970 [00:02<00:00, 2018097.07it/s]\n"
          ],
          "name": "stderr"
        }
      ]
    },
    {
      "cell_type": "code",
      "metadata": {
        "colab": {
          "base_uri": "https://localhost:8080/"
        },
        "id": "MJRoZwI72eSF",
        "outputId": "472e5f83-e970-4431-c39f-3875177cf193"
      },
      "source": [
        "# Résultat\n",
        "df['resp_time_topic'][:10]"
      ],
      "execution_count": 18,
      "outputs": [
        {
          "output_type": "execute_result",
          "data": {
            "text/plain": [
              "0     22894\n",
              "1     13205\n",
              "2     20339\n",
              "3    109679\n",
              "4     22895\n",
              "5     11879\n",
              "6     13207\n",
              "7       698\n",
              "8       109\n",
              "9       549\n",
              "Name: resp_time_topic, dtype: int64"
            ]
          },
          "metadata": {
            "tags": []
          },
          "execution_count": 18
        }
      ]
    },
    {
      "cell_type": "markdown",
      "metadata": {
        "id": "7TAEBUiV3qKz"
      },
      "source": [
        "Désormais qu'on a créé toutes les features souhaitées à partir de la colonne `created_utc`, on peut la supprimer. "
      ]
    },
    {
      "cell_type": "code",
      "metadata": {
        "id": "vdFJI_Jx3pD4"
      },
      "source": [
        "# Suppression colonne 'created_utc'\n",
        "df = df.drop(columns=['created_utc'])"
      ],
      "execution_count": 19,
      "outputs": []
    },
    {
      "cell_type": "markdown",
      "metadata": {
        "id": "9-B6lrAyTt7f"
      },
      "source": [
        "# (2) Features sur la popularité du sujet \n",
        "Dans cette partie, nous allons extraire des features liées à la popularité du sujet. Nous pensons que cela peut être une bonne indication pour prédire le score d'un commentaire. Les features qui seront traités ici sont : \n",
        "- le score du topic dans lequel se trouve le commentaire et éventuellement le score du commentaire au-dessus (s'il est connu, c'est-à-dire, s'il se trouve dans la base d'apprentissage). \n",
        "- le nombre de commentaires du topic et le nombre de commentaire du parent.\n",
        "- le rapport du nombre de votes positifs sur le nombre de votes total pour un sujet/post "
      ]
    },
    {
      "cell_type": "markdown",
      "metadata": {
        "id": "VHIyaR_fd82b"
      },
      "source": [
        "## 2-1 Score du topic et du parent\n",
        "Le fait de connaitre cette information peut aider, selon nous, à prédire le score d'un commentaire. Effectivement, si le topic et/ou le parent de notre commentaire ont un score important, notre commentaire a plus de chance d'avoir un score plus élevé qu'un commentaire qui a un topic et son parent avec un petit score. <br>\n",
        "Bien évidemment, il peut y avoir des exceptions, par exemple, un commentaire qui répond à un sujet polémique (ayant reçu majoritairement des unlikes plutôt que des likes) et qui le contredit se verra recevoir beaucoup de likes de la part des utilisateurs qui ne sont pas d'accord avec le post initial.\n",
        "\n",
        "\n",
        "Remarque : Si le parent du commentaire est un topic (t3) alors les deux variables seront identiques dans ce cas. "
      ]
    },
    {
      "cell_type": "markdown",
      "metadata": {
        "id": "Xv84N8JIeAVv"
      },
      "source": [
        "### 2-1-1 Score parent"
      ]
    },
    {
      "cell_type": "code",
      "metadata": {
        "id": "zaG6Cu4oL00R",
        "colab": {
          "base_uri": "https://localhost:8080/"
        },
        "outputId": "4040abe8-535c-41c6-bff6-46123aeedacf"
      },
      "source": [
        "# Dictionnaire commentaire-score\n",
        "dict_comm_score = dict([(name, score)\n",
        "                        for name, score in zip(tqdm(df['name']), df['ups'])])\n",
        "\n",
        "# Grâce aux informations scrappées, on rajoute le score des topics\n",
        "dict_comm_score.update(\n",
        "    dict([(topic, score) for topic, score in zip(tqdm(df2.index), df2['score'])]))\n",
        "\n",
        "# A partir de ce dictionnaire, on crée une liste qui contient le score du parent\n",
        "# On utilise l'ensemble 'ens_name' créé précédemment.\n",
        "df['score_parent'] = [dict_comm_score[parent]\n",
        "                      if parent in ens_name else None for parent in tqdm(df['parent_id'])]"
      ],
      "execution_count": 20,
      "outputs": [
        {
          "output_type": "stream",
          "text": [
            "100%|██████████| 4234970/4234970 [00:02<00:00, 1429362.80it/s]\n",
            "100%|██████████| 148848/148848 [00:00<00:00, 1242469.84it/s]\n",
            "100%|██████████| 4234970/4234970 [00:04<00:00, 1039939.65it/s]\n"
          ],
          "name": "stderr"
        }
      ]
    },
    {
      "cell_type": "markdown",
      "metadata": {
        "id": "vxi1UXfgeCOu"
      },
      "source": [
        "### 2-1-2 Score topic"
      ]
    },
    {
      "cell_type": "code",
      "metadata": {
        "id": "-9JX8kspVztk",
        "colab": {
          "base_uri": "https://localhost:8080/"
        },
        "outputId": "9237c9e0-d148-4233-d738-b14258c66715"
      },
      "source": [
        "# Dictionnaire qui associe topic-score\n",
        "dict_topic_score = dict([(topic, score)\n",
        "                         for topic, score in zip(df2.index, df2['score'])])\n",
        "\n",
        "# On crée une liste qui contient le score pour chaque topic associé à un commentaire\n",
        "# On utilise l'ensemble 'ens_topic' utilisé dans la partie précédente.\n",
        "df['score_topic'] = [dict_topic_score[topic]\n",
        "                     if topic in ens_topic else None for topic in tqdm(df['link_id'])]"
      ],
      "execution_count": 21,
      "outputs": [
        {
          "output_type": "stream",
          "text": [
            "100%|██████████| 4234970/4234970 [00:02<00:00, 1718370.38it/s]\n"
          ],
          "name": "stderr"
        }
      ]
    },
    {
      "cell_type": "markdown",
      "metadata": {
        "id": "6n-ielY5V2zp"
      },
      "source": [
        "## 2-2 Nombre de commentaires pour le topic et/ou le parent\n",
        "Cette feature peut être vu de façon différente pour son aide à prédire un score.<br> \n",
        "En effet, on peut se dire que plus le nombre de commentaires est élevé pour le topic et/ou le parent, plus notre commentaire va se noyer dans la masse de commentaires, et donc difficilement recevoir des likes. Ainsi, plus cette variable serait élevée, plus le score serait faible.<br> \n",
        "Cependant, on peut voir la situation d'une autre façon. On peut effectivement considérer que plus le nombre de commentaires est élevé, plus c'est un sujet populaire et donc plus l'audience est élevée. Ce qui signifierait que plus il y a de commentaires, plus notre commentaire a de chance d'avoir plein de likes et donc un score important.\n",
        "Remarques :\n",
        "- Ici on souhaite avoir le nombre de commentaire <strong>directs</strong>.\n",
        "- Si le parent du commentaire est un topic (t3) alors les deux variables seront identiques."
      ]
    },
    {
      "cell_type": "code",
      "metadata": {
        "id": "VnPDOyfeVz3s"
      },
      "source": [
        "# Grâce à la fonction value_counts, on récupère pour chaque parent (à la fois topic ou commentaire),\n",
        "# le nombre de fois qu'ils sont les parents d'un commentaire, ce qui correspond au nombre de\n",
        "# commentaires reçu.\n",
        "dict_nb_comments = dict(df['parent_id'].value_counts())\n",
        "\n",
        "# Nombre de commentaires reçu par le parent du commentaire\n",
        "df['nb_comments_parent'] = df['parent_id'].apply(lambda x: dict_nb_comments[x])\n",
        "\n",
        "# Nombre de commentaires reçu par le sujet/topic du commentaire\n",
        "df['nb_comments_topic'] = df['link_id'].apply(\n",
        "    lambda x: dict_nb_comments[x] if x in dict_nb_comments else 0)"
      ],
      "execution_count": 22,
      "outputs": []
    },
    {
      "cell_type": "markdown",
      "metadata": {
        "id": "eN02zfH6eBKq"
      },
      "source": [
        "## 2-3 Rapport du nombre de votes positifs sur le nombre de votes total pour un sujet/post \n",
        "Pour cette dernière feature, nous utilisons directement l'information scrapée sur Reddit. <br> \n",
        "Pour nous, connaitre le rapport nombre de votes positifs reçus sur nombre de votes total pour un sujet est un indicateur sur sa popularité. <br> \n",
        "Pour nous un post qui a un ratio de 1 (qui a reçu que des likes et pas de dislikes), est un post apprécié et donc potentiellement ses commentaires le seront aussi.  "
      ]
    },
    {
      "cell_type": "code",
      "metadata": {
        "colab": {
          "base_uri": "https://localhost:8080/"
        },
        "id": "5bHAYYZGeI26",
        "outputId": "c171d1ab-7f30-423d-97fb-2d4fcaac2bfa"
      },
      "source": [
        "# Dictionnaire qui associe topic-ratio\n",
        "dict_topic_ratio = dict([(topic, ratio)\n",
        "                         for topic, ratio in zip(df2.index, df2['up_vote_ratio'])])\n",
        "\n",
        "# On crée une liste qui contient le ratio pour chaque topic associé à un commentaire\n",
        "# On utilise l'ensemble 'ens_topic' utilisé dans la partie précédente.\n",
        "df['ratio_topic'] = [dict_topic_ratio[topic]\n",
        "                     if topic in ens_topic else None for topic in tqdm(df['link_id'])]"
      ],
      "execution_count": 23,
      "outputs": [
        {
          "output_type": "stream",
          "text": [
            "100%|██████████| 4234970/4234970 [00:02<00:00, 1701116.76it/s]\n"
          ],
          "name": "stderr"
        }
      ]
    },
    {
      "cell_type": "markdown",
      "metadata": {
        "id": "RRYKKyrAeUjY"
      },
      "source": [
        "# (3) Features sur les auteurs\n",
        "Dans cette 3e partie, nous nous concentrons sur les auteurs. Cinq nouvelles features seront créées : \n",
        "- Le score moyen de l'auteur (pour les commentaires présents dans l'échantillon train).\n",
        "- Variable binaire permettant de savoir si l'auteur du commentaire est le même auteur que le post. \n",
        "- Année de création de son compte\n",
        "- Vérification du compte \n",
        "- Comment karma \n",
        "\n",
        "## 3-1 Score moyen de l'auteur \n",
        "Le fait d'avoir le score moyen d'un auteur est bien évidement déterminant dans la prédiction du score d'un de ces nouveaux commentaires. Si en général, il obtient des scores élevés, c'est qu'il donne des avis/commentaires pertinents et appréciés par une partie des utilisateurs de Reddit. Ainsi, pour tout nouveau commentaire, il y a plus de chance qu'il obtienne un bon score qu'un auteur qui obtient d'habitude de mauvais scores. "
      ]
    },
    {
      "cell_type": "code",
      "metadata": {
        "id": "imvoQ88JV0BS"
      },
      "source": [
        "# On crée un sous DataFrame qui ne contient que les colonnes Author et ups(score)\n",
        "# et où le score est non null.\n",
        "df_author_ups = df[df['ups'].notna()][['author', 'ups']]\n",
        "\n",
        "# On regroupe par auteur, on fait la moyenne des scores et on transforme le tout\n",
        "# en dictionnaire (où la clé est l'auteur et la valeur son score moyen).\n",
        "dico_author_score_means = df_author_ups.groupby(\n",
        "    'author').mean().to_dict()['ups']\n",
        "\n",
        "# On en déduit la nouvelle feature\n",
        "df['author_mean_score'] = df['author'].apply(\n",
        "    lambda x: dico_author_score_means[x] if x in dico_author_score_means else None)"
      ],
      "execution_count": 24,
      "outputs": []
    },
    {
      "cell_type": "code",
      "metadata": {
        "colab": {
          "base_uri": "https://localhost:8080/"
        },
        "id": "IOaW9eC3jPpD",
        "outputId": "91fc755e-7100-4ac8-86c1-99b1674d2c6a"
      },
      "source": [
        "# Regardons le nombre de commentaires qui n'a pas de score moyen pour son auteur. \n",
        "100 * sum(df['author_mean_score'].isnull()) / df.shape[0] "
      ],
      "execution_count": 25,
      "outputs": [
        {
          "output_type": "execute_result",
          "data": {
            "text/plain": [
              "4.332710739391306"
            ]
          },
          "metadata": {
            "tags": []
          },
          "execution_count": 25
        }
      ]
    },
    {
      "cell_type": "markdown",
      "metadata": {
        "id": "ouKPB20AlKfg"
      },
      "source": [
        "Il n'y a donc près 96% des commentaires où l'on connaitra le score moyen de l'auteur, c'est très satisfaisant. "
      ]
    },
    {
      "cell_type": "markdown",
      "metadata": {
        "id": "40CPadR6mNVu"
      },
      "source": [
        "## 3-2 Même auteur que le topic \n",
        "Pour nous, si l'auteur d'un commentaire est le même que l'auteur du topic initial, il y a de bonne chance que le commentaire est un bon score (car il peut apporter une précision, un complément d'informations, etc).\n",
        "Ce n'est qu'une hypothèse, nous verons lors de l'apprentissage du modèle si cette feature est importante ou pas. <br>\n",
        "Ce sera donc une variable binaire avec 0 si l'auteur du commentaire est différent de l'auteur du topic, 1 si ce sont les mêmes."
      ]
    },
    {
      "cell_type": "code",
      "metadata": {
        "id": "oQvy93ULV0Kb"
      },
      "source": [
        "# On remplace les 'None' (str) issus du scraping par des None \"python\" \n",
        "df2['author'] = df2['author'].apply(lambda x : None if x == 'None' else x)"
      ],
      "execution_count": 26,
      "outputs": []
    },
    {
      "cell_type": "code",
      "metadata": {
        "id": "6EZL_UGXV0Nl",
        "colab": {
          "base_uri": "https://localhost:8080/"
        },
        "outputId": "25ac7de0-0e98-4f85-f2f4-4addceedde3a"
      },
      "source": [
        "# Dictionnaire qui associe topic-author\n",
        "dict_topic_author = dict([(topic, author)\n",
        "                          for topic, author in zip(tqdm(df2.index), df2['author'])])\n",
        "\n",
        "# On crée une liste qui contient l'auteur de chaque topic\n",
        "topic_authors = [dict_topic_author[topic]\n",
        "                 if topic in ens_topic else None for topic in tqdm(df['link_id'])]\n",
        "\n",
        "# On vérifie si l'auteur du topic est le même que celui du commentaire actuel\n",
        "df['isSameAuthor'] = [author_comment == author_topic for author_comment,\n",
        "                      author_topic in zip(tqdm(df['author']), topic_authors)]"
      ],
      "execution_count": 27,
      "outputs": [
        {
          "output_type": "stream",
          "text": [
            "100%|██████████| 148848/148848 [00:00<00:00, 1182385.56it/s]\n",
            "100%|██████████| 4234970/4234970 [00:02<00:00, 1710200.21it/s]\n",
            "100%|██████████| 4234970/4234970 [00:01<00:00, 2191363.71it/s]\n"
          ],
          "name": "stderr"
        }
      ]
    },
    {
      "cell_type": "code",
      "metadata": {
        "id": "XMTrqqugV0Rc",
        "colab": {
          "base_uri": "https://localhost:8080/"
        },
        "outputId": "902161b4-ee52-4905-8bed-3b20bdebc1b2"
      },
      "source": [
        "sum(df['isSameAuthor'])"
      ],
      "execution_count": 28,
      "outputs": [
        {
          "output_type": "execute_result",
          "data": {
            "text/plain": [
              "98299"
            ]
          },
          "metadata": {
            "tags": []
          },
          "execution_count": 28
        }
      ]
    },
    {
      "cell_type": "markdown",
      "metadata": {
        "id": "JDAOQ69laGx5"
      },
      "source": [
        "Pour 98 299 commentaires (sur 4 millions), l'auteur du commentaire est le même que l'auteur du post initial."
      ]
    },
    {
      "cell_type": "markdown",
      "metadata": {
        "id": "0U5VMBEsfAxy"
      },
      "source": [
        "## 3-3 Année de création de son compte \n",
        "L'année de création du compte de l'auteur peut éventuellement être une information permettant de déterminer le score de son commentaire. Nous estimons en effet que plus l'auteur est inscrit depuis longtemps, plus il comprend le fonctionnement de Reddit et des astuces pour avoir plus de votes positifs. \n"
      ]
    },
    {
      "cell_type": "code",
      "metadata": {
        "id": "a5-Rx7vcjO4w"
      },
      "source": [
        "# On crée un sous DataFrame qui ne contient que les colonnes Author et Ups(score) \n",
        "# et où le score est non null. \n",
        "df_time = df3[df3['time'].notna()]['time']"
      ],
      "execution_count": 29,
      "outputs": []
    },
    {
      "cell_type": "code",
      "metadata": {
        "colab": {
          "base_uri": "https://localhost:8080/"
        },
        "id": "Tgjd1NgqfF7n",
        "outputId": "e52899df-edc7-4d85-e6d3-0727604e205a"
      },
      "source": [
        "# Dictionnaire qui associe auteur-date de création\n",
        "dict_author_date = dict([(author, int(datetime.utcfromtimestamp(date).strftime(\n",
        "    \"%Y\"))) for author, date in zip(tqdm(df_time.index), df_time.values)])"
      ],
      "execution_count": 30,
      "outputs": [
        {
          "output_type": "stream",
          "text": [
            "100%|██████████| 504821/504821 [00:02<00:00, 239105.64it/s]\n"
          ],
          "name": "stderr"
        }
      ]
    },
    {
      "cell_type": "code",
      "metadata": {
        "colab": {
          "base_uri": "https://localhost:8080/"
        },
        "id": "Tr3qaxsRfGmY",
        "outputId": "08cd13b2-0fc5-4dcd-f921-f0b0b9505cef"
      },
      "source": [
        "# A partir du dictionnaire précédent, on en déduit pour chaque commentaire\n",
        "# l'année de création de compte pour son auteur.\n",
        "df['year_creation_author'] = [dict_author_date[author]\n",
        "                              if author in dict_author_date else None for author in tqdm(df['author'])]"
      ],
      "execution_count": 31,
      "outputs": [
        {
          "output_type": "stream",
          "text": [
            "100%|██████████| 4234970/4234970 [00:03<00:00, 1113166.88it/s]\n"
          ],
          "name": "stderr"
        }
      ]
    },
    {
      "cell_type": "code",
      "metadata": {
        "colab": {
          "base_uri": "https://localhost:8080/"
        },
        "id": "pcc7jq7GkNbg",
        "outputId": "d05bb6cb-570c-4c78-f598-c1d79dfacff8"
      },
      "source": [
        "# Résultat\n",
        "df['year_creation_author'][:10]"
      ],
      "execution_count": 32,
      "outputs": [
        {
          "output_type": "execute_result",
          "data": {
            "text/plain": [
              "0    2013.0\n",
              "1    2012.0\n",
              "2    2013.0\n",
              "3    2013.0\n",
              "4    2013.0\n",
              "5    2014.0\n",
              "6    2015.0\n",
              "7       NaN\n",
              "8    2014.0\n",
              "9    2010.0\n",
              "Name: year_creation_author, dtype: float64"
            ]
          },
          "metadata": {
            "tags": []
          },
          "execution_count": 32
        }
      ]
    },
    {
      "cell_type": "markdown",
      "metadata": {
        "id": "ixmTCVF5l5_k"
      },
      "source": [
        "## 3-4 Vérification du compte \n",
        "Le fait de savoir si l'auteur a vérifié son email peut nous aider à prédire le score puisque nous pensons que les auteurs qui ne l'ont pas fait sont soit des auteurs \"robots\" soit des auteurs qui peuvent potentiellement mettre des commentaires polémiques, insultants, etc (et donc avoir des scores faibles voire négatif). \n"
      ]
    },
    {
      "cell_type": "code",
      "metadata": {
        "colab": {
          "base_uri": "https://localhost:8080/"
        },
        "id": "cfaFmWNWl9d8",
        "outputId": "ce77c98c-b36e-4c7c-acba-1807da76c822"
      },
      "source": [
        "# Dictionnaire qui associe auteur-vérification de compte\n",
        "dict_author_verif = dict([(author,verif) for author, verif in zip(df3.index, df3['has_verified_email'])])\n",
        "\n",
        "# On crée une liste qui contient l'information sur la vérification du compte \n",
        "# pour chaque auteur associé à un commentaire.\n",
        "df['has_verified_email'] = [dict_author_verif[author] if author in dict_author_verif else None for author in tqdm(df['author'])]"
      ],
      "execution_count": 33,
      "outputs": [
        {
          "output_type": "stream",
          "text": [
            "100%|██████████| 4234970/4234970 [00:03<00:00, 1130178.61it/s]\n"
          ],
          "name": "stderr"
        }
      ]
    },
    {
      "cell_type": "markdown",
      "metadata": {
        "id": "eZCSakekmxOe"
      },
      "source": [
        "## 3-5 Comment Karma \n",
        "Enfin, la dernière feature mise au point est le \"comment karma\" d'un auteur.  Le comment karma est une métrique utilisée par Reddit qui correspond à la somme des scores reçus par un auteur. <br> \n",
        "Ainsi, plus cette métrique est importante, plus l'auteur a reçu de likes depuis la création de son compte. Il donne alors des avis/commentaires pertinents et appréciés par une partie des utilisateurs de Reddit. Ainsi, pour tout nouveau commentaire, il y a plus de chance qu'il obtienne un bon score qu'un auteur a un comment karma faible. <br> \n",
        "Remarque : Cette feature peut sembler redondante avec la moyenne des scores des auteurs, sauf qu'ici le comment karma concerne les scores sur toute période alors que la moyenne des scores des auteurs est basée sur les scores de notre jeu de données, c'est-à-dire sur les scores obtenues en Mai 2015 seulement.  \n"
      ]
    },
    {
      "cell_type": "code",
      "metadata": {
        "colab": {
          "base_uri": "https://localhost:8080/"
        },
        "id": "MxThnqo5m1Xz",
        "outputId": "5f4db139-5fa3-49ce-c0ac-ad117dba50f6"
      },
      "source": [
        "# Dictionnaire qui associe auteur-comment karma\n",
        "dict_author_karma = dict(\n",
        "    [(author, karma) for author, karma in zip(df3.index, df3['comment_karma'])])\n",
        "\n",
        "# On crée une liste qui contient l'information sur le comment karma pour \n",
        "# chaque auteur associé à un commentaire.\n",
        "df['comment_karma'] = [dict_author_karma[author]\n",
        "                       if author in dict_author_karma else None for author in tqdm(df['author'])]"
      ],
      "execution_count": 34,
      "outputs": [
        {
          "output_type": "stream",
          "text": [
            "100%|██████████| 4234970/4234970 [00:04<00:00, 1024320.18it/s]\n"
          ],
          "name": "stderr"
        }
      ]
    },
    {
      "cell_type": "markdown",
      "metadata": {
        "id": "9vLXB4Po25rk"
      },
      "source": [
        "# Conclusion \n",
        "Après avoir travaillé sur les réseaux puis sur le contenu textuel des commentaires, nous avons dans ce Notebook ajouté des features portant sur les dates, les auteurs ou la popularité du topic. C'est ce qui conclut notre phase sur notre recherche de features pouvant nous aider à prédire le score d'un commentaire posté sur Reddit. \n",
        "\n",
        "Nous allons désormais pouvoir passer l'apprentissage d'un modèle prédictif. Pour cela, nous devons stocker le dataframe contenant l'ensemble des features. "
      ]
    },
    {
      "cell_type": "markdown",
      "metadata": {
        "id": "CH1rt2nd3rp7"
      },
      "source": [
        "Les colonnes `link_id`, `author` et `parent_id` sont désormais inutiles, nous pouvons les supprimer pour ne garder que les colonnes dédiées aux features et la colonne liée au score (`ups`).  "
      ]
    },
    {
      "cell_type": "code",
      "metadata": {
        "id": "14EHzJWXV0d5"
      },
      "source": [
        "# Colonnes à supprimer \n",
        "columns_to_delete = ['link_id', 'author', 'parent_id']\n",
        "\n",
        "df = df.drop(columns=columns_to_delete)"
      ],
      "execution_count": 35,
      "outputs": []
    },
    {
      "cell_type": "code",
      "metadata": {
        "id": "Y9q4D8-mV0ay",
        "colab": {
          "base_uri": "https://localhost:8080/",
          "height": 226
        },
        "outputId": "9a0548bb-d43c-4d2c-8722-ffa8f998d339"
      },
      "source": [
        "df.head()"
      ],
      "execution_count": 36,
      "outputs": [
        {
          "output_type": "execute_result",
          "data": {
            "text/html": [
              "<div>\n",
              "<style scoped>\n",
              "    .dataframe tbody tr th:only-of-type {\n",
              "        vertical-align: middle;\n",
              "    }\n",
              "\n",
              "    .dataframe tbody tr th {\n",
              "        vertical-align: top;\n",
              "    }\n",
              "\n",
              "    .dataframe thead th {\n",
              "        text-align: right;\n",
              "    }\n",
              "</style>\n",
              "<table border=\"1\" class=\"dataframe\">\n",
              "  <thead>\n",
              "    <tr style=\"text-align: right;\">\n",
              "      <th></th>\n",
              "      <th>ups</th>\n",
              "      <th>name</th>\n",
              "      <th>is_parent_comment</th>\n",
              "      <th>is_author_deleted</th>\n",
              "      <th>is_body_deleted</th>\n",
              "      <th>bot_comment</th>\n",
              "      <th>length_comment_chars_before_NLP</th>\n",
              "      <th>length_comment_chars_after_NLP</th>\n",
              "      <th>length_comment_words</th>\n",
              "      <th>nb_stopwords</th>\n",
              "      <th>sentiment</th>\n",
              "      <th>sentiment_child</th>\n",
              "      <th>depth</th>\n",
              "      <th>nb_direct_resp</th>\n",
              "      <th>nb_total_resp</th>\n",
              "      <th>author_centrality_degree</th>\n",
              "      <th>author_centrality_ev</th>\n",
              "      <th>author_prestige_degree</th>\n",
              "      <th>hour</th>\n",
              "      <th>resp_time_parent</th>\n",
              "      <th>resp_time_topic</th>\n",
              "      <th>score_parent</th>\n",
              "      <th>score_topic</th>\n",
              "      <th>nb_comments_parent</th>\n",
              "      <th>nb_comments_topic</th>\n",
              "      <th>ratio_topic</th>\n",
              "      <th>author_mean_score</th>\n",
              "      <th>isSameAuthor</th>\n",
              "      <th>year_creation_author</th>\n",
              "      <th>has_verified_email</th>\n",
              "      <th>comment_karma</th>\n",
              "    </tr>\n",
              "  </thead>\n",
              "  <tbody>\n",
              "    <tr>\n",
              "      <th>0</th>\n",
              "      <td>3.0</td>\n",
              "      <td>t1_cqug90j</td>\n",
              "      <td>1</td>\n",
              "      <td>0</td>\n",
              "      <td>0</td>\n",
              "      <td>0</td>\n",
              "      <td>119</td>\n",
              "      <td>59</td>\n",
              "      <td>8</td>\n",
              "      <td>14</td>\n",
              "      <td>neg</td>\n",
              "      <td>0</td>\n",
              "      <td>2</td>\n",
              "      <td>0</td>\n",
              "      <td>0</td>\n",
              "      <td>0.000138</td>\n",
              "      <td>1.312352e-03</td>\n",
              "      <td>0.000072</td>\n",
              "      <td>night</td>\n",
              "      <td>NaN</td>\n",
              "      <td>22894</td>\n",
              "      <td>NaN</td>\n",
              "      <td>817</td>\n",
              "      <td>1</td>\n",
              "      <td>322</td>\n",
              "      <td>0.86</td>\n",
              "      <td>18.702703</td>\n",
              "      <td>False</td>\n",
              "      <td>2013.0</td>\n",
              "      <td>True</td>\n",
              "      <td>181760.0</td>\n",
              "    </tr>\n",
              "    <tr>\n",
              "      <th>1</th>\n",
              "      <td>3.0</td>\n",
              "      <td>t1_cqug90k</td>\n",
              "      <td>0</td>\n",
              "      <td>0</td>\n",
              "      <td>0</td>\n",
              "      <td>0</td>\n",
              "      <td>48</td>\n",
              "      <td>13</td>\n",
              "      <td>2</td>\n",
              "      <td>7</td>\n",
              "      <td>neg</td>\n",
              "      <td>0</td>\n",
              "      <td>2</td>\n",
              "      <td>0</td>\n",
              "      <td>0</td>\n",
              "      <td>0.000005</td>\n",
              "      <td>2.167334e-19</td>\n",
              "      <td>0.000000</td>\n",
              "      <td>night</td>\n",
              "      <td>13205.0</td>\n",
              "      <td>13205</td>\n",
              "      <td>10800.0</td>\n",
              "      <td>10800</td>\n",
              "      <td>1443</td>\n",
              "      <td>1443</td>\n",
              "      <td>0.86</td>\n",
              "      <td>1.750000</td>\n",
              "      <td>False</td>\n",
              "      <td>2012.0</td>\n",
              "      <td>True</td>\n",
              "      <td>23937.0</td>\n",
              "    </tr>\n",
              "    <tr>\n",
              "      <th>2</th>\n",
              "      <td>5.0</td>\n",
              "      <td>t1_cqug90z</td>\n",
              "      <td>1</td>\n",
              "      <td>0</td>\n",
              "      <td>0</td>\n",
              "      <td>0</td>\n",
              "      <td>4</td>\n",
              "      <td>4</td>\n",
              "      <td>1</td>\n",
              "      <td>0</td>\n",
              "      <td>neu</td>\n",
              "      <td>0</td>\n",
              "      <td>2</td>\n",
              "      <td>0</td>\n",
              "      <td>0</td>\n",
              "      <td>0.000126</td>\n",
              "      <td>1.712427e-03</td>\n",
              "      <td>0.000051</td>\n",
              "      <td>night</td>\n",
              "      <td>NaN</td>\n",
              "      <td>20339</td>\n",
              "      <td>NaN</td>\n",
              "      <td>3268</td>\n",
              "      <td>5</td>\n",
              "      <td>1610</td>\n",
              "      <td>0.82</td>\n",
              "      <td>3.105263</td>\n",
              "      <td>False</td>\n",
              "      <td>2013.0</td>\n",
              "      <td>True</td>\n",
              "      <td>125197.0</td>\n",
              "    </tr>\n",
              "    <tr>\n",
              "      <th>3</th>\n",
              "      <td>1.0</td>\n",
              "      <td>t1_cqug91c</td>\n",
              "      <td>1</td>\n",
              "      <td>0</td>\n",
              "      <td>0</td>\n",
              "      <td>0</td>\n",
              "      <td>54</td>\n",
              "      <td>15</td>\n",
              "      <td>3</td>\n",
              "      <td>12</td>\n",
              "      <td>neg</td>\n",
              "      <td>0</td>\n",
              "      <td>2</td>\n",
              "      <td>0</td>\n",
              "      <td>0</td>\n",
              "      <td>0.000000</td>\n",
              "      <td>2.167334e-19</td>\n",
              "      <td>0.000000</td>\n",
              "      <td>night</td>\n",
              "      <td>NaN</td>\n",
              "      <td>109679</td>\n",
              "      <td>NaN</td>\n",
              "      <td>13643</td>\n",
              "      <td>4</td>\n",
              "      <td>22</td>\n",
              "      <td>0.82</td>\n",
              "      <td>1.000000</td>\n",
              "      <td>False</td>\n",
              "      <td>2013.0</td>\n",
              "      <td>True</td>\n",
              "      <td>7663.0</td>\n",
              "    </tr>\n",
              "    <tr>\n",
              "      <th>4</th>\n",
              "      <td>101.0</td>\n",
              "      <td>t1_cqug91e</td>\n",
              "      <td>1</td>\n",
              "      <td>0</td>\n",
              "      <td>0</td>\n",
              "      <td>0</td>\n",
              "      <td>241</td>\n",
              "      <td>164</td>\n",
              "      <td>24</td>\n",
              "      <td>20</td>\n",
              "      <td>pos</td>\n",
              "      <td>0</td>\n",
              "      <td>2</td>\n",
              "      <td>1</td>\n",
              "      <td>2</td>\n",
              "      <td>0.000004</td>\n",
              "      <td>5.092290e-05</td>\n",
              "      <td>0.000002</td>\n",
              "      <td>night</td>\n",
              "      <td>NaN</td>\n",
              "      <td>22895</td>\n",
              "      <td>NaN</td>\n",
              "      <td>817</td>\n",
              "      <td>2</td>\n",
              "      <td>322</td>\n",
              "      <td>0.86</td>\n",
              "      <td>51.500000</td>\n",
              "      <td>False</td>\n",
              "      <td>2013.0</td>\n",
              "      <td>True</td>\n",
              "      <td>5344.0</td>\n",
              "    </tr>\n",
              "  </tbody>\n",
              "</table>\n",
              "</div>"
            ],
            "text/plain": [
              "     ups        name  ...  has_verified_email  comment_karma\n",
              "0    3.0  t1_cqug90j  ...                True       181760.0\n",
              "1    3.0  t1_cqug90k  ...                True        23937.0\n",
              "2    5.0  t1_cqug90z  ...                True       125197.0\n",
              "3    1.0  t1_cqug91c  ...                True         7663.0\n",
              "4  101.0  t1_cqug91e  ...                True         5344.0\n",
              "\n",
              "[5 rows x 31 columns]"
            ]
          },
          "metadata": {
            "tags": []
          },
          "execution_count": 36
        }
      ]
    },
    {
      "cell_type": "code",
      "metadata": {
        "colab": {
          "base_uri": "https://localhost:8080/"
        },
        "id": "PF82CUDJKyYQ",
        "outputId": "e9e24c58-710e-4800-d928-e4898be160f6"
      },
      "source": [
        "df.shape"
      ],
      "execution_count": 37,
      "outputs": [
        {
          "output_type": "execute_result",
          "data": {
            "text/plain": [
              "(4234970, 31)"
            ]
          },
          "metadata": {
            "tags": []
          },
          "execution_count": 37
        }
      ]
    },
    {
      "cell_type": "markdown",
      "metadata": {
        "id": "mpI7M1VsK5PG"
      },
      "source": [
        "Si on ne tient pas en compte des colonnes `ups` et `name`, nous avons mis au point 29 features afin d'essayer de prédire le score d'un commentaire. <br> \n",
        "Bien évidemment, à terme, toutes ne seront pas utilisées pour entrainer le modèle, nous garderons que celles qui permettent d'obtenir les meilleurs résultats."
      ]
    },
    {
      "cell_type": "code",
      "metadata": {
        "id": "Wf1zahGSV0hB"
      },
      "source": [
        "# Sauvegarde DataFrame dans un fichier \n",
        "df.to_json(pathFile + \"df_features.json\")"
      ],
      "execution_count": 38,
      "outputs": []
    }
  ]
}