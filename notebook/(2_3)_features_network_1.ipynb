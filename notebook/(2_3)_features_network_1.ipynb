{
  "nbformat": 4,
  "nbformat_minor": 0,
  "metadata": {
    "colab": {
      "name": "(2-3)_features_network1.ipynb",
      "provenance": [],
      "collapsed_sections": []
    },
    "kernelspec": {
      "name": "python3",
      "display_name": "Python 3"
    },
    "language_info": {
      "name": "python"
    }
  },
  "cells": [
    {
      "cell_type": "markdown",
      "metadata": {
        "id": "ctA6lu9XCkEc"
      },
      "source": [
        "<strong>Date :</strong> Créé le 03 Avril 2021| Mis à jour le 07 Avril 2021 </strong>\n",
        "\n",
        "<strong>Compétition Kaggle - Team Théo\n",
        "    \n",
        "@auteur : </strong>Théo SACCAREAU\n",
        "\n",
        "<strong>(2-3)_features_network1\n",
        "      \n",
        "Description :</strong> Le but de ce Notebook est de créer un premier réseau à partir de nos données Reddit et d'en déduire des features qui seront utilisées dans notre modèle de Machine Learning. Ce réseau aura pour noeuds soit des topics (sujets/posts auxquelles font références les commentaires => de type \"t3\") soit des commentaires (de type \"t1\"). Les liens seront des relations de parentés. \n",
        "\n",
        "\n",
        "Temps d'exécution du Notebook : environ  5/10min."
      ]
    },
    {
      "cell_type": "markdown",
      "metadata": {
        "id": "imAEsGzZGyz-"
      },
      "source": [
        "# Importation des librairies"
      ]
    },
    {
      "cell_type": "code",
      "metadata": {
        "id": "BcvnUgP4Gyz4"
      },
      "source": [
        "# Librairies générales\n",
        "import pandas as pd\n",
        "import numpy as np\n",
        "from tqdm import tqdm \n",
        "\n",
        "# Librairie pour les réseaux\n",
        "import networkx as nx "
      ],
      "execution_count": 1,
      "outputs": []
    },
    {
      "cell_type": "markdown",
      "metadata": {
        "id": "KlUNxsXdGMpP"
      },
      "source": [
        "# Chemin "
      ]
    },
    {
      "cell_type": "code",
      "metadata": {
        "id": "LY896iIwGy0G"
      },
      "source": [
        "# Chemin relatif vers le dossier \"data\" (inutile de le changer).\n",
        "pathFile = \"../data/\" "
      ],
      "execution_count": 2,
      "outputs": []
    },
    {
      "cell_type": "markdown",
      "metadata": {
        "id": "VbfRB4fBGy0I"
      },
      "source": [
        "# Chargement des données d'entrée\n",
        "\n"
      ]
    },
    {
      "cell_type": "code",
      "metadata": {
        "id": "S6EHx1iTGy0J"
      },
      "source": [
        "# Chargement du fichier contenant le DataFrame retourné par le Notebook précédent.\n",
        "# Temps d'exécution : 1min45.\n",
        "df = pd.read_json(pathFile + \"df_features_text.json\")"
      ],
      "execution_count": 3,
      "outputs": []
    },
    {
      "cell_type": "code",
      "metadata": {
        "colab": {
          "base_uri": "https://localhost:8080/",
          "height": 226
        },
        "id": "CArQuTJIXRpC",
        "outputId": "42a947c4-d6ac-4cc1-8fc3-259d53431f88"
      },
      "source": [
        "df.head()"
      ],
      "execution_count": 4,
      "outputs": [
        {
          "output_type": "execute_result",
          "data": {
            "text/html": [
              "<div>\n",
              "<style scoped>\n",
              "    .dataframe tbody tr th:only-of-type {\n",
              "        vertical-align: middle;\n",
              "    }\n",
              "\n",
              "    .dataframe tbody tr th {\n",
              "        vertical-align: top;\n",
              "    }\n",
              "\n",
              "    .dataframe thead th {\n",
              "        text-align: right;\n",
              "    }\n",
              "</style>\n",
              "<table border=\"1\" class=\"dataframe\">\n",
              "  <thead>\n",
              "    <tr style=\"text-align: right;\">\n",
              "      <th></th>\n",
              "      <th>created_utc</th>\n",
              "      <th>ups</th>\n",
              "      <th>link_id</th>\n",
              "      <th>name</th>\n",
              "      <th>author</th>\n",
              "      <th>parent_id</th>\n",
              "      <th>is_parent_comment</th>\n",
              "      <th>is_author_deleted</th>\n",
              "      <th>is_body_deleted</th>\n",
              "      <th>bot_comment</th>\n",
              "      <th>length_comment_chars_before_NLP</th>\n",
              "      <th>length_comment_chars_after_NLP</th>\n",
              "      <th>length_comment_words</th>\n",
              "      <th>nb_stopwords</th>\n",
              "      <th>sentiment</th>\n",
              "      <th>sentiment_child</th>\n",
              "    </tr>\n",
              "  </thead>\n",
              "  <tbody>\n",
              "    <tr>\n",
              "      <th>0</th>\n",
              "      <td>1430438400</td>\n",
              "      <td>3.0</td>\n",
              "      <td>t3_34f9rh</td>\n",
              "      <td>t1_cqug90j</td>\n",
              "      <td>jesse9o3</td>\n",
              "      <td>t1_cqug2sr</td>\n",
              "      <td>1</td>\n",
              "      <td>0</td>\n",
              "      <td>0</td>\n",
              "      <td>0</td>\n",
              "      <td>119</td>\n",
              "      <td>59</td>\n",
              "      <td>8</td>\n",
              "      <td>14</td>\n",
              "      <td>neg</td>\n",
              "      <td>0</td>\n",
              "    </tr>\n",
              "    <tr>\n",
              "      <th>1</th>\n",
              "      <td>1430438400</td>\n",
              "      <td>3.0</td>\n",
              "      <td>t3_34fvry</td>\n",
              "      <td>t1_cqug90k</td>\n",
              "      <td>beltfedshooter</td>\n",
              "      <td>t3_34fvry</td>\n",
              "      <td>0</td>\n",
              "      <td>0</td>\n",
              "      <td>0</td>\n",
              "      <td>0</td>\n",
              "      <td>48</td>\n",
              "      <td>13</td>\n",
              "      <td>2</td>\n",
              "      <td>7</td>\n",
              "      <td>neg</td>\n",
              "      <td>0</td>\n",
              "    </tr>\n",
              "    <tr>\n",
              "      <th>2</th>\n",
              "      <td>1430438400</td>\n",
              "      <td>5.0</td>\n",
              "      <td>t3_34ffo5</td>\n",
              "      <td>t1_cqug90z</td>\n",
              "      <td>InterimFatGuy</td>\n",
              "      <td>t1_cqu80zb</td>\n",
              "      <td>1</td>\n",
              "      <td>0</td>\n",
              "      <td>0</td>\n",
              "      <td>0</td>\n",
              "      <td>4</td>\n",
              "      <td>4</td>\n",
              "      <td>1</td>\n",
              "      <td>0</td>\n",
              "      <td>neu</td>\n",
              "      <td>0</td>\n",
              "    </tr>\n",
              "    <tr>\n",
              "      <th>3</th>\n",
              "      <td>1430438401</td>\n",
              "      <td>1.0</td>\n",
              "      <td>t3_34aqsn</td>\n",
              "      <td>t1_cqug91c</td>\n",
              "      <td>JuanTutrego</td>\n",
              "      <td>t1_cqtdj4m</td>\n",
              "      <td>1</td>\n",
              "      <td>0</td>\n",
              "      <td>0</td>\n",
              "      <td>0</td>\n",
              "      <td>54</td>\n",
              "      <td>15</td>\n",
              "      <td>3</td>\n",
              "      <td>12</td>\n",
              "      <td>neg</td>\n",
              "      <td>0</td>\n",
              "    </tr>\n",
              "    <tr>\n",
              "      <th>4</th>\n",
              "      <td>1430438401</td>\n",
              "      <td>101.0</td>\n",
              "      <td>t3_34f9rh</td>\n",
              "      <td>t1_cqug91e</td>\n",
              "      <td>dcblackbelt</td>\n",
              "      <td>t1_cquc4rc</td>\n",
              "      <td>1</td>\n",
              "      <td>0</td>\n",
              "      <td>0</td>\n",
              "      <td>0</td>\n",
              "      <td>241</td>\n",
              "      <td>164</td>\n",
              "      <td>24</td>\n",
              "      <td>20</td>\n",
              "      <td>pos</td>\n",
              "      <td>0</td>\n",
              "    </tr>\n",
              "  </tbody>\n",
              "</table>\n",
              "</div>"
            ],
            "text/plain": [
              "   created_utc    ups    link_id  ... nb_stopwords sentiment sentiment_child\n",
              "0   1430438400    3.0  t3_34f9rh  ...           14       neg               0\n",
              "1   1430438400    3.0  t3_34fvry  ...            7       neg               0\n",
              "2   1430438400    5.0  t3_34ffo5  ...            0       neu               0\n",
              "3   1430438401    1.0  t3_34aqsn  ...           12       neg               0\n",
              "4   1430438401  101.0  t3_34f9rh  ...           20       pos               0\n",
              "\n",
              "[5 rows x 16 columns]"
            ]
          },
          "metadata": {
            "tags": []
          },
          "execution_count": 4
        }
      ]
    },
    {
      "cell_type": "markdown",
      "metadata": {
        "id": "QE1IIscDDHgY"
      },
      "source": [
        "# Création du réseau n°1 \n",
        "Les noeuds sont soit des topics (sujets/posts auxquelles font références les commentaires, de type \"t3\") soit des commentaires (de type \"t1\"). <br> \n",
        "Les liens sont des relations de parentés. \n"
      ]
    },
    {
      "cell_type": "code",
      "metadata": {
        "id": "pvgzhKwQGy0U"
      },
      "source": [
        "# Création d'un réseau dirigé vide\n",
        "g = nx.DiGraph()"
      ],
      "execution_count": 5,
      "outputs": []
    },
    {
      "cell_type": "markdown",
      "metadata": {
        "id": "CzKSP774Gy0W"
      },
      "source": [
        "## Ajout des noeuds "
      ]
    },
    {
      "cell_type": "markdown",
      "metadata": {
        "id": "N9Fs90bVGy0Y"
      },
      "source": [
        "Nous commençons d'abord par la création des noeuds `topic` (ceux de la colonne `link_id`) et nous ajoutons un attribut de type `topic` à ce noeud."
      ]
    },
    {
      "cell_type": "code",
      "metadata": {
        "id": "_bCEcOWdGy0c"
      },
      "source": [
        "g.add_nodes_from(df['link_id'], type=\"topic\")"
      ],
      "execution_count": 6,
      "outputs": []
    },
    {
      "cell_type": "markdown",
      "metadata": {
        "id": "QIHRKhRRGy0d"
      },
      "source": [
        "Nous continuons par la création des noeuds `commentaire` (ceux de la colonne `name`) et nous ajoutons un attribut de type `comment` à ce noeud. "
      ]
    },
    {
      "cell_type": "code",
      "metadata": {
        "id": "eyOTgIE8Gy0e"
      },
      "source": [
        "g.add_nodes_from(df['name'], type=\"comment\")"
      ],
      "execution_count": 7,
      "outputs": []
    },
    {
      "cell_type": "markdown",
      "metadata": {
        "id": "_m_sTEnJGy0f"
      },
      "source": [
        "## Ajout des arêtes "
      ]
    },
    {
      "cell_type": "markdown",
      "metadata": {
        "id": "-jtKtBwSGy0g"
      },
      "source": [
        "L'idée ici est de considérer chaque paire (`name`, `parent_id`) dans le DataFrame et de créer une arête par paire. Ceci est fait en utilisant la fonction `add_edges_from` et en spécifiant `df[[\"name\", \"parent_id\"]].values` comme liste d'arêtes (source, cible) à ajouter. De plus, nous créons un attribut `link_type` et l'instancions comme `parent` pour chaque arête."
      ]
    },
    {
      "cell_type": "code",
      "metadata": {
        "id": "LVxE8M4zGy0h"
      },
      "source": [
        "g.add_edges_from(df[[\"name\",\"parent_id\"]].values, link_type=\"parent\")"
      ],
      "execution_count": 8,
      "outputs": []
    },
    {
      "cell_type": "markdown",
      "metadata": {
        "id": "uADYQtZTKWlJ"
      },
      "source": [
        "## Caractéristiques du graphe"
      ]
    },
    {
      "cell_type": "code",
      "metadata": {
        "colab": {
          "base_uri": "https://localhost:8080/"
        },
        "id": "cyaOGkQbKaj0",
        "outputId": "459004bf-6aae-4cde-937e-97e7430cef54"
      },
      "source": [
        "print(\"Nombre de noeuds : \", len(g.nodes))\n",
        "print(\"Nombre d'arêtes : \", len(g.edges))"
      ],
      "execution_count": 9,
      "outputs": [
        {
          "output_type": "stream",
          "text": [
            "Nombre de noeuds :  4396503\n",
            "Nombre d'arêtes :  4234970\n"
          ],
          "name": "stdout"
        }
      ]
    },
    {
      "cell_type": "markdown",
      "metadata": {
        "id": "Pf909NiURACu"
      },
      "source": [
        "Les chiffres sont cohérents puisque ce réseau doit contenir autant de composantes connexes que de sujets (topics). Or, une composante connexe possèdent forcément n noeuds et n-1 arêtes. C'est donc logique que le nombre de noeuds soit légèrement supérieur au nombre d'arêtes. \n"
      ]
    },
    {
      "cell_type": "markdown",
      "metadata": {
        "id": "xjdhSpcsExoi"
      },
      "source": [
        "# Création de features "
      ]
    },
    {
      "cell_type": "markdown",
      "metadata": {
        "id": "lk011wZgGUJY"
      },
      "source": [
        "## (1) Profondeur du commentaire \n",
        "L'idée de cette feature est de savoir à quelle profondeur le commentaire se trouve, c'est-à-dire, est-ce qu'il répond directement à un topic ou est-ce qu'il répond à un sous-commentaire, lui même sous-commentaire d'un commentaire d'un topic. <br> \n",
        "Selon nous, <strong>plus la profondeur du commentaire est grande, plus le commentaire est difficilement accessible, donc plus son score ne sera pas élevé (car moins d'utilisateurs le lieront). </strong>"
      ]
    },
    {
      "cell_type": "code",
      "metadata": {
        "id": "ZJX6etI4HZv9",
        "colab": {
          "base_uri": "https://localhost:8080/"
        },
        "outputId": "45365e5c-66c3-4b6e-aeaf-5bd61904ba98"
      },
      "source": [
        "# Pour chaque noeud du graphe, on regarde la plus grande longueur des plus\n",
        "# courts chemins ayant pour début le noeud en cours. \n",
        "# Cela correspond alors à sa profondeur dans la discution (ce réseau étant \n",
        "# semblable à un \"arbre\").   \n",
        "depth = [(node, max([len(path) for path in nx.shortest_path(\n",
        "    g, source=node).values()])) for node in tqdm(g.nodes)]"
      ],
      "execution_count": 10,
      "outputs": [
        {
          "output_type": "stream",
          "text": [
            "100%|██████████| 4396503/4396503 [00:53<00:00, 81736.54it/s]\n"
          ],
          "name": "stderr"
        }
      ]
    },
    {
      "cell_type": "code",
      "metadata": {
        "colab": {
          "base_uri": "https://localhost:8080/"
        },
        "id": "NOZtJPU5ZL3c",
        "outputId": "8809465d-e761-4244-9eb3-bef68f45ef2d"
      },
      "source": [
        "np.mean(np.array(np.array(depth)[:, 1], dtype=int))"
      ],
      "execution_count": 11,
      "outputs": [
        {
          "output_type": "execute_result",
          "data": {
            "text/plain": [
              "3.7832918571874057"
            ]
          },
          "metadata": {
            "tags": []
          },
          "execution_count": 11
        }
      ]
    },
    {
      "cell_type": "markdown",
      "metadata": {
        "id": "d-EdWjaxbYfO"
      },
      "source": [
        "La profondeur moyenne des commentaires est de 3.78.\n",
        "\n",
        "Remarque : cette moyenne prend en compte les noeuds qui sont des topics (t3) alors que dans notre DataFrame nous avons que des commentaires (t1), on suppose donc que la moyenne sera légèrement plus élevée (étant donné que la profondeur d'un topic est forcément de 1). "
      ]
    },
    {
      "cell_type": "code",
      "metadata": {
        "colab": {
          "base_uri": "https://localhost:8080/"
        },
        "id": "IXpNb574bjwR",
        "outputId": "894256bf-1e1d-480f-e62d-68a53d8ba378"
      },
      "source": [
        "# Dictionnaire qui met en relation un noeud et sa profondeur \n",
        "dict_comment_depth = dict(depth)\n",
        "\n",
        "# Grâce au dictionnaire, on parcourt le DataFrame en attribuant une profondeur \n",
        "# à chaque noeud commentaire\n",
        "df['depth'] = [dict_comment_depth[comment] for comment in tqdm(df['name'])]"
      ],
      "execution_count": 12,
      "outputs": [
        {
          "output_type": "stream",
          "text": [
            "100%|██████████| 4234970/4234970 [00:03<00:00, 1369059.92it/s]\n"
          ],
          "name": "stderr"
        }
      ]
    },
    {
      "cell_type": "code",
      "metadata": {
        "colab": {
          "base_uri": "https://localhost:8080/"
        },
        "id": "3hvHv-MRb-uP",
        "outputId": "baa61430-8d2a-4b14-c9e5-16a26ef6fa78"
      },
      "source": [
        "np.mean(df['depth'])"
      ],
      "execution_count": 13,
      "outputs": [
        {
          "output_type": "execute_result",
          "data": {
            "text/plain": [
              "3.889453998493496"
            ]
          },
          "metadata": {
            "tags": []
          },
          "execution_count": 13
        }
      ]
    },
    {
      "cell_type": "markdown",
      "metadata": {
        "id": "mCwy5wsNcdLA"
      },
      "source": [
        "Comme annoncé au-dessus, la moyenne est légèrement plus élevée si l'on ne prend en compte que les commentaires."
      ]
    },
    {
      "cell_type": "markdown",
      "metadata": {
        "id": "5kiRK4B9IRw1"
      },
      "source": [
        "## (2) Nombre de réponses reçues \n",
        "Ici l'objectif de cette feature est de connaitre le nombre de réponses reçues par un commentaire (directement ou au total, c'est-à-dire, en comptant les sous-réponses). <br> \n",
        "Pour nous, <strong> plus un commentaire a fait réagir, plus il a été vu, et potentiellement, plus son score peut-être élevé</strong>.\n",
        "\n",
        "### 2-1 Directement"
      ]
    },
    {
      "cell_type": "code",
      "metadata": {
        "colab": {
          "base_uri": "https://localhost:8080/"
        },
        "id": "cD8Bk8-DHN-3",
        "outputId": "dd34f956-7788-4ecb-fb91-c1c5b922c60d"
      },
      "source": [
        "# Pour connaitre le nombre de réponses directes d'un commentaire, \n",
        "# il faut calculer son degré entrant. \n",
        "nb_direct_resp = [(node, val) for (node, val) in tqdm(g.in_degree())]"
      ],
      "execution_count": 14,
      "outputs": [
        {
          "output_type": "stream",
          "text": [
            "100%|██████████| 4396503/4396503 [00:04<00:00, 1002986.73it/s]\n"
          ],
          "name": "stderr"
        }
      ]
    },
    {
      "cell_type": "code",
      "metadata": {
        "colab": {
          "base_uri": "https://localhost:8080/"
        },
        "id": "X6fu8go4JIjw",
        "outputId": "c427724e-4c9b-419a-c58f-8df85000a7fd"
      },
      "source": [
        "max(np.array(np.array(nb_direct_resp)[:,1], dtype=int))"
      ],
      "execution_count": 15,
      "outputs": [
        {
          "output_type": "execute_result",
          "data": {
            "text/plain": [
              "30771"
            ]
          },
          "metadata": {
            "tags": []
          },
          "execution_count": 15
        }
      ]
    },
    {
      "cell_type": "markdown",
      "metadata": {
        "id": "d-lB5cAraErs"
      },
      "source": [
        "Le commentaire/topic ayant reçu le plus de réponses directes en a reçues 30771. \n",
        "\n",
        "<br>\n",
        "\n",
        "On se doute que c'est un topic qui a reçu autant de réponses directes, vérifions-le : "
      ]
    },
    {
      "cell_type": "code",
      "metadata": {
        "colab": {
          "base_uri": "https://localhost:8080/"
        },
        "id": "rxTQCjsaaseN",
        "outputId": "fe638ae5-5233-4649-d81e-5409dc05753f"
      },
      "source": [
        "[elem for elem in nb_direct_resp if elem[1] > 30000]"
      ],
      "execution_count": 16,
      "outputs": [
        {
          "output_type": "execute_result",
          "data": {
            "text/plain": [
              "[('t3_37pr7d', 30771)]"
            ]
          },
          "metadata": {
            "tags": []
          },
          "execution_count": 16
        }
      ]
    },
    {
      "cell_type": "code",
      "metadata": {
        "colab": {
          "base_uri": "https://localhost:8080/"
        },
        "id": "9A9HqJVZL0-b",
        "outputId": "3422b2e4-2c90-4140-97ba-816dfb14cf18"
      },
      "source": [
        "[elem for elem in nb_direct_resp if elem[1] > 400 and 't1_' in elem[0]]"
      ],
      "execution_count": 17,
      "outputs": [
        {
          "output_type": "execute_result",
          "data": {
            "text/plain": [
              "[('t1_cquvf6t', 430),\n",
              " ('t1_cr01zot', 456),\n",
              " ('t1_cr7jn0j', 519),\n",
              " ('t1_crh4y2b', 884),\n",
              " ('t1_crkjjl8', 681),\n",
              " ('t1_crlddy3', 439),\n",
              " ('t1_crnj9od', 416)]"
            ]
          },
          "metadata": {
            "tags": []
          },
          "execution_count": 17
        }
      ]
    },
    {
      "cell_type": "markdown",
      "metadata": {
        "id": "V-o_DtqzaqPS"
      },
      "source": [
        "C'est donc bel est bien un topic qui a reçu autant de réponses directes. Les commentaires ayant reçus le plus de réponses, en ont reçues environ 500. Cela semble être une nouvelle fois cohérent. "
      ]
    },
    {
      "cell_type": "code",
      "metadata": {
        "colab": {
          "base_uri": "https://localhost:8080/"
        },
        "id": "GGGh07jYIvzU",
        "outputId": "f9d640fa-2194-4f23-a601-1618694017f1"
      },
      "source": [
        "pd.Series(np.array(np.array(nb_direct_resp)[:,1])).value_counts()"
      ],
      "execution_count": 18,
      "outputs": [
        {
          "output_type": "execute_result",
          "data": {
            "text/plain": [
              "0       2931945\n",
              "1       1037296\n",
              "2        184807\n",
              "3         67697\n",
              "4         38018\n",
              "         ...   \n",
              "663           1\n",
              "2993          1\n",
              "1005          1\n",
              "475           1\n",
              "1493          1\n",
              "Length: 726, dtype: int64"
            ]
          },
          "metadata": {
            "tags": []
          },
          "execution_count": 18
        }
      ]
    },
    {
      "cell_type": "markdown",
      "metadata": {
        "id": "S0nR0eBabR7I"
      },
      "source": [
        "Enfin, on constate que la grande majorité des commentaires (près de 3 millions) n'ont reçu aucune réponse. "
      ]
    },
    {
      "cell_type": "code",
      "metadata": {
        "colab": {
          "base_uri": "https://localhost:8080/"
        },
        "id": "JKy8VghvdAbI",
        "outputId": "46764bec-a72e-4c3d-fea3-91e54c857fcd"
      },
      "source": [
        "# Dictionnaire qui met en relation un commentaire/topic et son nombre de réponses directes\n",
        "dict_comment_direct_resp = dict(nb_direct_resp)\n",
        "\n",
        "# Grâce au dictionnaire, on parcourt le DataFrame en attribuant un nombre de\n",
        "# réponses directes à chaque commentaire\n",
        "df['nb_direct_resp'] = [dict_comment_direct_resp[comment] for comment in tqdm(df['name'])]"
      ],
      "execution_count": 19,
      "outputs": [
        {
          "output_type": "stream",
          "text": [
            "100%|██████████| 4234970/4234970 [00:03<00:00, 1388368.04it/s]\n"
          ],
          "name": "stderr"
        }
      ]
    },
    {
      "cell_type": "code",
      "metadata": {
        "colab": {
          "base_uri": "https://localhost:8080/"
        },
        "id": "8uUfbeiMd4c9",
        "outputId": "59713eec-9c64-467a-e7b3-5cd940b7f8ee"
      },
      "source": [
        "np.mean(df['nb_direct_resp'])"
      ],
      "execution_count": 20,
      "outputs": [
        {
          "output_type": "execute_result",
          "data": {
            "text/plain": [
              "0.5927302908875387"
            ]
          },
          "metadata": {
            "tags": []
          },
          "execution_count": 20
        }
      ]
    },
    {
      "cell_type": "markdown",
      "metadata": {
        "id": "eS9tzvoCd9vZ"
      },
      "source": [
        "En moyenne, un commentaire reçoit 0.59 réponses. Il y a une forte hétérogénéïté entre les commentaires puisque près de 3 millions n'en reçoivent pas alors que certains en reçoivent plus de 500. "
      ]
    },
    {
      "cell_type": "markdown",
      "metadata": {
        "id": "OLmcrZ5nJXre"
      },
      "source": [
        "### 2-2 Au total"
      ]
    },
    {
      "cell_type": "code",
      "metadata": {
        "colab": {
          "base_uri": "https://localhost:8080/"
        },
        "id": "DjUlP0yQVe-N",
        "outputId": "610c705d-0d54-4fe0-c0b7-e317ec4535db"
      },
      "source": [
        "# Pour chaque noeud, on fait la somme des degrés entrants de l'ensemble de ces fils. \n",
        "# Cela nous permet de connaitre le nombre de réponse totale. \n",
        "\n",
        "nb_total_resp = [(node, sum([g.in_degree[child] for child in set(\n",
        "    [elem[0] for elem in nx.shortest_path(g, target=node).values()])])) for node in tqdm(g.nodes)]"
      ],
      "execution_count": 21,
      "outputs": [
        {
          "output_type": "stream",
          "text": [
            "100%|██████████| 4396503/4396503 [02:17<00:00, 31879.53it/s]\n"
          ],
          "name": "stderr"
        }
      ]
    },
    {
      "cell_type": "code",
      "metadata": {
        "id": "NgGvyKMRfMU0"
      },
      "source": [
        "# On n'a plus besoin du réseau g, on libère de la RAM\n",
        "del g"
      ],
      "execution_count": 22,
      "outputs": []
    },
    {
      "cell_type": "code",
      "metadata": {
        "colab": {
          "base_uri": "https://localhost:8080/"
        },
        "id": "SKSIatV9YOz6",
        "outputId": "5bf81cb1-6fd4-44db-f643-825ff7bb4f8c"
      },
      "source": [
        "max(np.array(np.array(nb_total_resp)[:,1], dtype=int))"
      ],
      "execution_count": 23,
      "outputs": [
        {
          "output_type": "execute_result",
          "data": {
            "text/plain": [
              "35812"
            ]
          },
          "metadata": {
            "tags": []
          },
          "execution_count": 23
        }
      ]
    },
    {
      "cell_type": "markdown",
      "metadata": {
        "id": "gnMXcTkiZt4z"
      },
      "source": [
        "Le commentaire/topic ayant reçu le plus de réponses au total, en a reçu 35812.\n",
        "C'est exactement le chiffre que nous avions observé dans le Notebook sur l'observation et le nettoyage des données. <br> \n",
        "Ainsi, avec deux méthodes différentes, nous arrivons à la même conclusion, ce qui \"valide\" que ce réseau nous apporte bel et bien les informations souhaitées. \n"
      ]
    },
    {
      "cell_type": "code",
      "metadata": {
        "colab": {
          "base_uri": "https://localhost:8080/"
        },
        "id": "hzBueNk_eeNa",
        "outputId": "26e4343f-d765-48dd-f378-69b4e6b1d91f"
      },
      "source": [
        "# Dictionnaire qui met en relation un commentaire/topic et son nombre de réponses totales.  \n",
        "dict_comment_total_resp = dict(nb_total_resp)\n",
        "\n",
        "# Grâce au dictionnaire, on parcourt le DataFrame en attribuant un nombre de\n",
        "# réponses directes à chaque commentaire\n",
        "df['nb_total_resp'] = [dict_comment_total_resp[comment] for comment in tqdm(df['name'])]"
      ],
      "execution_count": 24,
      "outputs": [
        {
          "output_type": "stream",
          "text": [
            "100%|██████████| 4234970/4234970 [00:03<00:00, 1228762.20it/s]\n"
          ],
          "name": "stderr"
        }
      ]
    },
    {
      "cell_type": "code",
      "metadata": {
        "colab": {
          "base_uri": "https://localhost:8080/"
        },
        "id": "feGgaLYnfcKA",
        "outputId": "255468f0-924c-4084-c64a-c57f376f9612"
      },
      "source": [
        "np.mean(df['nb_total_resp'])"
      ],
      "execution_count": 25,
      "outputs": [
        {
          "output_type": "execute_result",
          "data": {
            "text/plain": [
              "1.8894539984934957"
            ]
          },
          "metadata": {
            "tags": []
          },
          "execution_count": 25
        }
      ]
    },
    {
      "cell_type": "markdown",
      "metadata": {
        "id": "GIyNHI4CfUqQ"
      },
      "source": [
        "En moyenne, un commentaire a reçu 1.89 réponses \"totales\" (en incluant les sous-réponses)."
      ]
    },
    {
      "cell_type": "markdown",
      "metadata": {
        "id": "FfQ6MgwzeyOO"
      },
      "source": [
        "# Sauvegarde"
      ]
    },
    {
      "cell_type": "code",
      "metadata": {
        "id": "19as4-zfSufr"
      },
      "source": [
        "# Sauvegarde DataFrame dans un fichier \n",
        "df.to_json(pathFile + \"df_features_network1.json\")"
      ],
      "execution_count": 26,
      "outputs": []
    }
  ]
}