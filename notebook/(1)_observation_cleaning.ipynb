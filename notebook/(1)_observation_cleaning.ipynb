{
  "nbformat": 4,
  "nbformat_minor": 0,
  "metadata": {
    "colab": {
      "name": "(1)_observation_cleaning.ipynb",
      "provenance": [],
      "collapsed_sections": []
    },
    "kernelspec": {
      "name": "python3",
      "display_name": "Python 3"
    }
  },
  "cells": [
    {
      "cell_type": "markdown",
      "metadata": {
        "id": "MaZTgJeB7Izw"
      },
      "source": [
        "<strong>Date :</strong> Créé le 12 Février 2021| Mis à jour le 24 Février 2021 </strong>\n",
        "\n",
        "<strong>Compétition Kaggle - Team Théo\n",
        "    \n",
        "@auteur : </strong>Théo SACCAREAU & Théo VEDIS\n",
        "\n",
        "<strong>(1)_observation_cleaning\n",
        "      \n",
        "Description :</strong> Dans ce premier Notebook, nous prendrons connaissance des données à disposition (observation) puis apporterons les premières modifications (nettoyage). \n",
        "\n",
        "Temps d'exécution du Notebook : environ 8 min (2min sans le téléchargement depuis l'API de Kaggle). \n"
      ]
    },
    {
      "cell_type": "markdown",
      "metadata": {
        "id": "YD-y2_L1em4D"
      },
      "source": [
        "# Importation des librairies"
      ]
    },
    {
      "cell_type": "code",
      "metadata": {
        "id": "rAveYv6nW6_G"
      },
      "source": [
        "import pandas as pd\n",
        "import numpy as np\n",
        "import random \n",
        "import json "
      ],
      "execution_count": null,
      "outputs": []
    },
    {
      "cell_type": "markdown",
      "metadata": {
        "id": "a5m-WY5JYB28"
      },
      "source": [
        "# Téléchargement des données"
      ]
    },
    {
      "cell_type": "code",
      "metadata": {
        "id": "q1UVHSThMBhq"
      },
      "source": [
        "# Chemin relatif vers le dossier \"data\" (inutile de le changer).\n",
        "pathFile = \"../data/\" "
      ],
      "execution_count": null,
      "outputs": []
    },
    {
      "cell_type": "markdown",
      "metadata": {
        "id": "l_uFUHLSYINA"
      },
      "source": [
        "## Accès à l'API Kaggle avec Jupyter Notebook (via Linux)\n",
        "\n",
        "<strong>(!) Partie à ignorer si le fichier \"comments_students.csv\" est déjà téléchargé et placé dans le dossier \"data\". (!)</strong>"
      ]
    },
    {
      "cell_type": "code",
      "metadata": {
        "id": "Ub1tEJeuYT0E"
      },
      "source": [
        "# Création du dossier \".kaggle\" qui devra contenir le fichier \"kaggle.json\"\n",
        "# téléchargé sur le site de Kaggle (cf étape suivante). \n",
        "!mkdir ~/.kaggle/ "
      ],
      "execution_count": null,
      "outputs": []
    },
    {
      "cell_type": "markdown",
      "metadata": {
        "id": "RvrZCClsLQdp"
      },
      "source": [
        "<strong>AVANT</strong> d'effectuer la ligne qui suit il est important de suivre les étapes suivantes (comme indiqué dans le README.txt): \n",
        "- Connectez-vous à votre compte Kaggle \n",
        "- Cliquez sur votre profil et rendez-vous à la rubrique \"Account\" \n",
        "- Dans la zone \"API\", cliquez sur \"Create New API Token\". \n",
        "- Enregistrez le fichier \"kaggle.json\" (par Défaut dans vos paramètres). "
      ]
    },
    {
      "cell_type": "code",
      "metadata": {
        "id": "w7phVba0K2MK"
      },
      "source": [
        "# On copie le fichier \"kaggle.json\" qui se trouve dans le dossier  \n",
        "# \"Téléchargements\" dans le dosier \".kaggle\" crée juste au-dessus. \n",
        "\n",
        "# (!) Il est possible que le chemin ne corresponde pas tout à fait au votre\n",
        "# dans ce cas effectuez les changements nécessaires. (!) \n",
        "!cp ~/Téléchargements/kaggle.json ~/.kaggle"
      ],
      "execution_count": null,
      "outputs": []
    },
    {
      "cell_type": "code",
      "metadata": {
        "id": "_szLGnisK42r"
      },
      "source": [
        "# Le résultat de cette commande doit afficher : \"kaggle.json\" (valide que le\n",
        "# fichier a bien été copié dans le répertoire).\n",
        "!cd ~/.kaggle && ls"
      ],
      "execution_count": null,
      "outputs": []
    },
    {
      "cell_type": "code",
      "metadata": {
        "id": "DhLhuV2aK6tb"
      },
      "source": [
        "# Téléchargement du fichier .zip de la compétition \n",
        "!kaggle competitions download -c 2021-reddit-score-prediction"
      ],
      "execution_count": null,
      "outputs": []
    },
    {
      "cell_type": "code",
      "metadata": {
        "id": "SAstWdoxK9oC"
      },
      "source": [
        "# On dézipe le fichier \n",
        "# (!) Si unzip n'est pas installe il faut exécuter également le \"sudo apt-get\"\n",
        "#!sudo apt-get install unzip\n",
        "!unzip 2021-reddit-score-prediction.zip "
      ],
      "execution_count": null,
      "outputs": []
    },
    {
      "cell_type": "code",
      "metadata": {
        "id": "iPhWFiyQK_OU"
      },
      "source": [
        "# Enfin on déplace le ficher \"comments_students.csv\" dans le dossier \"data\".\n",
        "!mv comments_students.csv data/comments_students.csv "
      ],
      "execution_count": null,
      "outputs": []
    },
    {
      "cell_type": "markdown",
      "metadata": {
        "id": "6o3buEheQ5-v"
      },
      "source": [
        "<strong>(!) Fin de la partie à ignorer (!)</strong>"
      ]
    },
    {
      "cell_type": "markdown",
      "metadata": {
        "id": "D2nB35hMYVbE"
      },
      "source": [
        "## Chargement des données "
      ]
    },
    {
      "cell_type": "code",
      "metadata": {
        "id": "RkY9UTBqW78B"
      },
      "source": [
        "# Téléchargement des données pour la compétition.\n",
        "# Temps de chargement : 30s.\n",
        "df = pd.read_csv(pathFile + \"comments_students.csv\") "
      ],
      "execution_count": null,
      "outputs": []
    },
    {
      "cell_type": "code",
      "metadata": {
        "colab": {
          "base_uri": "https://localhost:8080/",
          "height": 206
        },
        "id": "p6sckhCDxl-f",
        "outputId": "2858d0d2-a037-44bd-b028-b20c36e025ee"
      },
      "source": [
        "# Aperçu pour vérifier que le chargement a bien été effectué\n",
        "df.head()"
      ],
      "execution_count": null,
      "outputs": [
        {
          "output_type": "execute_result",
          "data": {
            "text/html": [
              "<div>\n",
              "<style scoped>\n",
              "    .dataframe tbody tr th:only-of-type {\n",
              "        vertical-align: middle;\n",
              "    }\n",
              "\n",
              "    .dataframe tbody tr th {\n",
              "        vertical-align: top;\n",
              "    }\n",
              "\n",
              "    .dataframe thead th {\n",
              "        text-align: right;\n",
              "    }\n",
              "</style>\n",
              "<table border=\"1\" class=\"dataframe\">\n",
              "  <thead>\n",
              "    <tr style=\"text-align: right;\">\n",
              "      <th></th>\n",
              "      <th>created_utc</th>\n",
              "      <th>ups</th>\n",
              "      <th>subreddit_id</th>\n",
              "      <th>link_id</th>\n",
              "      <th>name</th>\n",
              "      <th>subreddit</th>\n",
              "      <th>id</th>\n",
              "      <th>author</th>\n",
              "      <th>body</th>\n",
              "      <th>parent_id</th>\n",
              "    </tr>\n",
              "  </thead>\n",
              "  <tbody>\n",
              "    <tr>\n",
              "      <th>0</th>\n",
              "      <td>1430438400</td>\n",
              "      <td>3.0</td>\n",
              "      <td>t5_2qh1i</td>\n",
              "      <td>t3_34f9rh</td>\n",
              "      <td>t1_cqug90j</td>\n",
              "      <td>AskReddit</td>\n",
              "      <td>cqug90j</td>\n",
              "      <td>jesse9o3</td>\n",
              "      <td>No one has a European accent either  because i...</td>\n",
              "      <td>t1_cqug2sr</td>\n",
              "    </tr>\n",
              "    <tr>\n",
              "      <th>1</th>\n",
              "      <td>1430438400</td>\n",
              "      <td>3.0</td>\n",
              "      <td>t5_2qh1i</td>\n",
              "      <td>t3_34fvry</td>\n",
              "      <td>t1_cqug90k</td>\n",
              "      <td>AskReddit</td>\n",
              "      <td>cqug90k</td>\n",
              "      <td>beltfedshooter</td>\n",
              "      <td>That the kid ..reminds me of Kevin.   so sad :-(</td>\n",
              "      <td>t3_34fvry</td>\n",
              "    </tr>\n",
              "    <tr>\n",
              "      <th>2</th>\n",
              "      <td>1430438400</td>\n",
              "      <td>5.0</td>\n",
              "      <td>t5_2qh1i</td>\n",
              "      <td>t3_34ffo5</td>\n",
              "      <td>t1_cqug90z</td>\n",
              "      <td>AskReddit</td>\n",
              "      <td>cqug90z</td>\n",
              "      <td>InterimFatGuy</td>\n",
              "      <td>NSFL</td>\n",
              "      <td>t1_cqu80zb</td>\n",
              "    </tr>\n",
              "    <tr>\n",
              "      <th>3</th>\n",
              "      <td>1430438401</td>\n",
              "      <td>1.0</td>\n",
              "      <td>t5_2qh1i</td>\n",
              "      <td>t3_34aqsn</td>\n",
              "      <td>t1_cqug91c</td>\n",
              "      <td>AskReddit</td>\n",
              "      <td>cqug91c</td>\n",
              "      <td>JuanTutrego</td>\n",
              "      <td>I'm a guy and I had no idea this was a thing g...</td>\n",
              "      <td>t1_cqtdj4m</td>\n",
              "    </tr>\n",
              "    <tr>\n",
              "      <th>4</th>\n",
              "      <td>1430438401</td>\n",
              "      <td>101.0</td>\n",
              "      <td>t5_2qh1i</td>\n",
              "      <td>t3_34f9rh</td>\n",
              "      <td>t1_cqug91e</td>\n",
              "      <td>AskReddit</td>\n",
              "      <td>cqug91e</td>\n",
              "      <td>dcblackbelt</td>\n",
              "      <td>Mid twenties male rocking skinny jeans/pants, ...</td>\n",
              "      <td>t1_cquc4rc</td>\n",
              "    </tr>\n",
              "  </tbody>\n",
              "</table>\n",
              "</div>"
            ],
            "text/plain": [
              "   created_utc  ...   parent_id\n",
              "0   1430438400  ...  t1_cqug2sr\n",
              "1   1430438400  ...   t3_34fvry\n",
              "2   1430438400  ...  t1_cqu80zb\n",
              "3   1430438401  ...  t1_cqtdj4m\n",
              "4   1430438401  ...  t1_cquc4rc\n",
              "\n",
              "[5 rows x 10 columns]"
            ]
          },
          "metadata": {
            "tags": []
          },
          "execution_count": 4
        }
      ]
    },
    {
      "cell_type": "markdown",
      "metadata": {
        "id": "9IniLUL6jhoO"
      },
      "source": [
        "# (1) Observation des données \n",
        "Avant toutes manipulations des données, il est nécessaire de bien comprendre le contenu du jeu de données. "
      ]
    },
    {
      "cell_type": "code",
      "metadata": {
        "colab": {
          "base_uri": "https://localhost:8080/"
        },
        "id": "A_5Ebdtzn8rG",
        "outputId": "001c60c6-77e7-446e-dabc-71e5c04770c6"
      },
      "source": [
        "print(\"Nombre de colonnes/variables : %i \\nNombre de lignes : %i\" \\\n",
        "      %(df.shape[1], df.shape[0])) "
      ],
      "execution_count": null,
      "outputs": [
        {
          "output_type": "stream",
          "text": [
            "Nombre de colonnes/variables : 10 \n",
            "Nombre de lignes : 4234970\n"
          ],
          "name": "stdout"
        }
      ]
    },
    {
      "cell_type": "markdown",
      "metadata": {
        "id": "NJ9LQO6_rFjR"
      },
      "source": [
        "Avec ce jeu de données, nous disposons de 10 variables et de plus de 4,2 millions de commentaires Reddit. Observons leur type."
      ]
    },
    {
      "cell_type": "code",
      "metadata": {
        "colab": {
          "base_uri": "https://localhost:8080/"
        },
        "id": "F8nwA1JfrTA_",
        "outputId": "21567ffe-fa54-4302-b130-dfb1e7c06852"
      },
      "source": [
        "# Informations sur les types de variables\n",
        "print(df.info()) "
      ],
      "execution_count": null,
      "outputs": [
        {
          "output_type": "stream",
          "text": [
            "<class 'pandas.core.frame.DataFrame'>\n",
            "RangeIndex: 4234970 entries, 0 to 4234969\n",
            "Data columns (total 10 columns):\n",
            " #   Column        Dtype  \n",
            "---  ------        -----  \n",
            " 0   created_utc   int64  \n",
            " 1   ups           float64\n",
            " 2   subreddit_id  object \n",
            " 3   link_id       object \n",
            " 4   name          object \n",
            " 5   subreddit     object \n",
            " 6   id            object \n",
            " 7   author        object \n",
            " 8   body          object \n",
            " 9   parent_id     object \n",
            "dtypes: float64(1), int64(1), object(8)\n",
            "memory usage: 323.1+ MB\n",
            "None\n"
          ],
          "name": "stdout"
        }
      ]
    },
    {
      "cell_type": "markdown",
      "metadata": {
        "id": "Yftv4Vz7rJ5_"
      },
      "source": [
        "Parmi les 10 variables, 8 sont des variables qualitatives (chaine de caractères) et 2 quantitatives (dont une avec des valeurs entières `int` et l'autre des valeurs décimales `float`). \n",
        "\n",
        "Pour poursuivre notre observation, il peut être intéressant de tirer aléatoirement 10 commentaires, et d'observer le contenu des variables. Cela nous permettra de détailler le contenu de chacune des variables. "
      ]
    },
    {
      "cell_type": "code",
      "metadata": {
        "colab": {
          "base_uri": "https://localhost:8080/",
          "height": 363
        },
        "id": "ju2aFRk2vWk7",
        "outputId": "b90c152d-7efc-415a-e19c-e74c705117fa"
      },
      "source": [
        "# On indique à random la \"graine\" pour avoir un résultat identique à chaque \n",
        "# exécution (et donc des analyses qui correspondent aux résultats obtenus).\n",
        "random.seed(10)\n",
        "\n",
        "# On récupère 10 indexes aléatoirement parmi la liste des indexes du dataframe.\n",
        "index = random.sample(list(df.index), 10)\n",
        "\n",
        "# Et on affiche la partie du DataFrame correspondante.\n",
        "df.iloc[index]"
      ],
      "execution_count": null,
      "outputs": [
        {
          "output_type": "execute_result",
          "data": {
            "text/html": [
              "<div>\n",
              "<style scoped>\n",
              "    .dataframe tbody tr th:only-of-type {\n",
              "        vertical-align: middle;\n",
              "    }\n",
              "\n",
              "    .dataframe tbody tr th {\n",
              "        vertical-align: top;\n",
              "    }\n",
              "\n",
              "    .dataframe thead th {\n",
              "        text-align: right;\n",
              "    }\n",
              "</style>\n",
              "<table border=\"1\" class=\"dataframe\">\n",
              "  <thead>\n",
              "    <tr style=\"text-align: right;\">\n",
              "      <th></th>\n",
              "      <th>created_utc</th>\n",
              "      <th>ups</th>\n",
              "      <th>subreddit_id</th>\n",
              "      <th>link_id</th>\n",
              "      <th>name</th>\n",
              "      <th>subreddit</th>\n",
              "      <th>id</th>\n",
              "      <th>author</th>\n",
              "      <th>body</th>\n",
              "      <th>parent_id</th>\n",
              "    </tr>\n",
              "  </thead>\n",
              "  <tbody>\n",
              "    <tr>\n",
              "      <th>273343</th>\n",
              "      <td>1430625233</td>\n",
              "      <td>1.0</td>\n",
              "      <td>t5_2qh1i</td>\n",
              "      <td>t3_34nl4h</td>\n",
              "      <td>t1_cqwnxuc</td>\n",
              "      <td>AskReddit</td>\n",
              "      <td>cqwnxuc</td>\n",
              "      <td>IamtheRadar</td>\n",
              "      <td>I don't even care what they think, it's disapp...</td>\n",
              "      <td>t1_cqwh0l4</td>\n",
              "    </tr>\n",
              "    <tr>\n",
              "      <th>3597782</th>\n",
              "      <td>1432751839</td>\n",
              "      <td>NaN</td>\n",
              "      <td>t5_2qh1i</td>\n",
              "      <td>t3_37gspl</td>\n",
              "      <td>t1_crmr8wh</td>\n",
              "      <td>AskReddit</td>\n",
              "      <td>crmr8wh</td>\n",
              "      <td>Not_Prisoner</td>\n",
              "      <td>I used to work at a theater back in hs.  Our t...</td>\n",
              "      <td>t1_crml6bw</td>\n",
              "    </tr>\n",
              "    <tr>\n",
              "      <th>4048020</th>\n",
              "      <td>1432981048</td>\n",
              "      <td>NaN</td>\n",
              "      <td>t5_2qh1i</td>\n",
              "      <td>t3_37t5nq</td>\n",
              "      <td>t1_crps56a</td>\n",
              "      <td>AskReddit</td>\n",
              "      <td>crps56a</td>\n",
              "      <td>kane55</td>\n",
              "      <td>I grew up and went to high school in the 1980'...</td>\n",
              "      <td>t3_37t5nq</td>\n",
              "    </tr>\n",
              "    <tr>\n",
              "      <th>124423</th>\n",
              "      <td>1430514545</td>\n",
              "      <td>1.0</td>\n",
              "      <td>t5_2qh1i</td>\n",
              "      <td>t3_34huks</td>\n",
              "      <td>t1_cqvf80o</td>\n",
              "      <td>AskReddit</td>\n",
              "      <td>cqvf80o</td>\n",
              "      <td>pneighthaughn</td>\n",
              "      <td>I can throw most any knife and stick it in a t...</td>\n",
              "      <td>t3_34huks</td>\n",
              "    </tr>\n",
              "    <tr>\n",
              "      <th>1728877</th>\n",
              "      <td>1431552671</td>\n",
              "      <td>-1.0</td>\n",
              "      <td>t5_2qh1i</td>\n",
              "      <td>t3_35vj7q</td>\n",
              "      <td>t1_cr87esl</td>\n",
              "      <td>AskReddit</td>\n",
              "      <td>cr87esl</td>\n",
              "      <td>stas02</td>\n",
              "      <td>Moving to Somalia</td>\n",
              "      <td>t3_35vj7q</td>\n",
              "    </tr>\n",
              "    <tr>\n",
              "      <th>3880406</th>\n",
              "      <td>1432895575</td>\n",
              "      <td>NaN</td>\n",
              "      <td>t5_2qh1i</td>\n",
              "      <td>t3_37paiu</td>\n",
              "      <td>t1_cronyrp</td>\n",
              "      <td>AskReddit</td>\n",
              "      <td>cronyrp</td>\n",
              "      <td>Caaluminum</td>\n",
              "      <td>What's your aphrodisiac?</td>\n",
              "      <td>t1_cronutd</td>\n",
              "    </tr>\n",
              "    <tr>\n",
              "      <th>4121293</th>\n",
              "      <td>1433039433</td>\n",
              "      <td>NaN</td>\n",
              "      <td>t5_2qh1i</td>\n",
              "      <td>t3_37vv9d</td>\n",
              "      <td>t1_crqgrgv</td>\n",
              "      <td>AskReddit</td>\n",
              "      <td>crqgrgv</td>\n",
              "      <td>[deleted]</td>\n",
              "      <td>[deleted]</td>\n",
              "      <td>t3_37vv9d</td>\n",
              "    </tr>\n",
              "    <tr>\n",
              "      <th>2328012</th>\n",
              "      <td>1431937255</td>\n",
              "      <td>2.0</td>\n",
              "      <td>t5_2qh1i</td>\n",
              "      <td>t3_36ci3t</td>\n",
              "      <td>t1_crcrhvr</td>\n",
              "      <td>AskReddit</td>\n",
              "      <td>crcrhvr</td>\n",
              "      <td>GloboX38</td>\n",
              "      <td>Cyanide capsule. Two in one.</td>\n",
              "      <td>t3_36ci3t</td>\n",
              "    </tr>\n",
              "    <tr>\n",
              "      <th>1344102</th>\n",
              "      <td>1431321021</td>\n",
              "      <td>2.0</td>\n",
              "      <td>t5_2qh1i</td>\n",
              "      <td>t3_35jfjt</td>\n",
              "      <td>t1_cr587zj</td>\n",
              "      <td>AskReddit</td>\n",
              "      <td>cr587zj</td>\n",
              "      <td>DoinItDirty</td>\n",
              "      <td>Yeah man that happens</td>\n",
              "      <td>t1_cr584wl</td>\n",
              "    </tr>\n",
              "    <tr>\n",
              "      <th>288598</th>\n",
              "      <td>1430638715</td>\n",
              "      <td>1.0</td>\n",
              "      <td>t5_2qh1i</td>\n",
              "      <td>t3_34oc3u</td>\n",
              "      <td>t1_cqwrywm</td>\n",
              "      <td>AskReddit</td>\n",
              "      <td>cqwrywm</td>\n",
              "      <td>Trezzie</td>\n",
              "      <td>Good man. That issue is really painful. I did ...</td>\n",
              "      <td>t1_cqwrt7o</td>\n",
              "    </tr>\n",
              "  </tbody>\n",
              "</table>\n",
              "</div>"
            ],
            "text/plain": [
              "         created_utc  ...   parent_id\n",
              "273343    1430625233  ...  t1_cqwh0l4\n",
              "3597782   1432751839  ...  t1_crml6bw\n",
              "4048020   1432981048  ...   t3_37t5nq\n",
              "124423    1430514545  ...   t3_34huks\n",
              "1728877   1431552671  ...   t3_35vj7q\n",
              "3880406   1432895575  ...  t1_cronutd\n",
              "4121293   1433039433  ...   t3_37vv9d\n",
              "2328012   1431937255  ...   t3_36ci3t\n",
              "1344102   1431321021  ...  t1_cr584wl\n",
              "288598    1430638715  ...  t1_cqwrt7o\n",
              "\n",
              "[10 rows x 10 columns]"
            ]
          },
          "metadata": {
            "tags": []
          },
          "execution_count": 7
        }
      ]
    },
    {
      "cell_type": "markdown",
      "metadata": {
        "id": "Tvxtn69HseEA"
      },
      "source": [
        "Ce jeu de données contient un commentaire par ligne. Chaque commentaire est décrit avec les 10 attributs suivants :\n",
        "\n",
        "* La variable `created_utc` qui permet de connaitre le moment de publication du commentaire est au format 'UTC'. C'est une échelle de temps adoptée comme base du temps civil international par la majorité des pays du globe. Elle est comprise entre le temps atomique international (TAI) qui est stable mais déconnecté de la rotation de la Terre et le temps universel (TU), directement lié à la rotation de la Terre. <br> Concrétement, les données dans cette colonne correspond au nombre de secondes écoulées depuis le 1er janvier 1970 00:00:00. Aucune de ces valeurs ne peut être nulle. \n",
        "\n",
        "* `ups` est le score d'un commentaire, c'est-à-dire la somme de likes (+1) ou dislikes (-1) qu'il a générée. Les valeurs 'NaN' qu'on aperçoit signifie que ces commentaires constitue la base de test. C'est donc bien évidemment ce qu'on doit prédire. \n",
        "\n",
        "* `subreddit_id` correspond à l'identifiant du \"sous-reddit\", c'est-à-dire une sous-partie du site consacrée à un thème spécifique. On constate qu'il est indique pour les 10 commentaires tirés aléatoirement. On vérifiera si cette tendance est valable pour l'ensemble des commentaire, ou s'il y a des exceptions. \n",
        "\n",
        "* `link_id` permet de connaitre l'identifiant du lien dans lequel se trouve le commentaire. En d'autres termes, il permet de connaitre le post (le sujet / le topic) auquel le commentaire répond, soit une réponse direct au post, soit une réponse à un commentaire. \n",
        "\n",
        "* `name` correspond au nom complet du commentaire.\n",
        "\n",
        "* `subreddit` c'est l'équivalent de la colonne `subreddit_id` sauf qu'au lieu d'avoir un identifiant, on a ici le nom complet, à savoir ici \"AskReddit\". Comme pour `subreddit_id`, il faudra vérifier si les valeurs sont identiques pour chaque commentaire. Si c'est effectivement le cas, cette colonne n'apporte donc aucune information. \n",
        "\n",
        "* `id` correspond à l'identifiant du commentaire. Cet attribut est strictement équivalent à `name`, sauf qu'il ne comporte pas le type 't1_' en préfixe. \n",
        "\n",
        "* `author` correspond au pseudo de la personne qui a écrit le commentaire. On s'aperçoit que certain compte on été supprimé (valeur `[deleted]`). \n",
        "\n",
        "* `body` correspond au contenu du commentaire. Comme pour l'auteur, ce contenu peut avoir été supprimé. \n",
        "\n",
        "* Enfin, la colonne `parent_id`, nous permet de connaitre l'identifiant de l'élement auquel le commentaire répond. Ca peut être une réponse à un post (dans ce cas là l'identifiant sera précédé de 't3_') ou une réponse à un commentaire le préfixe sera alors 't1_'). \n",
        "<br>\n",
        "Désormais, nous pouvons vérifier que notre supposition concernant les types d'éléments (t1=commentaire, t3=post/sujet/topic et t5=subreddit) est justifiée :"
      ]
    },
    {
      "cell_type": "code",
      "metadata": {
        "colab": {
          "base_uri": "https://localhost:8080/"
        },
        "id": "moFRj7a3SJ-Y",
        "outputId": "a479f7ec-22d2-4e15-aa61-9d15535049a3"
      },
      "source": [
        "list_col = ['name', 'link_id', 'subreddit_id']\n",
        "list_elem = ['comment', 'post', 'subreddit']\n",
        "for column, elem in zip(list_col, list_elem):\n",
        "    print(\"List of unique prefixes for %s  = % s\" %\n",
        "          (elem, df[column].apply(lambda x: x[:2]).unique()))"
      ],
      "execution_count": null,
      "outputs": [
        {
          "output_type": "stream",
          "text": [
            "List of unique prefixes for comment  = ['t1']\n",
            "List of unique prefixes for post  = ['t3']\n",
            "List of unique prefixes for subreddit  = ['t5']\n"
          ],
          "name": "stdout"
        }
      ]
    },
    {
      "cell_type": "markdown",
      "metadata": {
        "id": "kZf2BvPPT4Cn"
      },
      "source": [
        "Notre intuition était donc la bonne. Nous pouvons connaitre le type d'un élément grâce à son préfixe. \n",
        "<br> <br>\n",
        "Pour finir, analysons un tableau renseignant des informations plus précises sur chaque variable : la moyenne (pour les variables numériques), la fréquence, l'élément qui apparait le plus souvent etc. "
      ]
    },
    {
      "cell_type": "code",
      "metadata": {
        "colab": {
          "base_uri": "https://localhost:8080/",
          "height": 394
        },
        "id": "vkMcPmS0vWuC",
        "outputId": "c6357b7a-9ae8-4d78-9530-63c9907da9e9"
      },
      "source": [
        "# Tableau récapitulatif \n",
        "df.iloc[:,range(0,10)].describe(include='all')"
      ],
      "execution_count": null,
      "outputs": [
        {
          "output_type": "execute_result",
          "data": {
            "text/html": [
              "<div>\n",
              "<style scoped>\n",
              "    .dataframe tbody tr th:only-of-type {\n",
              "        vertical-align: middle;\n",
              "    }\n",
              "\n",
              "    .dataframe tbody tr th {\n",
              "        vertical-align: top;\n",
              "    }\n",
              "\n",
              "    .dataframe thead th {\n",
              "        text-align: right;\n",
              "    }\n",
              "</style>\n",
              "<table border=\"1\" class=\"dataframe\">\n",
              "  <thead>\n",
              "    <tr style=\"text-align: right;\">\n",
              "      <th></th>\n",
              "      <th>created_utc</th>\n",
              "      <th>ups</th>\n",
              "      <th>subreddit_id</th>\n",
              "      <th>link_id</th>\n",
              "      <th>name</th>\n",
              "      <th>subreddit</th>\n",
              "      <th>id</th>\n",
              "      <th>author</th>\n",
              "      <th>body</th>\n",
              "      <th>parent_id</th>\n",
              "    </tr>\n",
              "  </thead>\n",
              "  <tbody>\n",
              "    <tr>\n",
              "      <th>count</th>\n",
              "      <td>4.234970e+06</td>\n",
              "      <td>3.218512e+06</td>\n",
              "      <td>4234970</td>\n",
              "      <td>4234970</td>\n",
              "      <td>4234970</td>\n",
              "      <td>4234970</td>\n",
              "      <td>4234970</td>\n",
              "      <td>4234970</td>\n",
              "      <td>4234909</td>\n",
              "      <td>4234970</td>\n",
              "    </tr>\n",
              "    <tr>\n",
              "      <th>unique</th>\n",
              "      <td>NaN</td>\n",
              "      <td>NaN</td>\n",
              "      <td>1</td>\n",
              "      <td>148848</td>\n",
              "      <td>4234970</td>\n",
              "      <td>1</td>\n",
              "      <td>4234970</td>\n",
              "      <td>570735</td>\n",
              "      <td>3675455</td>\n",
              "      <td>1464558</td>\n",
              "    </tr>\n",
              "    <tr>\n",
              "      <th>top</th>\n",
              "      <td>NaN</td>\n",
              "      <td>NaN</td>\n",
              "      <td>t5_2qh1i</td>\n",
              "      <td>t3_37c2p3</td>\n",
              "      <td>t1_cr5jarg</td>\n",
              "      <td>AskReddit</td>\n",
              "      <td>crhb55q</td>\n",
              "      <td>[deleted]</td>\n",
              "      <td>[deleted]</td>\n",
              "      <td>t3_37pr7d</td>\n",
              "    </tr>\n",
              "    <tr>\n",
              "      <th>freq</th>\n",
              "      <td>NaN</td>\n",
              "      <td>NaN</td>\n",
              "      <td>4234970</td>\n",
              "      <td>35812</td>\n",
              "      <td>1</td>\n",
              "      <td>4234970</td>\n",
              "      <td>1</td>\n",
              "      <td>312007</td>\n",
              "      <td>284241</td>\n",
              "      <td>30771</td>\n",
              "    </tr>\n",
              "    <tr>\n",
              "      <th>mean</th>\n",
              "      <td>1.431798e+09</td>\n",
              "      <td>1.274048e+01</td>\n",
              "      <td>NaN</td>\n",
              "      <td>NaN</td>\n",
              "      <td>NaN</td>\n",
              "      <td>NaN</td>\n",
              "      <td>NaN</td>\n",
              "      <td>NaN</td>\n",
              "      <td>NaN</td>\n",
              "      <td>NaN</td>\n",
              "    </tr>\n",
              "    <tr>\n",
              "      <th>std</th>\n",
              "      <td>7.720695e+05</td>\n",
              "      <td>1.257486e+02</td>\n",
              "      <td>NaN</td>\n",
              "      <td>NaN</td>\n",
              "      <td>NaN</td>\n",
              "      <td>NaN</td>\n",
              "      <td>NaN</td>\n",
              "      <td>NaN</td>\n",
              "      <td>NaN</td>\n",
              "      <td>NaN</td>\n",
              "    </tr>\n",
              "    <tr>\n",
              "      <th>min</th>\n",
              "      <td>1.430438e+09</td>\n",
              "      <td>-3.330000e+02</td>\n",
              "      <td>NaN</td>\n",
              "      <td>NaN</td>\n",
              "      <td>NaN</td>\n",
              "      <td>NaN</td>\n",
              "      <td>NaN</td>\n",
              "      <td>NaN</td>\n",
              "      <td>NaN</td>\n",
              "      <td>NaN</td>\n",
              "    </tr>\n",
              "    <tr>\n",
              "      <th>25%</th>\n",
              "      <td>1.431104e+09</td>\n",
              "      <td>1.000000e+00</td>\n",
              "      <td>NaN</td>\n",
              "      <td>NaN</td>\n",
              "      <td>NaN</td>\n",
              "      <td>NaN</td>\n",
              "      <td>NaN</td>\n",
              "      <td>NaN</td>\n",
              "      <td>NaN</td>\n",
              "      <td>NaN</td>\n",
              "    </tr>\n",
              "    <tr>\n",
              "      <th>50%</th>\n",
              "      <td>1.431802e+09</td>\n",
              "      <td>1.000000e+00</td>\n",
              "      <td>NaN</td>\n",
              "      <td>NaN</td>\n",
              "      <td>NaN</td>\n",
              "      <td>NaN</td>\n",
              "      <td>NaN</td>\n",
              "      <td>NaN</td>\n",
              "      <td>NaN</td>\n",
              "      <td>NaN</td>\n",
              "    </tr>\n",
              "    <tr>\n",
              "      <th>75%</th>\n",
              "      <td>1.432483e+09</td>\n",
              "      <td>2.000000e+00</td>\n",
              "      <td>NaN</td>\n",
              "      <td>NaN</td>\n",
              "      <td>NaN</td>\n",
              "      <td>NaN</td>\n",
              "      <td>NaN</td>\n",
              "      <td>NaN</td>\n",
              "      <td>NaN</td>\n",
              "      <td>NaN</td>\n",
              "    </tr>\n",
              "    <tr>\n",
              "      <th>max</th>\n",
              "      <td>1.433117e+09</td>\n",
              "      <td>6.761000e+03</td>\n",
              "      <td>NaN</td>\n",
              "      <td>NaN</td>\n",
              "      <td>NaN</td>\n",
              "      <td>NaN</td>\n",
              "      <td>NaN</td>\n",
              "      <td>NaN</td>\n",
              "      <td>NaN</td>\n",
              "      <td>NaN</td>\n",
              "    </tr>\n",
              "  </tbody>\n",
              "</table>\n",
              "</div>"
            ],
            "text/plain": [
              "         created_utc           ups  ...       body  parent_id\n",
              "count   4.234970e+06  3.218512e+06  ...    4234909    4234970\n",
              "unique           NaN           NaN  ...    3675455    1464558\n",
              "top              NaN           NaN  ...  [deleted]  t3_37pr7d\n",
              "freq             NaN           NaN  ...     284241      30771\n",
              "mean    1.431798e+09  1.274048e+01  ...        NaN        NaN\n",
              "std     7.720695e+05  1.257486e+02  ...        NaN        NaN\n",
              "min     1.430438e+09 -3.330000e+02  ...        NaN        NaN\n",
              "25%     1.431104e+09  1.000000e+00  ...        NaN        NaN\n",
              "50%     1.431802e+09  1.000000e+00  ...        NaN        NaN\n",
              "75%     1.432483e+09  2.000000e+00  ...        NaN        NaN\n",
              "max     1.433117e+09  6.761000e+03  ...        NaN        NaN\n",
              "\n",
              "[11 rows x 10 columns]"
            ]
          },
          "metadata": {
            "tags": []
          },
          "execution_count": 9
        }
      ]
    },
    {
      "cell_type": "markdown",
      "metadata": {
        "id": "c0RBZ6-35KIx"
      },
      "source": [
        "* La ligne `count` nous permet de connaitre le nombre de ligne non-nulles pour chaque variable. On constate que seules deux variables ont des valeurs nulles : `ups` et `body`. Pour la première, ce n'est pas une surprise puisqu'on sait qu'une partie des commentaires est réservée à l'échantillon \"test\" et n'a donc pas de score. En revanche, pour la variable `body` c'est plus contrayant. En effet, les valeurs nulles peuvent empecher les algorithmes de machine learning de fonctionner corrrectement. Il faudra modifier ces valeurs en les remplaçant par \"[deleted]\". \n",
        "\n",
        "* `unique` nous permet de savoir le nombre d'élements distincts que comporte chaque variable. On a donc la confirmation que les variables `subreddit_id` et `subreddit` ont la même valeur pour tous les commentaires, ce sont donc deux colonnes <strong> inutiles </strong>.  <br>\n",
        "On apprend également qu'il y a 148 900 sujets/posts et 570 000 auteurs différents. <br> \n",
        "En revanche, les identifiants et noms de commenatires sont bien uniques. \n",
        "\n",
        "* Les deux lignes suivantes (`top` et `freq`), nous permet de connaitre l'élément qui apparait le plus souvent pour une variable, et son nombre d'apparition. <br> \n",
        "On constate par exemple que le sujet le plus commenté (directement ou indirectement) porte l'identifiant \"t3_37c2p3\", il a reçu près de 36 000 commentaires. <br>\n",
        "Une information qu'il ne faut pas confondre avec celle de la colonne `parent_id`. Effectivement, avec celle-ci on constate que le commentaire qui a reçu le plus de commentaires DIRECTEMENT (sans compter les commentaires de commentaires) est le 't3_37pr7d' avec plus de 30 000 commentaires directs. <br> \n",
        "On constate également que pour 312 000 commentaires, l'auteur a été supprimé. Pour 284 000 commentaires, c'est le body qui n'existe plus. \n",
        "\n",
        "* Enfin, pour les variables numériques, on peut remarquer que le score (`ups`) maximal est de 6761 alors que le plus bas est de -333. En moyenne le score est de 12,7. A noter qu'au moins 50% des scores sont inférieurs ou égaux à 1. <br> \n",
        "Concernant l'heure, tous les commentaires ont été écrits entre 1430438400 (soit le 1er Mai 2015 à 0h 00min 00s) et 1433116799 (soit le 31 Mai 2015 à 23h 59min 59s). \n"
      ]
    },
    {
      "cell_type": "markdown",
      "metadata": {
        "id": "rK3v6GqqzpuX"
      },
      "source": [
        "<strong>BILAN : </strong><br>\n",
        "Après avoir observé et analysé les données mises à notre disposions, voici les principaux enseignants que nous avons pû faire.<br> \n",
        "- Tous les commentaires proviennent de la même sous-partie du site 'Reddit', à savoir la partie \"AskReddit\". Dans cette partie, les utilisateurs peuvent soumettre des questions ouvertes auxquelles d'autres utilisateurs peuvent ensuite répondre. En juillet 2015, AskReddit était le sous-reddit le plus populaire de tout le Reddit et en février 2020, il comptait 26 millions de membres. Ainsi l'information apportée par les variables \"subreddit_id\" et \"subreddit\" est identique pour chaque article. Elles ne nous permettront pas de prédire le score d'un commentaire. Il faudra donc les supprimer lors de l'étape suivante.\n",
        "<br> \n",
        "- Ensuite, nous avons compris la différence entre les 3 préfixes 't1', 't3' et 't5'. Ils permettent de connaitre à quel élément du site l'identifiant correspond. En effet, un identifiant de commentaire aura pour préfixe 't1', un post/sujet aura le préfixe 't3' et le subreddit 't5'. \n",
        "<br> \n",
        "- Ainsi, pour chaque commentaire nous aurons : son identifiant et son nom (nous n'en garderons que le nom car l'identifiant n'est rien d'autre que le nom sans le préfixe 't1'), l'identifiant de son parent (post 't3' ou autre commentaire 't1'), et l'identifiant du post auquel il répond directement ou pas. Sans oublier, son heure de publication, son auteur, son contenu et son socre (uniquement pour l'échantillon d'apprentissage). "
      ]
    },
    {
      "cell_type": "markdown",
      "metadata": {
        "id": "Z6xQjj0g8i3x"
      },
      "source": [
        "# (2) Nettoyage des données\n",
        "Après avoir observé attentivement les données, nous pouvons passer à une première phase de nettoyage. <br>\n",
        "En Machine Learning, on utilise généralement la méthode dites « des 4C » (pour ‘Correcting’, ‘Completing’, ‘Creating’ et ‘Converting’) pour nettoyer le jeu de données.\n",
        "- 'Correcting' = modifier ou supprimer les valeurs incohérentes.\n",
        "- 'Completing' = remplacer les valeurs nulles (les valeurs manquantes)\n",
        "- 'Creating' = utiliser des variables existantes pour en créer de nouvelles\n",
        "- 'Converting' = formater les types des variables\n",
        "<br>\n",
        "<br> "
      ]
    },
    {
      "cell_type": "markdown",
      "metadata": {
        "id": "STY7_CfLmPzC"
      },
      "source": [
        "### 2-1 Correcting \n",
        "Suite à notre observation des données dans la première partie, nous avons pu détecter que certaines variables pouvaient être supprimées car leurs informations n'apportent aucune distinction entre les commentaires (`subreddit` et `subreddit_id`) ou une information redondante (`id`). C'est lors de la phase 'Correcting' que nous supprimons ou modifions les valeurs inutiles ou incohérentes. "
      ]
    },
    {
      "cell_type": "code",
      "metadata": {
        "id": "hbub3Itsrrql",
        "colab": {
          "base_uri": "https://localhost:8080/"
        },
        "outputId": "51f3d309-6c92-474b-80d3-fde4c42d99c7"
      },
      "source": [
        "# Colonne à supprimer\n",
        "column_to_delete  = [\"subreddit_id\", \"subreddit\", \"id\"]\n",
        "\n",
        "# Suppressions des colonnes \n",
        "df = df.drop(columns=column_to_delete)\n",
        "\n",
        "# Vérification \n",
        "print(df.columns)"
      ],
      "execution_count": null,
      "outputs": [
        {
          "output_type": "stream",
          "text": [
            "Index(['created_utc', 'ups', 'link_id', 'name', 'author', 'body', 'parent_id'], dtype='object')\n"
          ],
          "name": "stdout"
        }
      ]
    },
    {
      "cell_type": "markdown",
      "metadata": {
        "id": "toKGrVN6nRBa"
      },
      "source": [
        "Dans l'optique du traitement de texte que nous effectuerons prochainement, nous pensons qu'il est plus utile de remplacer le contenu des commentaires supprimés (`[deleted]`) par une chaîne vide. "
      ]
    },
    {
      "cell_type": "code",
      "metadata": {
        "id": "5H5bbWzwSGPx"
      },
      "source": [
        "# On chaque contenu du commentaire qui vaut '[deleted]' on le remplace par\n",
        "# une chaîne vide.\n",
        "df['body'] = df['body'].apply(\n",
        "    lambda x: '' if x is not np.nan and x == '[deleted]' else x)"
      ],
      "execution_count": null,
      "outputs": []
    },
    {
      "cell_type": "markdown",
      "metadata": {
        "id": "5TRaoqx6K_nx"
      },
      "source": [
        "### 2-2 Completing\n",
        "L’étape ‘Completing’ a pour but de remplacer les valeurs nulles (les valeurs manquantes). Cette étape est nécessaire car certains algorithmes de Machine Learning ne savent pas comment traiter ces valeurs et échoueront. \n",
        "<br><br>  \n",
        "Pour rappel, nous avons vu juste au-dessus que seuls deux attributs avaient des valeurs nulles : `ups` et `body`. Pour `ups` ce n'est pas une anomalie, puisque les valeurs nulles permettent d'identifier les commentaires constituant l'échantillon de test. En revanche les valeurs nulles pour la variable `body` sont plus à risque et ils faut les modifier. On choisi simplement de les remplacer par une chaîne vide. "
      ]
    },
    {
      "cell_type": "code",
      "metadata": {
        "id": "n5KBcHSfrrty",
        "colab": {
          "base_uri": "https://localhost:8080/"
        },
        "outputId": "3c829788-8ed1-4faf-a09c-59d72f616bcc"
      },
      "source": [
        "print(\"Number of null values BEFORE the completing step : \",\n",
        "      np.sum(df['body'].isnull()))\n",
        "\n",
        "# On remplace les valeurs nulles par une chaîne vide\n",
        "df['body'] = df['body'].fillna('')\n",
        "\n",
        "print(\"Number of null values AFTER the completing step : \",\n",
        "      np.sum(df['body'].isnull()))"
      ],
      "execution_count": null,
      "outputs": [
        {
          "output_type": "stream",
          "text": [
            "Number of null values BEFORE the completing step :  61\n",
            "Number of null values AFTER the completing step :  0\n"
          ],
          "name": "stdout"
        }
      ]
    },
    {
      "cell_type": "markdown",
      "metadata": {
        "id": "NvOtIUJ-N3au"
      },
      "source": [
        "### 2-3 Créating\n",
        "L'objectif de cette étape est d'utiliser des variables existantes pour en créer de nouvelles. <br> <br> \n",
        "Même si la définition et l'implémentation de nouvelles features constituera une étape essentielle du projet par la suite, nous pouvons dès à présent créer de nouvelles variables à partir des variables existantes. <br> \n",
        "Par exemple, pour ce qui concerne le parent d'un commenataire, il peut-être intéressant de séparer son identifiant et son type. En effet, garder l'identifiant permettra de savoir s'il répond à un commentaire ou post populaire (avec un score élevé donc). De plus, avoir une variable permettant de savoir si le parent est directement un post ou juste un commentaire, peut être un indicateur pour prédire le score. Certes, ces deux informations sont actuellement regroupées dans le même variable, mais nous jugeons plus pertinent (et espérons que cela aidera l'algorithme à mieux prédire) de séparer ces deux informations en deux variables distinctes. "
      ]
    },
    {
      "cell_type": "code",
      "metadata": {
        "colab": {
          "base_uri": "https://localhost:8080/"
        },
        "id": "XVwWXkYzKwfv",
        "outputId": "035340f2-48b1-424d-9498-85624d8b50eb"
      },
      "source": [
        "# On crée une nouvelle variable pour le type du parent. \n",
        "# On garde donc les deux premiers caractères de la variable 'parent_id'.\n",
        "df['parent_type'] = df['parent_id'].apply(lambda x : x[:2])\n",
        "\n",
        "# Vérification : On est censé avoir deux valeurs : 't1' (pour les commentaires) \n",
        "# ou 't3' (pour les posts).\n",
        "print(df['parent_type'].unique())"
      ],
      "execution_count": null,
      "outputs": [
        {
          "output_type": "stream",
          "text": [
            "['t1' 't3']\n"
          ],
          "name": "stdout"
        }
      ]
    },
    {
      "cell_type": "markdown",
      "metadata": {
        "id": "zWiNUJ7ho6Je"
      },
      "source": [
        "On crée également deux variables binaires permettant de savoir si l'auteur et/ou le contenu d'un commentaire a été supprimé ou non. "
      ]
    },
    {
      "cell_type": "code",
      "metadata": {
        "id": "LGCdyDJOKwso",
        "colab": {
          "base_uri": "https://localhost:8080/"
        },
        "outputId": "e26c3e9f-084c-4db0-90ef-5e4ce5058999"
      },
      "source": [
        "# On donne la valeur 1 si l'auteur a été supprimé ('[deleted]'), 0 sinon.\n",
        "df['is_author_deleted'] = df['author'].apply(\n",
        "    lambda x: 1 if x == '[deleted]' else 0)\n",
        "\n",
        "# Vérification : On est censé avoir deux valeurs : 1 et 0.\n",
        "print(df['is_author_deleted'].unique())"
      ],
      "execution_count": null,
      "outputs": [
        {
          "output_type": "stream",
          "text": [
            "[0 1]\n"
          ],
          "name": "stdout"
        }
      ]
    },
    {
      "cell_type": "code",
      "metadata": {
        "colab": {
          "base_uri": "https://localhost:8080/"
        },
        "id": "V1LkWMlFzc1y",
        "outputId": "95bb722a-b772-4b3f-83ab-0eafaf359884"
      },
      "source": [
        "# Même chose pour le body.\n",
        "df['is_body_deleted'] = df['body'].apply(lambda x: 1 if x == '' else 0)\n",
        "\n",
        "# Vérification : On est censé avoir deux valeurs : 1 et 0.\n",
        "print(df['is_body_deleted'].unique())"
      ],
      "execution_count": null,
      "outputs": [
        {
          "output_type": "stream",
          "text": [
            "[0 1]\n"
          ],
          "name": "stdout"
        }
      ]
    },
    {
      "cell_type": "markdown",
      "metadata": {
        "id": "lfI-FCV8UZ6t"
      },
      "source": [
        "### 2-4 Converting \n",
        "Enfin, la quatrième et ultime étape consiste à formater les types des variables. \n",
        "\n",
        "Dans notre exemple, il peut être plus pertinent de transformer la variable `parent_type` en variable binaire (plutôt que de garder une variable qualitative). On renomme donc cette variable `parentIsComment`, elle vaudra 1 quand le parent du commentaire est lui aussi un commentaire, 0 sinon (si c'est un post). \n"
      ]
    },
    {
      "cell_type": "code",
      "metadata": {
        "colab": {
          "base_uri": "https://localhost:8080/"
        },
        "id": "TAC8hVgcKwz8",
        "outputId": "f4bb2139-52e1-4bc5-e05f-b2f95e8a51b8"
      },
      "source": [
        "# Conversion \n",
        "df['parent_type'] = df['parent_type'].apply(lambda x: 1 if x == 't1' else 0)\n",
        "\n",
        "# Renommage\n",
        "df = df.rename(columns={'parent_type': 'is_parent_comment'})\n",
        "\n",
        "# Vérification \n",
        "df['is_parent_comment'].head()"
      ],
      "execution_count": null,
      "outputs": [
        {
          "output_type": "execute_result",
          "data": {
            "text/plain": [
              "0    1\n",
              "1    0\n",
              "2    1\n",
              "3    1\n",
              "4    1\n",
              "Name: is_parent_comment, dtype: int64"
            ]
          },
          "metadata": {
            "tags": []
          },
          "execution_count": 16
        }
      ]
    },
    {
      "cell_type": "markdown",
      "metadata": {
        "id": "fPrJ8fos85KO"
      },
      "source": [
        "# Bilan & Sauvegarde \n",
        "On observe le contenu des premières lignes du DataFrame modifié, et on le sauvegarde dans un fichier pour qu'il puisse être réutiliser dans les Notebooks suivants (qui auront pour but de créer les features). "
      ]
    },
    {
      "cell_type": "code",
      "metadata": {
        "id": "jdZzylW0rxS-",
        "colab": {
          "base_uri": "https://localhost:8080/",
          "height": 206
        },
        "outputId": "6c27e8c1-f105-4b4c-f9c6-38e8cd6dbe1f"
      },
      "source": [
        "# Aperçu avant sauvegarde\n",
        "df.head()"
      ],
      "execution_count": null,
      "outputs": [
        {
          "output_type": "execute_result",
          "data": {
            "text/html": [
              "<div>\n",
              "<style scoped>\n",
              "    .dataframe tbody tr th:only-of-type {\n",
              "        vertical-align: middle;\n",
              "    }\n",
              "\n",
              "    .dataframe tbody tr th {\n",
              "        vertical-align: top;\n",
              "    }\n",
              "\n",
              "    .dataframe thead th {\n",
              "        text-align: right;\n",
              "    }\n",
              "</style>\n",
              "<table border=\"1\" class=\"dataframe\">\n",
              "  <thead>\n",
              "    <tr style=\"text-align: right;\">\n",
              "      <th></th>\n",
              "      <th>created_utc</th>\n",
              "      <th>ups</th>\n",
              "      <th>link_id</th>\n",
              "      <th>name</th>\n",
              "      <th>author</th>\n",
              "      <th>body</th>\n",
              "      <th>parent_id</th>\n",
              "      <th>is_parent_comment</th>\n",
              "      <th>is_author_deleted</th>\n",
              "      <th>is_body_deleted</th>\n",
              "    </tr>\n",
              "  </thead>\n",
              "  <tbody>\n",
              "    <tr>\n",
              "      <th>0</th>\n",
              "      <td>1430438400</td>\n",
              "      <td>3.0</td>\n",
              "      <td>t3_34f9rh</td>\n",
              "      <td>t1_cqug90j</td>\n",
              "      <td>jesse9o3</td>\n",
              "      <td>No one has a European accent either  because i...</td>\n",
              "      <td>t1_cqug2sr</td>\n",
              "      <td>1</td>\n",
              "      <td>0</td>\n",
              "      <td>0</td>\n",
              "    </tr>\n",
              "    <tr>\n",
              "      <th>1</th>\n",
              "      <td>1430438400</td>\n",
              "      <td>3.0</td>\n",
              "      <td>t3_34fvry</td>\n",
              "      <td>t1_cqug90k</td>\n",
              "      <td>beltfedshooter</td>\n",
              "      <td>That the kid ..reminds me of Kevin.   so sad :-(</td>\n",
              "      <td>t3_34fvry</td>\n",
              "      <td>0</td>\n",
              "      <td>0</td>\n",
              "      <td>0</td>\n",
              "    </tr>\n",
              "    <tr>\n",
              "      <th>2</th>\n",
              "      <td>1430438400</td>\n",
              "      <td>5.0</td>\n",
              "      <td>t3_34ffo5</td>\n",
              "      <td>t1_cqug90z</td>\n",
              "      <td>InterimFatGuy</td>\n",
              "      <td>NSFL</td>\n",
              "      <td>t1_cqu80zb</td>\n",
              "      <td>1</td>\n",
              "      <td>0</td>\n",
              "      <td>0</td>\n",
              "    </tr>\n",
              "    <tr>\n",
              "      <th>3</th>\n",
              "      <td>1430438401</td>\n",
              "      <td>1.0</td>\n",
              "      <td>t3_34aqsn</td>\n",
              "      <td>t1_cqug91c</td>\n",
              "      <td>JuanTutrego</td>\n",
              "      <td>I'm a guy and I had no idea this was a thing g...</td>\n",
              "      <td>t1_cqtdj4m</td>\n",
              "      <td>1</td>\n",
              "      <td>0</td>\n",
              "      <td>0</td>\n",
              "    </tr>\n",
              "    <tr>\n",
              "      <th>4</th>\n",
              "      <td>1430438401</td>\n",
              "      <td>101.0</td>\n",
              "      <td>t3_34f9rh</td>\n",
              "      <td>t1_cqug91e</td>\n",
              "      <td>dcblackbelt</td>\n",
              "      <td>Mid twenties male rocking skinny jeans/pants, ...</td>\n",
              "      <td>t1_cquc4rc</td>\n",
              "      <td>1</td>\n",
              "      <td>0</td>\n",
              "      <td>0</td>\n",
              "    </tr>\n",
              "  </tbody>\n",
              "</table>\n",
              "</div>"
            ],
            "text/plain": [
              "   created_utc    ups  ... is_author_deleted is_body_deleted\n",
              "0   1430438400    3.0  ...                 0               0\n",
              "1   1430438400    3.0  ...                 0               0\n",
              "2   1430438400    5.0  ...                 0               0\n",
              "3   1430438401    1.0  ...                 0               0\n",
              "4   1430438401  101.0  ...                 0               0\n",
              "\n",
              "[5 rows x 10 columns]"
            ]
          },
          "metadata": {
            "tags": []
          },
          "execution_count": 17
        }
      ]
    },
    {
      "cell_type": "code",
      "metadata": {
        "id": "x00JT5EK72ig"
      },
      "source": [
        "# Sauvegarde DataFrame dans un fichier \n",
        "df.to_json(pathFile + \"df_clean.json\")"
      ],
      "execution_count": null,
      "outputs": []
    },
    {
      "cell_type": "code",
      "metadata": {
        "id": "dLaWTST9h0dt"
      },
      "source": [
        ""
      ],
      "execution_count": null,
      "outputs": []
    }
  ]
}